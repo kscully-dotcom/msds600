{
 "cells": [
  {
   "cell_type": "markdown",
   "metadata": {},
   "source": [
    "# Week 6: Recommender Systems"
   ]
  },
  {
   "cell_type": "markdown",
   "metadata": {},
   "source": [
    "Recommender systems can be useful for e-commerce and other applications such as music, video, or other services. Although we can use complex mathematic methods and algorithms to create recommender systems, we can also use simple methods. Part of this FTE is inspired from materials [here](http://guidetodatamining.com/assets/guideChapters/DataMining-ch2.pdf). We will look at a few different distance metrics that can be used to find similar users (collaborative filtering)."
   ]
  },
  {
   "cell_type": "markdown",
   "metadata": {},
   "source": [
    "# Load and explore data"
   ]
  },
  {
   "cell_type": "code",
   "execution_count": 4,
   "metadata": {},
   "outputs": [],
   "source": [
    "import numpy as np\n",
    "import pandas as pd\n",
    "import matplotlib.pyplot as plt\n",
    "%matplotlib inline"
   ]
  },
  {
   "cell_type": "markdown",
   "metadata": {},
   "source": [
    "First, we'll create a dataframe with ratings of genres by people:"
   ]
  },
  {
   "cell_type": "code",
   "execution_count": 5,
   "metadata": {},
   "outputs": [
    {
     "data": {
      "text/html": [
       "<div>\n",
       "<style scoped>\n",
       "    .dataframe tbody tr th:only-of-type {\n",
       "        vertical-align: middle;\n",
       "    }\n",
       "\n",
       "    .dataframe tbody tr th {\n",
       "        vertical-align: top;\n",
       "    }\n",
       "\n",
       "    .dataframe thead th {\n",
       "        text-align: right;\n",
       "    }\n",
       "</style>\n",
       "<table border=\"1\" class=\"dataframe\">\n",
       "  <thead>\n",
       "    <tr style=\"text-align: right;\">\n",
       "      <th></th>\n",
       "      <th>Action</th>\n",
       "      <th>Comedy</th>\n",
       "    </tr>\n",
       "  </thead>\n",
       "  <tbody>\n",
       "    <tr>\n",
       "      <th>Amy</th>\n",
       "      <td>4</td>\n",
       "      <td>2</td>\n",
       "    </tr>\n",
       "    <tr>\n",
       "      <th>Bill</th>\n",
       "      <td>1</td>\n",
       "      <td>4</td>\n",
       "    </tr>\n",
       "    <tr>\n",
       "      <th>Clark</th>\n",
       "      <td>1</td>\n",
       "      <td>3</td>\n",
       "    </tr>\n",
       "  </tbody>\n",
       "</table>\n",
       "</div>"
      ],
      "text/plain": [
       "       Action  Comedy\n",
       "Amy         4       2\n",
       "Bill        1       4\n",
       "Clark       1       3"
      ]
     },
     "execution_count": 5,
     "metadata": {},
     "output_type": "execute_result"
    }
   ],
   "source": [
    "ratings = np.array([[4, 2],\n",
    "                    [1, 4],\n",
    "                    [1, 3]])\n",
    "df = pd.DataFrame(data=ratings, columns = ['Action', 'Comedy'], index = ['Amy', 'Bill', 'Clark'])\n",
    "df"
   ]
  },
  {
   "cell_type": "markdown",
   "metadata": {},
   "source": [
    "In this situation, we want to make a recommendation to Clark based on movies other people have seen (collaborative filtering).\n",
    "\n",
    "We can see Bill and Clark have similar ratings and both like comedy, so we might be able to recommend a comedy to Clark that Bill has seen. We can look at how some of the different distance metrics can be used to measure similarity here."
   ]
  },
  {
   "cell_type": "code",
   "execution_count": 6,
   "metadata": {},
   "outputs": [
    {
     "data": {
      "text/plain": [
       "Text(0, 0.5, 'Comedy')"
      ]
     },
     "execution_count": 6,
     "metadata": {},
     "output_type": "execute_result"
    },
    {
     "data": {
      "image/png": "[encoded data removed]",
      "text/plain": [
       "<Figure size 432x288 with 1 Axes>"
      ]
     },
     "metadata": {
      "needs_background": "light"
     },
     "output_type": "display_data"
    }
   ],
   "source": [
    "plt.scatter(df.loc['Amy', 'Action'], df.loc['Amy', 'Comedy'], color='Red', label='Amy')\n",
    "plt.scatter(df.loc['Bill', 'Action'], df.loc['Bill', 'Comedy'], color='Blue', label='Bill')\n",
    "plt.scatter(df.loc['Clark', 'Action'], df.loc['Clark', 'Comedy'], color='Green', label='Clark')\n",
    "plt.legend()\n",
    "plt.title(\"Amy, Bill, and Clark's Movie Genere Rating\")\n",
    "plt.xlabel('Action')\n",
    "plt.ylabel('Comedy')"
   ]
  },
  {
   "cell_type": "markdown",
   "metadata": {},
   "source": [
    "Now we can see visually that Bill and Clark's preferencs look similar."
   ]
  },
  {
   "cell_type": "markdown",
   "metadata": {},
   "source": [
    "# Euclidean distance"
   ]
  },
  {
   "cell_type": "markdown",
   "metadata": {},
   "source": [
    "Euclidean distance measures the straight-line distance between two points. We can create our own function, but it's also available in scipy:"
   ]
  },
  {
   "cell_type": "code",
   "execution_count": 7,
   "metadata": {},
   "outputs": [],
   "source": [
    "def euclidean_distance(vector1, vector2):\n",
    "    return np.sqrt(np.sum((vector1 - vector2) ** 2))\n",
    "\n",
    "def euclidean_distance(vector1, vector2):\n",
    "    return np.linalg.norm(vector1 - vector2)\n",
    "    \n",
    "from scipy.spatial.distance import euclidean"
   ]
  },
  {
   "cell_type": "code",
   "execution_count": 8,
   "metadata": {},
   "outputs": [
    {
     "name": "stdout",
     "output_type": "stream",
     "text": [
      "Distance between Amy and Clark: 3.1622776601683795\n",
      "Distance bewteen Bill and Clark: 1.0\n"
     ]
    }
   ],
   "source": [
    "# Calculate the Euclidian distance between Amy and Clarke and Bill and Clark\n",
    "print(\"Distance between Amy and Clark:\", euclidean(df.loc['Amy'], df.loc['Clark']))\n",
    "print(\"Distance bewteen Bill and Clark:\", euclidean(df.loc['Bill'], df.loc['Clark']))"
   ]
  },
  {
   "cell_type": "markdown",
   "metadata": {},
   "source": [
    "We can now see quantitatively how the distance between Bill and Clark is shorter than between Amy and Clark, so Bill is a more similar person in this dataset. One problem with this is Euclidean distance depends on the magnitudes of each individual part of the vector. E.g. if instead of ratings, this was number of movies watched, the Euclidean distance might not be such a great distance metric. Another metric that is scale-invariant is cosine similarity or cosine distance."
   ]
  },
  {
   "cell_type": "markdown",
   "metadata": {},
   "source": [
    "# Cosine distance or similarity"
   ]
  },
  {
   "cell_type": "markdown",
   "metadata": {},
   "source": [
    "Cosine similarity and distance both range from 0 to 1, but similarity is 1 when the vectors are identical and 0 when the vectors are orthogonal (at a right angle). Distance is 1 - similarity.\n",
    "\n",
    "The function from scipy is the cosine distance, as we can see from the [docs](https://docs.scipy.org/doc/scipy/reference/generated/scipy.spatial.distance.cosine.html#scipy.spatial.distance.cosine)."
   ]
  },
  {
   "cell_type": "code",
   "execution_count": 9,
   "metadata": {},
   "outputs": [],
   "source": [
    "def cosine_similarity(vector1, vector2):\n",
    "    return np.dot(vector1, vector2) / (np.sqrt(np.dot(vector1, vector1)) * np.sqrt(np.dot(vector2, vector2)))\n",
    "\n",
    "from scipy.spatial.distance import cosine"
   ]
  },
  {
   "cell_type": "code",
   "execution_count": 10,
   "metadata": {},
   "outputs": [
    {
     "name": "stdout",
     "output_type": "stream",
     "text": [
      "Cosine between Amy and Clark: 0.29289321881345254 \n",
      " Cosine between Bill and Clark: 0.002945514498418511\n"
     ]
    }
   ],
   "source": [
    "print(\"Cosine between Amy and Clark:\", cosine(df.loc['Amy'], df.loc['Clark']), \"\\n\",\n",
    "      \"Cosine between Bill and Clark:\", cosine(df.loc['Bill'], df.loc['Clark']))"
   ]
  },
  {
   "cell_type": "markdown",
   "metadata": {},
   "source": [
    "A smaller cosine distance means the vectors are more similar. So again, Bill and Clark look more similar than Amy and Clark."
   ]
  },
  {
   "cell_type": "markdown",
   "metadata": {},
   "source": [
    "Let's include more dimentions to the matrix (more movie generes) and build another recommender for Clark."
   ]
  },
  {
   "cell_type": "code",
   "execution_count": 11,
   "metadata": {},
   "outputs": [
    {
     "data": {
      "text/html": [
       "<div>\n",
       "<style scoped>\n",
       "    .dataframe tbody tr th:only-of-type {\n",
       "        vertical-align: middle;\n",
       "    }\n",
       "\n",
       "    .dataframe tbody tr th {\n",
       "        vertical-align: top;\n",
       "    }\n",
       "\n",
       "    .dataframe thead th {\n",
       "        text-align: right;\n",
       "    }\n",
       "</style>\n",
       "<table border=\"1\" class=\"dataframe\">\n",
       "  <thead>\n",
       "    <tr style=\"text-align: right;\">\n",
       "      <th></th>\n",
       "      <th>Action</th>\n",
       "      <th>Comedy</th>\n",
       "      <th>Romance</th>\n",
       "      <th>Sci-Fi</th>\n",
       "      <th>Drama</th>\n",
       "    </tr>\n",
       "  </thead>\n",
       "  <tbody>\n",
       "    <tr>\n",
       "      <th>Amy</th>\n",
       "      <td>4</td>\n",
       "      <td>2</td>\n",
       "      <td>5</td>\n",
       "      <td>4</td>\n",
       "      <td>3</td>\n",
       "    </tr>\n",
       "    <tr>\n",
       "      <th>Bill</th>\n",
       "      <td>1</td>\n",
       "      <td>4</td>\n",
       "      <td>3</td>\n",
       "      <td>5</td>\n",
       "      <td>2</td>\n",
       "    </tr>\n",
       "    <tr>\n",
       "      <th>Clark</th>\n",
       "      <td>1</td>\n",
       "      <td>3</td>\n",
       "      <td>2</td>\n",
       "      <td>3</td>\n",
       "      <td>1</td>\n",
       "    </tr>\n",
       "  </tbody>\n",
       "</table>\n",
       "</div>"
      ],
      "text/plain": [
       "       Action  Comedy  Romance  Sci-Fi  Drama\n",
       "Amy         4       2        5       4      3\n",
       "Bill        1       4        3       5      2\n",
       "Clark       1       3        2       3      1"
      ]
     },
     "execution_count": 11,
     "metadata": {},
     "output_type": "execute_result"
    }
   ],
   "source": [
    "ratings = np.array([[4, 2, 5, 4, 3],\n",
    "                    [1, 4, 3, 5, 2],\n",
    "                    [1, 3, 2, 3, 1]])\n",
    "df = pd.DataFrame(ratings, columns = ['Action', 'Comedy', 'Romance', 'Sci-Fi', 'Drama'], index = ['Amy', 'Bill', 'Clark'])\n",
    "df"
   ]
  },
  {
   "cell_type": "markdown",
   "metadata": {},
   "source": [
    "Now that we have added more dimentions (movie generes), is Clark's movie preference still more similar to Bill's than Amy's?  Even though we have more dimentions to our data, the Euclidian distance and cosine similarity calculations are the same."
   ]
  },
  {
   "cell_type": "code",
   "execution_count": 12,
   "metadata": {},
   "outputs": [
    {
     "name": "stdout",
     "output_type": "stream",
     "text": [
      "Distance between Amy and Clark: 4.898979485566356\n",
      "Distance bewteen Bill to Clark: 2.6457513110645907\n"
     ]
    }
   ],
   "source": [
    "# Calculate the Euclidian distance between Amy and Clarke and Bill and Clark with more dimentional data\n",
    "print(\"Distance between Amy and Clark:\", euclidean(df.loc['Amy'], df.loc['Clark']))\n",
    "print(\"Distance bewteen Bill to Clark:\", euclidean(df.loc['Bill'], df.loc['Clark']))"
   ]
  },
  {
   "cell_type": "code",
   "execution_count": 13,
   "metadata": {},
   "outputs": [
    {
     "name": "stdout",
     "output_type": "stream",
     "text": [
      "Cosine between Amy and Clark: 0.1460874361700335\n",
      "Cosine between Bill and Clark: 0.009132611386275413\n"
     ]
    }
   ],
   "source": [
    "# Calculate the cosine simularity distance between Amy and Clarke and Bill and Clark with more dimentional data\n",
    "print(\"Cosine between Amy and Clark:\", cosine(df.loc['Amy'], df.loc['Clark']))\n",
    "print(\"Cosine between Bill and Clark:\", cosine(df.loc['Bill'], df.loc['Clark']))"
   ]
  },
  {
   "cell_type": "markdown",
   "metadata": {},
   "source": [
    "The Euclidian distance and cosine similartiy still agree that Clark's genere preference is closer to Bill's than Amy's"
   ]
  },
  {
   "cell_type": "markdown",
   "metadata": {},
   "source": [
    "# Pearson correlation"
   ]
  },
  {
   "cell_type": "markdown",
   "metadata": {},
   "source": [
    "Another way to measure similarily is with Pearson correlation, which we've already seen a few times. This measures the amount that two variables are linearly related - a positive value of +1 means perfectly linearly correlated. That would mean both variables go up together in all cases. A -1 means perfectly negatively linearly correlated, meaning when one variable goes up, the other one always goes down by a proportional amount. A 0 means no linear correlation at all."
   ]
  },
  {
   "cell_type": "code",
   "execution_count": 14,
   "metadata": {},
   "outputs": [
    {
     "data": {
      "image/png": "[encoded data removed]",
      "text/plain": [
       "<Figure size 432x288 with 1 Axes>"
      ]
     },
     "metadata": {
      "needs_background": "light"
     },
     "output_type": "display_data"
    }
   ],
   "source": [
    "# Plot Amy's genere rating vs Clark's genere rating \n",
    "plt.scatter(df.loc['Clark','Action'], df.loc['Amy','Action'], color='Red', label='Action')\n",
    "plt.scatter(df.loc['Clark','Comedy'], df.loc['Amy','Comedy'], color='Blue', label='Comedy')\n",
    "plt.scatter(df.loc['Clark','Romance'], df.loc['Amy','Romance'], color='Green', label='Romance')\n",
    "plt.scatter(df.loc['Clark','Sci-Fi'], df.loc['Amy','Sci-Fi'], color='Black', label='Sci-Fi')\n",
    "plt.scatter(df.loc['Clark','Drama'], df.loc['Amy','Drama'], color='Orange', label='Drama')\n",
    "plt.legend()\n",
    "plt.title(\"Correlation between Amy's and Clark's Movie Genere Preference\")\n",
    "plt.xlabel(\"Clark's Movie Genere Rating\")\n",
    "plt.ylabel(\"Amy's Movie Genere Rating\")\n",
    "plt.show()"
   ]
  },
  {
   "cell_type": "code",
   "execution_count": 15,
   "metadata": {},
   "outputs": [
    {
     "data": {
      "image/png": "[encoded data removed]",
      "text/plain": [
       "<Figure size 432x288 with 1 Axes>"
      ]
     },
     "metadata": {
      "needs_background": "light"
     },
     "output_type": "display_data"
    }
   ],
   "source": [
    "# Plot Bill's genere rating vs Clark's genere rating \n",
    "plt.scatter(df.loc['Clark', 'Action'], df.loc['Bill', 'Action'], color='Red', label='Action')\n",
    "plt.scatter(df.loc['Clark', 'Comedy'], df.loc['Bill', 'Comedy'], color='Blue', label='Comedy')\n",
    "plt.scatter(df.loc['Clark', 'Romance'], df.loc['Bill', 'Romance'], color='Green', label='Romance')\n",
    "plt.scatter(df.loc['Clark', 'Sci-Fi'], df.loc['Bill', 'Sci-Fi'], color='Black', label='Sci-Fi')\n",
    "plt.scatter(df.loc['Clark', 'Drama'], df.loc['Bill', 'Drama'], color='Orange', label='Drama')\n",
    "plt.legend()\n",
    "plt.title(\"Correlation between Bill's and Clark's Movie Genere Preference\")\n",
    "plt.xlabel(\"Clark's Movie Genere Rating\")\n",
    "plt.ylabel(\"Bill's Movie Genere Rating\")\n",
    "plt.show()"
   ]
  },
  {
   "cell_type": "code",
   "execution_count": 16,
   "metadata": {},
   "outputs": [],
   "source": [
    "# Import the pearsonr funtion from the scipy.stats.stats library\n",
    "from scipy.stats.stats import pearsonr"
   ]
  },
  {
   "cell_type": "code",
   "execution_count": 17,
   "metadata": {},
   "outputs": [
    {
     "name": "stdout",
     "output_type": "stream",
     "text": [
      "Pearson's Coefficient between Amy and Clark: -0.2192645048267573 \n",
      " Pearson's Coefficient between Bill and Clark: 0.9486832980505138\n"
     ]
    }
   ],
   "source": [
    "# Calulate the Pearson coefficent between each user and Clark\n",
    "print(\"Pearson's Coefficient between Amy and Clark:\", pearsonr(df.loc['Amy'], df.loc['Clark'])[0], \"\\n\",\n",
    "      \"Pearson's Coefficient between Bill and Clark:\", pearsonr(df.loc['Bill'], df.loc['Clark'])[0])"
   ]
  },
  {
   "cell_type": "markdown",
   "metadata": {},
   "source": [
    "We can see how the plot of Bill vs Clark is very positively linear, while Amy vs Clark is slightly negative, which gives us the Pearson values as shown. \n",
    "\n",
    "Note: The second value returned from pearsonr is the p-value, which is a statistical measure that signifies how significant the correlation value is. As a rule of thumb, we usually take a p-value under 0.05 to mean it is statistically significant.\n",
    "\n",
    "We could also use the function `np.corrcoef` to get the Pearson correlation."
   ]
  },
  {
   "cell_type": "markdown",
   "metadata": {},
   "source": [
    "# Creating simple recommender systems"
   ]
  },
  {
   "cell_type": "markdown",
   "metadata": {},
   "source": [
    "## Creating a top-item recommender"
   ]
  },
  {
   "cell_type": "markdown",
   "metadata": {},
   "source": [
    "One of the simplest recommender systems is to recommend the top-rated items. In our case, we can add up the ratings for each movie and recommend the top movies from that metric."
   ]
  },
  {
   "cell_type": "markdown",
   "metadata": {},
   "source": [
    "### Load the movielens dataset\n",
    "We are using the movielens dataset from [here](https://grouplens.org/datasets/movielens/) (the small dataset from the education section)."
   ]
  },
  {
   "cell_type": "code",
   "execution_count": 18,
   "metadata": {},
   "outputs": [],
   "source": [
    "ratings = pd.read_csv('ratings.csv')\n",
    "movies = pd.read_csv('movies.csv')"
   ]
  },
  {
   "cell_type": "code",
   "execution_count": 19,
   "metadata": {},
   "outputs": [
    {
     "data": {
      "text/html": [
       "<div>\n",
       "<style scoped>\n",
       "    .dataframe tbody tr th:only-of-type {\n",
       "        vertical-align: middle;\n",
       "    }\n",
       "\n",
       "    .dataframe tbody tr th {\n",
       "        vertical-align: top;\n",
       "    }\n",
       "\n",
       "    .dataframe thead th {\n",
       "        text-align: right;\n",
       "    }\n",
       "</style>\n",
       "<table border=\"1\" class=\"dataframe\">\n",
       "  <thead>\n",
       "    <tr style=\"text-align: right;\">\n",
       "      <th></th>\n",
       "      <th>movieId</th>\n",
       "      <th>title</th>\n",
       "      <th>genres</th>\n",
       "    </tr>\n",
       "  </thead>\n",
       "  <tbody>\n",
       "    <tr>\n",
       "      <th>0</th>\n",
       "      <td>1</td>\n",
       "      <td>Toy Story (1995)</td>\n",
       "      <td>Adventure|Animation|Children|Comedy|Fantasy</td>\n",
       "    </tr>\n",
       "    <tr>\n",
       "      <th>1</th>\n",
       "      <td>2</td>\n",
       "      <td>Jumanji (1995)</td>\n",
       "      <td>Adventure|Children|Fantasy</td>\n",
       "    </tr>\n",
       "    <tr>\n",
       "      <th>2</th>\n",
       "      <td>3</td>\n",
       "      <td>Grumpier Old Men (1995)</td>\n",
       "      <td>Comedy|Romance</td>\n",
       "    </tr>\n",
       "    <tr>\n",
       "      <th>3</th>\n",
       "      <td>4</td>\n",
       "      <td>Waiting to Exhale (1995)</td>\n",
       "      <td>Comedy|Drama|Romance</td>\n",
       "    </tr>\n",
       "    <tr>\n",
       "      <th>4</th>\n",
       "      <td>5</td>\n",
       "      <td>Father of the Bride Part II (1995)</td>\n",
       "      <td>Comedy</td>\n",
       "    </tr>\n",
       "  </tbody>\n",
       "</table>\n",
       "</div>"
      ],
      "text/plain": [
       "   movieId                               title  \\\n",
       "0        1                    Toy Story (1995)   \n",
       "1        2                      Jumanji (1995)   \n",
       "2        3             Grumpier Old Men (1995)   \n",
       "3        4            Waiting to Exhale (1995)   \n",
       "4        5  Father of the Bride Part II (1995)   \n",
       "\n",
       "                                        genres  \n",
       "0  Adventure|Animation|Children|Comedy|Fantasy  \n",
       "1                   Adventure|Children|Fantasy  \n",
       "2                               Comedy|Romance  \n",
       "3                         Comedy|Drama|Romance  \n",
       "4                                       Comedy  "
      ]
     },
     "execution_count": 19,
     "metadata": {},
     "output_type": "execute_result"
    }
   ],
   "source": [
    "movies.head()"
   ]
  },
  {
   "cell_type": "code",
   "execution_count": 20,
   "metadata": {
    "scrolled": true
   },
   "outputs": [
    {
     "data": {
      "text/html": [
       "<div>\n",
       "<style scoped>\n",
       "    .dataframe tbody tr th:only-of-type {\n",
       "        vertical-align: middle;\n",
       "    }\n",
       "\n",
       "    .dataframe tbody tr th {\n",
       "        vertical-align: top;\n",
       "    }\n",
       "\n",
       "    .dataframe thead th {\n",
       "        text-align: right;\n",
       "    }\n",
       "</style>\n",
       "<table border=\"1\" class=\"dataframe\">\n",
       "  <thead>\n",
       "    <tr style=\"text-align: right;\">\n",
       "      <th></th>\n",
       "      <th>userId</th>\n",
       "      <th>movieId</th>\n",
       "      <th>rating</th>\n",
       "      <th>timestamp</th>\n",
       "    </tr>\n",
       "  </thead>\n",
       "  <tbody>\n",
       "    <tr>\n",
       "      <th>0</th>\n",
       "      <td>1</td>\n",
       "      <td>1</td>\n",
       "      <td>4.0</td>\n",
       "      <td>964982703</td>\n",
       "    </tr>\n",
       "    <tr>\n",
       "      <th>1</th>\n",
       "      <td>1</td>\n",
       "      <td>3</td>\n",
       "      <td>4.0</td>\n",
       "      <td>964981247</td>\n",
       "    </tr>\n",
       "    <tr>\n",
       "      <th>2</th>\n",
       "      <td>1</td>\n",
       "      <td>6</td>\n",
       "      <td>4.0</td>\n",
       "      <td>964982224</td>\n",
       "    </tr>\n",
       "    <tr>\n",
       "      <th>3</th>\n",
       "      <td>1</td>\n",
       "      <td>47</td>\n",
       "      <td>5.0</td>\n",
       "      <td>964983815</td>\n",
       "    </tr>\n",
       "    <tr>\n",
       "      <th>4</th>\n",
       "      <td>1</td>\n",
       "      <td>50</td>\n",
       "      <td>5.0</td>\n",
       "      <td>964982931</td>\n",
       "    </tr>\n",
       "  </tbody>\n",
       "</table>\n",
       "</div>"
      ],
      "text/plain": [
       "   userId  movieId  rating  timestamp\n",
       "0       1        1     4.0  964982703\n",
       "1       1        3     4.0  964981247\n",
       "2       1        6     4.0  964982224\n",
       "3       1       47     5.0  964983815\n",
       "4       1       50     5.0  964982931"
      ]
     },
     "execution_count": 20,
     "metadata": {},
     "output_type": "execute_result"
    }
   ],
   "source": [
    "ratings.head()"
   ]
  },
  {
   "cell_type": "code",
   "execution_count": 21,
   "metadata": {},
   "outputs": [
    {
     "data": {
      "text/plain": [
       "0        2000-07-30 18:45:03\n",
       "1        2000-07-30 18:20:47\n",
       "2        2000-07-30 18:37:04\n",
       "3        2000-07-30 19:03:35\n",
       "4        2000-07-30 18:48:51\n",
       "                 ...        \n",
       "100831   2017-05-03 21:53:22\n",
       "100832   2017-05-03 22:21:31\n",
       "100833   2017-05-08 19:50:47\n",
       "100834   2017-05-03 21:19:12\n",
       "100835   2017-05-03 21:20:15\n",
       "Name: timestamp, Length: 100836, dtype: datetime64[ns]"
      ]
     },
     "execution_count": 21,
     "metadata": {},
     "output_type": "execute_result"
    }
   ],
   "source": [
    "pd.to_datetime(ratings['timestamp'], unit='s')"
   ]
  },
  {
   "cell_type": "markdown",
   "metadata": {},
   "source": [
    "We are going to use a new pandas technique here called groupby. This groups our dataframe by a column, then allows us to take aggregations like the sum."
   ]
  },
  {
   "cell_type": "code",
   "execution_count": 27,
   "metadata": {},
   "outputs": [
    {
     "data": {
      "text/html": [
       "<div>\n",
       "<style scoped>\n",
       "    .dataframe tbody tr th:only-of-type {\n",
       "        vertical-align: middle;\n",
       "    }\n",
       "\n",
       "    .dataframe tbody tr th {\n",
       "        vertical-align: top;\n",
       "    }\n",
       "\n",
       "    .dataframe thead th {\n",
       "        text-align: right;\n",
       "    }\n",
       "</style>\n",
       "<table border=\"1\" class=\"dataframe\">\n",
       "  <thead>\n",
       "    <tr style=\"text-align: right;\">\n",
       "      <th></th>\n",
       "      <th>userId</th>\n",
       "      <th>rating</th>\n",
       "      <th>timestamp</th>\n",
       "    </tr>\n",
       "    <tr>\n",
       "      <th>movieId</th>\n",
       "      <th></th>\n",
       "      <th></th>\n",
       "      <th></th>\n",
       "    </tr>\n",
       "  </thead>\n",
       "  <tbody>\n",
       "    <tr>\n",
       "      <th>1</th>\n",
       "      <td>65904</td>\n",
       "      <td>843.0</td>\n",
       "      <td>242914455479</td>\n",
       "    </tr>\n",
       "    <tr>\n",
       "      <th>2</th>\n",
       "      <td>36251</td>\n",
       "      <td>377.5</td>\n",
       "      <td>124938583322</td>\n",
       "    </tr>\n",
       "    <tr>\n",
       "      <th>3</th>\n",
       "      <td>14747</td>\n",
       "      <td>169.5</td>\n",
       "      <td>52265734386</td>\n",
       "    </tr>\n",
       "    <tr>\n",
       "      <th>4</th>\n",
       "      <td>1539</td>\n",
       "      <td>16.5</td>\n",
       "      <td>6290052048</td>\n",
       "    </tr>\n",
       "    <tr>\n",
       "      <th>5</th>\n",
       "      <td>14679</td>\n",
       "      <td>150.5</td>\n",
       "      <td>48640552594</td>\n",
       "    </tr>\n",
       "    <tr>\n",
       "      <th>...</th>\n",
       "      <td>...</td>\n",
       "      <td>...</td>\n",
       "      <td>...</td>\n",
       "    </tr>\n",
       "    <tr>\n",
       "      <th>193581</th>\n",
       "      <td>184</td>\n",
       "      <td>4.0</td>\n",
       "      <td>1537109082</td>\n",
       "    </tr>\n",
       "    <tr>\n",
       "      <th>193583</th>\n",
       "      <td>184</td>\n",
       "      <td>3.5</td>\n",
       "      <td>1537109545</td>\n",
       "    </tr>\n",
       "    <tr>\n",
       "      <th>193585</th>\n",
       "      <td>184</td>\n",
       "      <td>3.5</td>\n",
       "      <td>1537109805</td>\n",
       "    </tr>\n",
       "    <tr>\n",
       "      <th>193587</th>\n",
       "      <td>184</td>\n",
       "      <td>3.5</td>\n",
       "      <td>1537110021</td>\n",
       "    </tr>\n",
       "    <tr>\n",
       "      <th>193609</th>\n",
       "      <td>331</td>\n",
       "      <td>4.0</td>\n",
       "      <td>1537157606</td>\n",
       "    </tr>\n",
       "  </tbody>\n",
       "</table>\n",
       "<p>9724 rows × 3 columns</p>\n",
       "</div>"
      ],
      "text/plain": [
       "         userId  rating     timestamp\n",
       "movieId                              \n",
       "1         65904   843.0  242914455479\n",
       "2         36251   377.5  124938583322\n",
       "3         14747   169.5   52265734386\n",
       "4          1539    16.5    6290052048\n",
       "5         14679   150.5   48640552594\n",
       "...         ...     ...           ...\n",
       "193581      184     4.0    1537109082\n",
       "193583      184     3.5    1537109545\n",
       "193585      184     3.5    1537109805\n",
       "193587      184     3.5    1537110021\n",
       "193609      331     4.0    1537157606\n",
       "\n",
       "[9724 rows x 3 columns]"
      ]
     },
     "execution_count": 27,
     "metadata": {},
     "output_type": "execute_result"
    }
   ],
   "source": [
    "ratings.groupby('movieId').sum()"
   ]
  },
  {
   "cell_type": "markdown",
   "metadata": {},
   "source": [
    "Then we need to sort this from greatest to least. Lastly, it doesn't hurt to also see what the actual titles are."
   ]
  },
  {
   "cell_type": "code",
   "execution_count": 28,
   "metadata": {},
   "outputs": [
    {
     "data": {
      "text/html": [
       "<div>\n",
       "<style scoped>\n",
       "    .dataframe tbody tr th:only-of-type {\n",
       "        vertical-align: middle;\n",
       "    }\n",
       "\n",
       "    .dataframe tbody tr th {\n",
       "        vertical-align: top;\n",
       "    }\n",
       "\n",
       "    .dataframe thead th {\n",
       "        text-align: right;\n",
       "    }\n",
       "</style>\n",
       "<table border=\"1\" class=\"dataframe\">\n",
       "  <thead>\n",
       "    <tr style=\"text-align: right;\">\n",
       "      <th></th>\n",
       "      <th>userId</th>\n",
       "      <th>rating</th>\n",
       "      <th>timestamp</th>\n",
       "    </tr>\n",
       "    <tr>\n",
       "      <th>movieId</th>\n",
       "      <th></th>\n",
       "      <th></th>\n",
       "      <th></th>\n",
       "    </tr>\n",
       "  </thead>\n",
       "  <tbody>\n",
       "    <tr>\n",
       "      <th>318</th>\n",
       "      <td>95829</td>\n",
       "      <td>1404.0</td>\n",
       "      <td>376924839127</td>\n",
       "    </tr>\n",
       "    <tr>\n",
       "      <th>356</th>\n",
       "      <td>101385</td>\n",
       "      <td>1370.0</td>\n",
       "      <td>386165236681</td>\n",
       "    </tr>\n",
       "    <tr>\n",
       "      <th>296</th>\n",
       "      <td>90621</td>\n",
       "      <td>1288.5</td>\n",
       "      <td>349204311001</td>\n",
       "    </tr>\n",
       "    <tr>\n",
       "      <th>2571</th>\n",
       "      <td>85236</td>\n",
       "      <td>1165.5</td>\n",
       "      <td>350270041779</td>\n",
       "    </tr>\n",
       "    <tr>\n",
       "      <th>593</th>\n",
       "      <td>85535</td>\n",
       "      <td>1161.0</td>\n",
       "      <td>320035674330</td>\n",
       "    </tr>\n",
       "    <tr>\n",
       "      <th>...</th>\n",
       "      <td>...</td>\n",
       "      <td>...</td>\n",
       "      <td>...</td>\n",
       "    </tr>\n",
       "    <tr>\n",
       "      <th>160872</th>\n",
       "      <td>21</td>\n",
       "      <td>0.5</td>\n",
       "      <td>1468113939</td>\n",
       "    </tr>\n",
       "    <tr>\n",
       "      <th>8236</th>\n",
       "      <td>580</td>\n",
       "      <td>0.5</td>\n",
       "      <td>1167791433</td>\n",
       "    </tr>\n",
       "    <tr>\n",
       "      <th>57326</th>\n",
       "      <td>232</td>\n",
       "      <td>0.5</td>\n",
       "      <td>1241823595</td>\n",
       "    </tr>\n",
       "    <tr>\n",
       "      <th>82684</th>\n",
       "      <td>567</td>\n",
       "      <td>0.5</td>\n",
       "      <td>1525289916</td>\n",
       "    </tr>\n",
       "    <tr>\n",
       "      <th>138798</th>\n",
       "      <td>298</td>\n",
       "      <td>0.5</td>\n",
       "      <td>1450453125</td>\n",
       "    </tr>\n",
       "  </tbody>\n",
       "</table>\n",
       "<p>9724 rows × 3 columns</p>\n",
       "</div>"
      ],
      "text/plain": [
       "         userId  rating     timestamp\n",
       "movieId                              \n",
       "318       95829  1404.0  376924839127\n",
       "356      101385  1370.0  386165236681\n",
       "296       90621  1288.5  349204311001\n",
       "2571      85236  1165.5  350270041779\n",
       "593       85535  1161.0  320035674330\n",
       "...         ...     ...           ...\n",
       "160872       21     0.5    1468113939\n",
       "8236        580     0.5    1167791433\n",
       "57326       232     0.5    1241823595\n",
       "82684       567     0.5    1525289916\n",
       "138798      298     0.5    1450453125\n",
       "\n",
       "[9724 rows x 3 columns]"
      ]
     },
     "execution_count": 28,
     "metadata": {},
     "output_type": "execute_result"
    }
   ],
   "source": [
    "ratings.groupby('movieId').sum().sort_values(by='rating', ascending=False)"
   ]
  },
  {
   "cell_type": "markdown",
   "metadata": {},
   "source": [
    "One way to get the movie titles is to use our index to index the movie df. We can also merge the two on the movie id."
   ]
  },
  {
   "cell_type": "code",
   "execution_count": 29,
   "metadata": {},
   "outputs": [],
   "source": [
    "movies.set_index('movieId', inplace=True)"
   ]
  },
  {
   "cell_type": "code",
   "execution_count": 30,
   "metadata": {},
   "outputs": [
    {
     "data": {
      "text/html": [
       "<div>\n",
       "<style scoped>\n",
       "    .dataframe tbody tr th:only-of-type {\n",
       "        vertical-align: middle;\n",
       "    }\n",
       "\n",
       "    .dataframe tbody tr th {\n",
       "        vertical-align: top;\n",
       "    }\n",
       "\n",
       "    .dataframe thead th {\n",
       "        text-align: right;\n",
       "    }\n",
       "</style>\n",
       "<table border=\"1\" class=\"dataframe\">\n",
       "  <thead>\n",
       "    <tr style=\"text-align: right;\">\n",
       "      <th></th>\n",
       "      <th>title</th>\n",
       "      <th>genres</th>\n",
       "    </tr>\n",
       "    <tr>\n",
       "      <th>movieId</th>\n",
       "      <th></th>\n",
       "      <th></th>\n",
       "    </tr>\n",
       "  </thead>\n",
       "  <tbody>\n",
       "    <tr>\n",
       "      <th>318</th>\n",
       "      <td>Shawshank Redemption, The (1994)</td>\n",
       "      <td>Crime|Drama</td>\n",
       "    </tr>\n",
       "    <tr>\n",
       "      <th>356</th>\n",
       "      <td>Forrest Gump (1994)</td>\n",
       "      <td>Comedy|Drama|Romance|War</td>\n",
       "    </tr>\n",
       "    <tr>\n",
       "      <th>296</th>\n",
       "      <td>Pulp Fiction (1994)</td>\n",
       "      <td>Comedy|Crime|Drama|Thriller</td>\n",
       "    </tr>\n",
       "    <tr>\n",
       "      <th>2571</th>\n",
       "      <td>Matrix, The (1999)</td>\n",
       "      <td>Action|Sci-Fi|Thriller</td>\n",
       "    </tr>\n",
       "    <tr>\n",
       "      <th>593</th>\n",
       "      <td>Silence of the Lambs, The (1991)</td>\n",
       "      <td>Crime|Horror|Thriller</td>\n",
       "    </tr>\n",
       "    <tr>\n",
       "      <th>...</th>\n",
       "      <td>...</td>\n",
       "      <td>...</td>\n",
       "    </tr>\n",
       "    <tr>\n",
       "      <th>160872</th>\n",
       "      <td>Satanic (2016)</td>\n",
       "      <td>Horror</td>\n",
       "    </tr>\n",
       "    <tr>\n",
       "      <th>8236</th>\n",
       "      <td>While the City Sleeps (1956)</td>\n",
       "      <td>Drama|Film-Noir</td>\n",
       "    </tr>\n",
       "    <tr>\n",
       "      <th>57326</th>\n",
       "      <td>In the Name of the King: A Dungeon Siege Tale ...</td>\n",
       "      <td>Action|Adventure|Fantasy</td>\n",
       "    </tr>\n",
       "    <tr>\n",
       "      <th>82684</th>\n",
       "      <td>Trash Humpers (2009)</td>\n",
       "      <td>Drama</td>\n",
       "    </tr>\n",
       "    <tr>\n",
       "      <th>138798</th>\n",
       "      <td>Joe Dirt 2: Beautiful Loser (2015)</td>\n",
       "      <td>Comedy</td>\n",
       "    </tr>\n",
       "  </tbody>\n",
       "</table>\n",
       "<p>9724 rows × 2 columns</p>\n",
       "</div>"
      ],
      "text/plain": [
       "                                                     title  \\\n",
       "movieId                                                      \n",
       "318                       Shawshank Redemption, The (1994)   \n",
       "356                                    Forrest Gump (1994)   \n",
       "296                                    Pulp Fiction (1994)   \n",
       "2571                                    Matrix, The (1999)   \n",
       "593                       Silence of the Lambs, The (1991)   \n",
       "...                                                    ...   \n",
       "160872                                      Satanic (2016)   \n",
       "8236                          While the City Sleeps (1956)   \n",
       "57326    In the Name of the King: A Dungeon Siege Tale ...   \n",
       "82684                                 Trash Humpers (2009)   \n",
       "138798                  Joe Dirt 2: Beautiful Loser (2015)   \n",
       "\n",
       "                              genres  \n",
       "movieId                               \n",
       "318                      Crime|Drama  \n",
       "356         Comedy|Drama|Romance|War  \n",
       "296      Comedy|Crime|Drama|Thriller  \n",
       "2571          Action|Sci-Fi|Thriller  \n",
       "593            Crime|Horror|Thriller  \n",
       "...                              ...  \n",
       "160872                        Horror  \n",
       "8236                 Drama|Film-Noir  \n",
       "57326       Action|Adventure|Fantasy  \n",
       "82684                          Drama  \n",
       "138798                        Comedy  \n",
       "\n",
       "[9724 rows x 2 columns]"
      ]
     },
     "execution_count": 30,
     "metadata": {},
     "output_type": "execute_result"
    }
   ],
   "source": [
    "top_idx = ratings.groupby('movieId').sum().sort_values(by='rating', ascending=False).index\n",
    "movies.loc[top_idx]"
   ]
  },
  {
   "cell_type": "code",
   "execution_count": 31,
   "metadata": {},
   "outputs": [
    {
     "data": {
      "text/html": [
       "<div>\n",
       "<style scoped>\n",
       "    .dataframe tbody tr th:only-of-type {\n",
       "        vertical-align: middle;\n",
       "    }\n",
       "\n",
       "    .dataframe tbody tr th {\n",
       "        vertical-align: top;\n",
       "    }\n",
       "\n",
       "    .dataframe thead th {\n",
       "        text-align: right;\n",
       "    }\n",
       "</style>\n",
       "<table border=\"1\" class=\"dataframe\">\n",
       "  <thead>\n",
       "    <tr style=\"text-align: right;\">\n",
       "      <th></th>\n",
       "      <th>title</th>\n",
       "      <th>genres</th>\n",
       "      <th>userId</th>\n",
       "      <th>rating</th>\n",
       "      <th>timestamp</th>\n",
       "    </tr>\n",
       "    <tr>\n",
       "      <th>movieId</th>\n",
       "      <th></th>\n",
       "      <th></th>\n",
       "      <th></th>\n",
       "      <th></th>\n",
       "      <th></th>\n",
       "    </tr>\n",
       "  </thead>\n",
       "  <tbody>\n",
       "    <tr>\n",
       "      <th>318</th>\n",
       "      <td>Shawshank Redemption, The (1994)</td>\n",
       "      <td>Crime|Drama</td>\n",
       "      <td>95829.0</td>\n",
       "      <td>1404.0</td>\n",
       "      <td>3.769248e+11</td>\n",
       "    </tr>\n",
       "    <tr>\n",
       "      <th>356</th>\n",
       "      <td>Forrest Gump (1994)</td>\n",
       "      <td>Comedy|Drama|Romance|War</td>\n",
       "      <td>101385.0</td>\n",
       "      <td>1370.0</td>\n",
       "      <td>3.861652e+11</td>\n",
       "    </tr>\n",
       "    <tr>\n",
       "      <th>296</th>\n",
       "      <td>Pulp Fiction (1994)</td>\n",
       "      <td>Comedy|Crime|Drama|Thriller</td>\n",
       "      <td>90621.0</td>\n",
       "      <td>1288.5</td>\n",
       "      <td>3.492043e+11</td>\n",
       "    </tr>\n",
       "    <tr>\n",
       "      <th>2571</th>\n",
       "      <td>Matrix, The (1999)</td>\n",
       "      <td>Action|Sci-Fi|Thriller</td>\n",
       "      <td>85236.0</td>\n",
       "      <td>1165.5</td>\n",
       "      <td>3.502700e+11</td>\n",
       "    </tr>\n",
       "    <tr>\n",
       "      <th>593</th>\n",
       "      <td>Silence of the Lambs, The (1991)</td>\n",
       "      <td>Crime|Horror|Thriller</td>\n",
       "      <td>85535.0</td>\n",
       "      <td>1161.0</td>\n",
       "      <td>3.200357e+11</td>\n",
       "    </tr>\n",
       "    <tr>\n",
       "      <th>...</th>\n",
       "      <td>...</td>\n",
       "      <td>...</td>\n",
       "      <td>...</td>\n",
       "      <td>...</td>\n",
       "      <td>...</td>\n",
       "    </tr>\n",
       "    <tr>\n",
       "      <th>30892</th>\n",
       "      <td>In the Realms of the Unreal (2004)</td>\n",
       "      <td>Animation|Documentary</td>\n",
       "      <td>NaN</td>\n",
       "      <td>NaN</td>\n",
       "      <td>NaN</td>\n",
       "    </tr>\n",
       "    <tr>\n",
       "      <th>32160</th>\n",
       "      <td>Twentieth Century (1934)</td>\n",
       "      <td>Comedy</td>\n",
       "      <td>NaN</td>\n",
       "      <td>NaN</td>\n",
       "      <td>NaN</td>\n",
       "    </tr>\n",
       "    <tr>\n",
       "      <th>32371</th>\n",
       "      <td>Call Northside 777 (1948)</td>\n",
       "      <td>Crime|Drama|Film-Noir</td>\n",
       "      <td>NaN</td>\n",
       "      <td>NaN</td>\n",
       "      <td>NaN</td>\n",
       "    </tr>\n",
       "    <tr>\n",
       "      <th>34482</th>\n",
       "      <td>Browning Version, The (1951)</td>\n",
       "      <td>Drama</td>\n",
       "      <td>NaN</td>\n",
       "      <td>NaN</td>\n",
       "      <td>NaN</td>\n",
       "    </tr>\n",
       "    <tr>\n",
       "      <th>85565</th>\n",
       "      <td>Chalet Girl (2011)</td>\n",
       "      <td>Comedy|Romance</td>\n",
       "      <td>NaN</td>\n",
       "      <td>NaN</td>\n",
       "      <td>NaN</td>\n",
       "    </tr>\n",
       "  </tbody>\n",
       "</table>\n",
       "<p>9742 rows × 5 columns</p>\n",
       "</div>"
      ],
      "text/plain": [
       "                                      title                       genres  \\\n",
       "movieId                                                                    \n",
       "318        Shawshank Redemption, The (1994)                  Crime|Drama   \n",
       "356                     Forrest Gump (1994)     Comedy|Drama|Romance|War   \n",
       "296                     Pulp Fiction (1994)  Comedy|Crime|Drama|Thriller   \n",
       "2571                     Matrix, The (1999)       Action|Sci-Fi|Thriller   \n",
       "593        Silence of the Lambs, The (1991)        Crime|Horror|Thriller   \n",
       "...                                     ...                          ...   \n",
       "30892    In the Realms of the Unreal (2004)        Animation|Documentary   \n",
       "32160              Twentieth Century (1934)                       Comedy   \n",
       "32371             Call Northside 777 (1948)        Crime|Drama|Film-Noir   \n",
       "34482          Browning Version, The (1951)                        Drama   \n",
       "85565                    Chalet Girl (2011)               Comedy|Romance   \n",
       "\n",
       "           userId  rating     timestamp  \n",
       "movieId                                  \n",
       "318       95829.0  1404.0  3.769248e+11  \n",
       "356      101385.0  1370.0  3.861652e+11  \n",
       "296       90621.0  1288.5  3.492043e+11  \n",
       "2571      85236.0  1165.5  3.502700e+11  \n",
       "593       85535.0  1161.0  3.200357e+11  \n",
       "...           ...     ...           ...  \n",
       "30892         NaN     NaN           NaN  \n",
       "32160         NaN     NaN           NaN  \n",
       "32371         NaN     NaN           NaN  \n",
       "34482         NaN     NaN           NaN  \n",
       "85565         NaN     NaN           NaN  \n",
       "\n",
       "[9742 rows x 5 columns]"
      ]
     },
     "execution_count": 31,
     "metadata": {},
     "output_type": "execute_result"
    }
   ],
   "source": [
    "pd.concat([movies, ratings.groupby('movieId').sum()], axis=1).sort_values(by='rating', ascending=False)"
   ]
  },
  {
   "cell_type": "markdown",
   "metadata": {},
   "source": [
    "It turns out a few movies in the movie df are not in the ratings df (this is a subset of the full dataset).\n",
    "\n",
    "We now have our simple top-item recommender - we can recommend the top 5 or 10 overall-rated movies."
   ]
  },
  {
   "cell_type": "markdown",
   "metadata": {},
   "source": [
    "## Creating a simple collaborative filtering recommender"
   ]
  },
  {
   "cell_type": "markdown",
   "metadata": {},
   "source": [
    "We can make this a bit more sophisticated by finding the most similar users to a given user, and making recommendations based on that. One strategy is to to recommend highly-rated items from similar users to our given user. We could also combine our top-item recommender system with this similar-user recommender system to make it more advanced.\n",
    "\n",
    "Here, we will make recommendations for user 1 by finding the most similar users to user 1 and recommending movies user 1 has not rated.\n",
    "\n",
    "We need to transform the ratings df to a \"wide\" format from \"long\" so that we can calculate similarities between users."
   ]
  },
  {
   "cell_type": "code",
   "execution_count": 32,
   "metadata": {},
   "outputs": [
    {
     "data": {
      "text/html": [
       "<div>\n",
       "<style scoped>\n",
       "    .dataframe tbody tr th:only-of-type {\n",
       "        vertical-align: middle;\n",
       "    }\n",
       "\n",
       "    .dataframe tbody tr th {\n",
       "        vertical-align: top;\n",
       "    }\n",
       "\n",
       "    .dataframe thead th {\n",
       "        text-align: right;\n",
       "    }\n",
       "</style>\n",
       "<table border=\"1\" class=\"dataframe\">\n",
       "  <thead>\n",
       "    <tr style=\"text-align: right;\">\n",
       "      <th>movieId</th>\n",
       "      <th>1</th>\n",
       "      <th>2</th>\n",
       "      <th>3</th>\n",
       "      <th>4</th>\n",
       "      <th>5</th>\n",
       "      <th>6</th>\n",
       "      <th>7</th>\n",
       "      <th>8</th>\n",
       "      <th>9</th>\n",
       "      <th>10</th>\n",
       "      <th>...</th>\n",
       "      <th>193565</th>\n",
       "      <th>193567</th>\n",
       "      <th>193571</th>\n",
       "      <th>193573</th>\n",
       "      <th>193579</th>\n",
       "      <th>193581</th>\n",
       "      <th>193583</th>\n",
       "      <th>193585</th>\n",
       "      <th>193587</th>\n",
       "      <th>193609</th>\n",
       "    </tr>\n",
       "    <tr>\n",
       "      <th>userId</th>\n",
       "      <th></th>\n",
       "      <th></th>\n",
       "      <th></th>\n",
       "      <th></th>\n",
       "      <th></th>\n",
       "      <th></th>\n",
       "      <th></th>\n",
       "      <th></th>\n",
       "      <th></th>\n",
       "      <th></th>\n",
       "      <th></th>\n",
       "      <th></th>\n",
       "      <th></th>\n",
       "      <th></th>\n",
       "      <th></th>\n",
       "      <th></th>\n",
       "      <th></th>\n",
       "      <th></th>\n",
       "      <th></th>\n",
       "      <th></th>\n",
       "      <th></th>\n",
       "    </tr>\n",
       "  </thead>\n",
       "  <tbody>\n",
       "    <tr>\n",
       "      <th>1</th>\n",
       "      <td>4.0</td>\n",
       "      <td>NaN</td>\n",
       "      <td>4.0</td>\n",
       "      <td>NaN</td>\n",
       "      <td>NaN</td>\n",
       "      <td>4.0</td>\n",
       "      <td>NaN</td>\n",
       "      <td>NaN</td>\n",
       "      <td>NaN</td>\n",
       "      <td>NaN</td>\n",
       "      <td>...</td>\n",
       "      <td>NaN</td>\n",
       "      <td>NaN</td>\n",
       "      <td>NaN</td>\n",
       "      <td>NaN</td>\n",
       "      <td>NaN</td>\n",
       "      <td>NaN</td>\n",
       "      <td>NaN</td>\n",
       "      <td>NaN</td>\n",
       "      <td>NaN</td>\n",
       "      <td>NaN</td>\n",
       "    </tr>\n",
       "    <tr>\n",
       "      <th>2</th>\n",
       "      <td>NaN</td>\n",
       "      <td>NaN</td>\n",
       "      <td>NaN</td>\n",
       "      <td>NaN</td>\n",
       "      <td>NaN</td>\n",
       "      <td>NaN</td>\n",
       "      <td>NaN</td>\n",
       "      <td>NaN</td>\n",
       "      <td>NaN</td>\n",
       "      <td>NaN</td>\n",
       "      <td>...</td>\n",
       "      <td>NaN</td>\n",
       "      <td>NaN</td>\n",
       "      <td>NaN</td>\n",
       "      <td>NaN</td>\n",
       "      <td>NaN</td>\n",
       "      <td>NaN</td>\n",
       "      <td>NaN</td>\n",
       "      <td>NaN</td>\n",
       "      <td>NaN</td>\n",
       "      <td>NaN</td>\n",
       "    </tr>\n",
       "    <tr>\n",
       "      <th>3</th>\n",
       "      <td>NaN</td>\n",
       "      <td>NaN</td>\n",
       "      <td>NaN</td>\n",
       "      <td>NaN</td>\n",
       "      <td>NaN</td>\n",
       "      <td>NaN</td>\n",
       "      <td>NaN</td>\n",
       "      <td>NaN</td>\n",
       "      <td>NaN</td>\n",
       "      <td>NaN</td>\n",
       "      <td>...</td>\n",
       "      <td>NaN</td>\n",
       "      <td>NaN</td>\n",
       "      <td>NaN</td>\n",
       "      <td>NaN</td>\n",
       "      <td>NaN</td>\n",
       "      <td>NaN</td>\n",
       "      <td>NaN</td>\n",
       "      <td>NaN</td>\n",
       "      <td>NaN</td>\n",
       "      <td>NaN</td>\n",
       "    </tr>\n",
       "    <tr>\n",
       "      <th>4</th>\n",
       "      <td>NaN</td>\n",
       "      <td>NaN</td>\n",
       "      <td>NaN</td>\n",
       "      <td>NaN</td>\n",
       "      <td>NaN</td>\n",
       "      <td>NaN</td>\n",
       "      <td>NaN</td>\n",
       "      <td>NaN</td>\n",
       "      <td>NaN</td>\n",
       "      <td>NaN</td>\n",
       "      <td>...</td>\n",
       "      <td>NaN</td>\n",
       "      <td>NaN</td>\n",
       "      <td>NaN</td>\n",
       "      <td>NaN</td>\n",
       "      <td>NaN</td>\n",
       "      <td>NaN</td>\n",
       "      <td>NaN</td>\n",
       "      <td>NaN</td>\n",
       "      <td>NaN</td>\n",
       "      <td>NaN</td>\n",
       "    </tr>\n",
       "    <tr>\n",
       "      <th>5</th>\n",
       "      <td>4.0</td>\n",
       "      <td>NaN</td>\n",
       "      <td>NaN</td>\n",
       "      <td>NaN</td>\n",
       "      <td>NaN</td>\n",
       "      <td>NaN</td>\n",
       "      <td>NaN</td>\n",
       "      <td>NaN</td>\n",
       "      <td>NaN</td>\n",
       "      <td>NaN</td>\n",
       "      <td>...</td>\n",
       "      <td>NaN</td>\n",
       "      <td>NaN</td>\n",
       "      <td>NaN</td>\n",
       "      <td>NaN</td>\n",
       "      <td>NaN</td>\n",
       "      <td>NaN</td>\n",
       "      <td>NaN</td>\n",
       "      <td>NaN</td>\n",
       "      <td>NaN</td>\n",
       "      <td>NaN</td>\n",
       "    </tr>\n",
       "  </tbody>\n",
       "</table>\n",
       "<p>5 rows × 9724 columns</p>\n",
       "</div>"
      ],
      "text/plain": [
       "movieId  1       2       3       4       5       6       7       8       \\\n",
       "userId                                                                    \n",
       "1           4.0     NaN     4.0     NaN     NaN     4.0     NaN     NaN   \n",
       "2           NaN     NaN     NaN     NaN     NaN     NaN     NaN     NaN   \n",
       "3           NaN     NaN     NaN     NaN     NaN     NaN     NaN     NaN   \n",
       "4           NaN     NaN     NaN     NaN     NaN     NaN     NaN     NaN   \n",
       "5           4.0     NaN     NaN     NaN     NaN     NaN     NaN     NaN   \n",
       "\n",
       "movieId  9       10      ...  193565  193567  193571  193573  193579  193581  \\\n",
       "userId                   ...                                                   \n",
       "1           NaN     NaN  ...     NaN     NaN     NaN     NaN     NaN     NaN   \n",
       "2           NaN     NaN  ...     NaN     NaN     NaN     NaN     NaN     NaN   \n",
       "3           NaN     NaN  ...     NaN     NaN     NaN     NaN     NaN     NaN   \n",
       "4           NaN     NaN  ...     NaN     NaN     NaN     NaN     NaN     NaN   \n",
       "5           NaN     NaN  ...     NaN     NaN     NaN     NaN     NaN     NaN   \n",
       "\n",
       "movieId  193583  193585  193587  193609  \n",
       "userId                                   \n",
       "1           NaN     NaN     NaN     NaN  \n",
       "2           NaN     NaN     NaN     NaN  \n",
       "3           NaN     NaN     NaN     NaN  \n",
       "4           NaN     NaN     NaN     NaN  \n",
       "5           NaN     NaN     NaN     NaN  \n",
       "\n",
       "[5 rows x 9724 columns]"
      ]
     },
     "execution_count": 32,
     "metadata": {},
     "output_type": "execute_result"
    }
   ],
   "source": [
    "wide = ratings.pivot(index='userId', columns='movieId', values='rating')\n",
    "wide.head()"
   ]
  },
  {
   "cell_type": "markdown",
   "metadata": {},
   "source": [
    "You might use this, and sort the results to get most similar users by Pearson correlation. You can also pass different methods for the `method` argument of corr to use different distance calculations.\n",
    "\n",
    "We can fill the missing values so as not to get NaN results from the calculation, although this greatly effects the calculations. Try it with and without filling missing values to see the difference. You could fill the missing values with -1, for example."
   ]
  },
  {
   "cell_type": "code",
   "execution_count": 33,
   "metadata": {},
   "outputs": [],
   "source": [
    "# wide.fillna(-1, inplace=True)"
   ]
  },
  {
   "cell_type": "code",
   "execution_count": 34,
   "metadata": {},
   "outputs": [],
   "source": [
    "cor = wide.T.corr()"
   ]
  },
  {
   "cell_type": "code",
   "execution_count": 35,
   "metadata": {},
   "outputs": [
    {
     "data": {
      "text/html": [
       "<div>\n",
       "<style scoped>\n",
       "    .dataframe tbody tr th:only-of-type {\n",
       "        vertical-align: middle;\n",
       "    }\n",
       "\n",
       "    .dataframe tbody tr th {\n",
       "        vertical-align: top;\n",
       "    }\n",
       "\n",
       "    .dataframe thead th {\n",
       "        text-align: right;\n",
       "    }\n",
       "</style>\n",
       "<table border=\"1\" class=\"dataframe\">\n",
       "  <thead>\n",
       "    <tr style=\"text-align: right;\">\n",
       "      <th>userId</th>\n",
       "      <th>1</th>\n",
       "      <th>2</th>\n",
       "      <th>3</th>\n",
       "      <th>4</th>\n",
       "      <th>5</th>\n",
       "      <th>6</th>\n",
       "      <th>7</th>\n",
       "      <th>8</th>\n",
       "      <th>9</th>\n",
       "      <th>10</th>\n",
       "      <th>...</th>\n",
       "      <th>601</th>\n",
       "      <th>602</th>\n",
       "      <th>603</th>\n",
       "      <th>604</th>\n",
       "      <th>605</th>\n",
       "      <th>606</th>\n",
       "      <th>607</th>\n",
       "      <th>608</th>\n",
       "      <th>609</th>\n",
       "      <th>610</th>\n",
       "    </tr>\n",
       "    <tr>\n",
       "      <th>userId</th>\n",
       "      <th></th>\n",
       "      <th></th>\n",
       "      <th></th>\n",
       "      <th></th>\n",
       "      <th></th>\n",
       "      <th></th>\n",
       "      <th></th>\n",
       "      <th></th>\n",
       "      <th></th>\n",
       "      <th></th>\n",
       "      <th></th>\n",
       "      <th></th>\n",
       "      <th></th>\n",
       "      <th></th>\n",
       "      <th></th>\n",
       "      <th></th>\n",
       "      <th></th>\n",
       "      <th></th>\n",
       "      <th></th>\n",
       "      <th></th>\n",
       "      <th></th>\n",
       "    </tr>\n",
       "  </thead>\n",
       "  <tbody>\n",
       "    <tr>\n",
       "      <th>1</th>\n",
       "      <td>1.000000</td>\n",
       "      <td>NaN</td>\n",
       "      <td>0.079819</td>\n",
       "      <td>0.207983</td>\n",
       "      <td>0.268749</td>\n",
       "      <td>-0.291636</td>\n",
       "      <td>-0.118773</td>\n",
       "      <td>0.469668</td>\n",
       "      <td>0.918559</td>\n",
       "      <td>-0.037987</td>\n",
       "      <td>...</td>\n",
       "      <td>9.157371e-02</td>\n",
       "      <td>-1.597727e-16</td>\n",
       "      <td>-0.061503</td>\n",
       "      <td>-0.407556</td>\n",
       "      <td>-0.164871</td>\n",
       "      <td>0.066378</td>\n",
       "      <td>0.174557</td>\n",
       "      <td>0.268070</td>\n",
       "      <td>-0.175412</td>\n",
       "      <td>-0.032086</td>\n",
       "    </tr>\n",
       "    <tr>\n",
       "      <th>2</th>\n",
       "      <td>NaN</td>\n",
       "      <td>1.0</td>\n",
       "      <td>NaN</td>\n",
       "      <td>NaN</td>\n",
       "      <td>NaN</td>\n",
       "      <td>NaN</td>\n",
       "      <td>-0.991241</td>\n",
       "      <td>NaN</td>\n",
       "      <td>NaN</td>\n",
       "      <td>0.037796</td>\n",
       "      <td>...</td>\n",
       "      <td>-3.873468e-01</td>\n",
       "      <td>NaN</td>\n",
       "      <td>-1.000000</td>\n",
       "      <td>NaN</td>\n",
       "      <td>NaN</td>\n",
       "      <td>0.583333</td>\n",
       "      <td>NaN</td>\n",
       "      <td>-0.125000</td>\n",
       "      <td>NaN</td>\n",
       "      <td>0.623288</td>\n",
       "    </tr>\n",
       "    <tr>\n",
       "      <th>3</th>\n",
       "      <td>0.079819</td>\n",
       "      <td>NaN</td>\n",
       "      <td>1.000000</td>\n",
       "      <td>NaN</td>\n",
       "      <td>NaN</td>\n",
       "      <td>NaN</td>\n",
       "      <td>NaN</td>\n",
       "      <td>NaN</td>\n",
       "      <td>NaN</td>\n",
       "      <td>NaN</td>\n",
       "      <td>...</td>\n",
       "      <td>NaN</td>\n",
       "      <td>NaN</td>\n",
       "      <td>0.433200</td>\n",
       "      <td>NaN</td>\n",
       "      <td>NaN</td>\n",
       "      <td>-0.791334</td>\n",
       "      <td>-0.333333</td>\n",
       "      <td>-0.395092</td>\n",
       "      <td>NaN</td>\n",
       "      <td>0.569562</td>\n",
       "    </tr>\n",
       "    <tr>\n",
       "      <th>4</th>\n",
       "      <td>0.207983</td>\n",
       "      <td>NaN</td>\n",
       "      <td>NaN</td>\n",
       "      <td>1.000000</td>\n",
       "      <td>-0.336525</td>\n",
       "      <td>0.148498</td>\n",
       "      <td>0.542861</td>\n",
       "      <td>0.117851</td>\n",
       "      <td>NaN</td>\n",
       "      <td>0.485794</td>\n",
       "      <td>...</td>\n",
       "      <td>-2.221127e-01</td>\n",
       "      <td>3.966413e-01</td>\n",
       "      <td>0.090090</td>\n",
       "      <td>-0.080296</td>\n",
       "      <td>0.400124</td>\n",
       "      <td>0.144603</td>\n",
       "      <td>0.116518</td>\n",
       "      <td>-0.170501</td>\n",
       "      <td>-0.277350</td>\n",
       "      <td>-0.043786</td>\n",
       "    </tr>\n",
       "    <tr>\n",
       "      <th>5</th>\n",
       "      <td>0.268749</td>\n",
       "      <td>NaN</td>\n",
       "      <td>NaN</td>\n",
       "      <td>-0.336525</td>\n",
       "      <td>1.000000</td>\n",
       "      <td>0.043166</td>\n",
       "      <td>0.158114</td>\n",
       "      <td>0.028347</td>\n",
       "      <td>NaN</td>\n",
       "      <td>-0.777714</td>\n",
       "      <td>...</td>\n",
       "      <td>2.719480e-16</td>\n",
       "      <td>1.533034e-01</td>\n",
       "      <td>0.234743</td>\n",
       "      <td>0.067791</td>\n",
       "      <td>-0.364156</td>\n",
       "      <td>0.244321</td>\n",
       "      <td>0.231080</td>\n",
       "      <td>-0.020546</td>\n",
       "      <td>0.384111</td>\n",
       "      <td>0.040582</td>\n",
       "    </tr>\n",
       "  </tbody>\n",
       "</table>\n",
       "<p>5 rows × 610 columns</p>\n",
       "</div>"
      ],
      "text/plain": [
       "userId       1    2         3         4         5         6         7    \\\n",
       "userId                                                                    \n",
       "1       1.000000  NaN  0.079819  0.207983  0.268749 -0.291636 -0.118773   \n",
       "2            NaN  1.0       NaN       NaN       NaN       NaN -0.991241   \n",
       "3       0.079819  NaN  1.000000       NaN       NaN       NaN       NaN   \n",
       "4       0.207983  NaN       NaN  1.000000 -0.336525  0.148498  0.542861   \n",
       "5       0.268749  NaN       NaN -0.336525  1.000000  0.043166  0.158114   \n",
       "\n",
       "userId       8         9         10   ...           601           602  \\\n",
       "userId                                ...                               \n",
       "1       0.469668  0.918559 -0.037987  ...  9.157371e-02 -1.597727e-16   \n",
       "2            NaN       NaN  0.037796  ... -3.873468e-01           NaN   \n",
       "3            NaN       NaN       NaN  ...           NaN           NaN   \n",
       "4       0.117851       NaN  0.485794  ... -2.221127e-01  3.966413e-01   \n",
       "5       0.028347       NaN -0.777714  ...  2.719480e-16  1.533034e-01   \n",
       "\n",
       "userId       603       604       605       606       607       608       609  \\\n",
       "userId                                                                         \n",
       "1      -0.061503 -0.407556 -0.164871  0.066378  0.174557  0.268070 -0.175412   \n",
       "2      -1.000000       NaN       NaN  0.583333       NaN -0.125000       NaN   \n",
       "3       0.433200       NaN       NaN -0.791334 -0.333333 -0.395092       NaN   \n",
       "4       0.090090 -0.080296  0.400124  0.144603  0.116518 -0.170501 -0.277350   \n",
       "5       0.234743  0.067791 -0.364156  0.244321  0.231080 -0.020546  0.384111   \n",
       "\n",
       "userId       610  \n",
       "userId            \n",
       "1      -0.032086  \n",
       "2       0.623288  \n",
       "3       0.569562  \n",
       "4      -0.043786  \n",
       "5       0.040582  \n",
       "\n",
       "[5 rows x 610 columns]"
      ]
     },
     "execution_count": 35,
     "metadata": {},
     "output_type": "execute_result"
    }
   ],
   "source": [
    "cor.head()"
   ]
  },
  {
   "cell_type": "markdown",
   "metadata": {},
   "source": [
    "We can get the most similar users to user 1 like so: select user 1 with `loc[1]` then sort values from greatest to least."
   ]
  },
  {
   "cell_type": "code",
   "execution_count": 36,
   "metadata": {},
   "outputs": [
    {
     "data": {
      "text/plain": [
       "userId\n",
       "1      1.0\n",
       "146    1.0\n",
       "106    1.0\n",
       "333    1.0\n",
       "598    1.0\n",
       "      ... \n",
       "538    NaN\n",
       "545    NaN\n",
       "547    NaN\n",
       "556    NaN\n",
       "578    NaN\n",
       "Name: 1, Length: 610, dtype: float64"
      ]
     },
     "execution_count": 36,
     "metadata": {},
     "output_type": "execute_result"
    }
   ],
   "source": [
    "cor.loc[1].sort_values(ascending=False)"
   ]
  },
  {
   "cell_type": "markdown",
   "metadata": {},
   "source": [
    "Check if two users have rated the same movies, then find the movies the first one has not watched from the second one."
   ]
  },
  {
   "cell_type": "code",
   "execution_count": 37,
   "metadata": {},
   "outputs": [
    {
     "data": {
      "text/plain": [
       "False"
      ]
     },
     "execution_count": 37,
     "metadata": {},
     "output_type": "execute_result"
    }
   ],
   "source": [
    "wide.loc[1].notna().equals(wide.loc[146].notna())"
   ]
  },
  {
   "cell_type": "markdown",
   "metadata": {},
   "source": [
    "We can get movies rated 5 by 146, but not rated by 1 - these could be recommendations. We use pandas filtering here to get these."
   ]
  },
  {
   "cell_type": "code",
   "execution_count": 38,
   "metadata": {},
   "outputs": [
    {
     "name": "stdout",
     "output_type": "stream",
     "text": [
      "movieId\n",
      "32      NaN\n",
      "30803   NaN\n",
      "Name: 1, dtype: float64\n",
      "movieId\n",
      "32       5.0\n",
      "30803    5.0\n",
      "Name: 146, dtype: float64\n"
     ]
    }
   ],
   "source": [
    "rated_5_by_146_not_watched_by_1 = (wide.loc[146] == 5) & (wide.loc[1].isna())\n",
    "print(wide.loc[1][rated_5_by_146_not_watched_by_1])\n",
    "print(wide.loc[146][rated_5_by_146_not_watched_by_1])"
   ]
  },
  {
   "cell_type": "markdown",
   "metadata": {},
   "source": [
    "We can also use Euclidean or cosine distances to calculate similarities. For these and other numpy calculations, we cannot have missing values.\n",
    "\n",
    "We can use our same corr function, but change the method to our Euclidean or cosine distance. However, that takes longer to calculate than using the pdist function from scipy."
   ]
  },
  {
   "cell_type": "code",
   "execution_count": 39,
   "metadata": {},
   "outputs": [],
   "source": [
    "wide.fillna(-1, inplace=True)"
   ]
  },
  {
   "cell_type": "code",
   "execution_count": 40,
   "metadata": {},
   "outputs": [
    {
     "data": {
      "text/plain": [
       "33.91902121229326"
      ]
     },
     "execution_count": 40,
     "metadata": {},
     "output_type": "execute_result"
    }
   ],
   "source": [
    "euclidean(wide.iloc[1], wide.iloc[146])"
   ]
  },
  {
   "cell_type": "code",
   "execution_count": 41,
   "metadata": {},
   "outputs": [],
   "source": [
    "from scipy.spatial.distance import pdist, squareform"
   ]
  },
  {
   "cell_type": "code",
   "execution_count": 42,
   "metadata": {},
   "outputs": [],
   "source": [
    "euclidean_distances = squareform(pdist(wide, metric=euclidean)) # or metric='euclidean'"
   ]
  },
  {
   "cell_type": "code",
   "execution_count": 43,
   "metadata": {},
   "outputs": [],
   "source": [
    "euclidean_df = pd.DataFrame(data=euclidean_distances, columns=wide.index, index=wide.index)"
   ]
  },
  {
   "cell_type": "code",
   "execution_count": 44,
   "metadata": {},
   "outputs": [
    {
     "data": {
      "text/html": [
       "<div>\n",
       "<style scoped>\n",
       "    .dataframe tbody tr th:only-of-type {\n",
       "        vertical-align: middle;\n",
       "    }\n",
       "\n",
       "    .dataframe tbody tr th {\n",
       "        vertical-align: top;\n",
       "    }\n",
       "\n",
       "    .dataframe thead th {\n",
       "        text-align: right;\n",
       "    }\n",
       "</style>\n",
       "<table border=\"1\" class=\"dataframe\">\n",
       "  <thead>\n",
       "    <tr style=\"text-align: right;\">\n",
       "      <th>userId</th>\n",
       "      <th>1</th>\n",
       "      <th>2</th>\n",
       "      <th>3</th>\n",
       "      <th>4</th>\n",
       "      <th>5</th>\n",
       "      <th>6</th>\n",
       "      <th>7</th>\n",
       "      <th>8</th>\n",
       "      <th>9</th>\n",
       "      <th>10</th>\n",
       "      <th>...</th>\n",
       "      <th>601</th>\n",
       "      <th>602</th>\n",
       "      <th>603</th>\n",
       "      <th>604</th>\n",
       "      <th>605</th>\n",
       "      <th>606</th>\n",
       "      <th>607</th>\n",
       "      <th>608</th>\n",
       "      <th>609</th>\n",
       "      <th>610</th>\n",
       "    </tr>\n",
       "    <tr>\n",
       "      <th>userId</th>\n",
       "      <th></th>\n",
       "      <th></th>\n",
       "      <th></th>\n",
       "      <th></th>\n",
       "      <th></th>\n",
       "      <th></th>\n",
       "      <th></th>\n",
       "      <th></th>\n",
       "      <th></th>\n",
       "      <th></th>\n",
       "      <th></th>\n",
       "      <th></th>\n",
       "      <th></th>\n",
       "      <th></th>\n",
       "      <th></th>\n",
       "      <th></th>\n",
       "      <th></th>\n",
       "      <th></th>\n",
       "      <th></th>\n",
       "      <th></th>\n",
       "      <th></th>\n",
       "    </tr>\n",
       "  </thead>\n",
       "  <tbody>\n",
       "    <tr>\n",
       "      <th>1</th>\n",
       "      <td>0.000000</td>\n",
       "      <td>86.239492</td>\n",
       "      <td>84.731930</td>\n",
       "      <td>96.979379</td>\n",
       "      <td>84.516271</td>\n",
       "      <td>108.083301</td>\n",
       "      <td>91.651514</td>\n",
       "      <td>84.380092</td>\n",
       "      <td>86.203248</td>\n",
       "      <td>96.969067</td>\n",
       "      <td>...</td>\n",
       "      <td>95.430603</td>\n",
       "      <td>90.288427</td>\n",
       "      <td>147.939177</td>\n",
       "      <td>91.350972</td>\n",
       "      <td>96.224997</td>\n",
       "      <td>165.230143</td>\n",
       "      <td>90.862534</td>\n",
       "      <td>126.232920</td>\n",
       "      <td>84.279298</td>\n",
       "      <td>179.904836</td>\n",
       "    </tr>\n",
       "    <tr>\n",
       "      <th>2</th>\n",
       "      <td>86.239492</td>\n",
       "      <td>0.000000</td>\n",
       "      <td>36.806929</td>\n",
       "      <td>74.567084</td>\n",
       "      <td>41.039615</td>\n",
       "      <td>84.777650</td>\n",
       "      <td>60.172668</td>\n",
       "      <td>41.318882</td>\n",
       "      <td>40.450587</td>\n",
       "      <td>57.295288</td>\n",
       "      <td>...</td>\n",
       "      <td>55.859198</td>\n",
       "      <td>58.423026</td>\n",
       "      <td>145.090489</td>\n",
       "      <td>52.822817</td>\n",
       "      <td>69.235107</td>\n",
       "      <td>158.923724</td>\n",
       "      <td>71.674612</td>\n",
       "      <td>124.893955</td>\n",
       "      <td>37.016888</td>\n",
       "      <td>171.373860</td>\n",
       "    </tr>\n",
       "    <tr>\n",
       "      <th>3</th>\n",
       "      <td>84.731930</td>\n",
       "      <td>36.806929</td>\n",
       "      <td>0.000000</td>\n",
       "      <td>73.908727</td>\n",
       "      <td>39.956226</td>\n",
       "      <td>84.584277</td>\n",
       "      <td>60.112395</td>\n",
       "      <td>40.441316</td>\n",
       "      <td>39.172695</td>\n",
       "      <td>58.150666</td>\n",
       "      <td>...</td>\n",
       "      <td>59.895743</td>\n",
       "      <td>57.701820</td>\n",
       "      <td>144.296570</td>\n",
       "      <td>51.850747</td>\n",
       "      <td>68.233057</td>\n",
       "      <td>158.848985</td>\n",
       "      <td>70.664701</td>\n",
       "      <td>124.946989</td>\n",
       "      <td>36.173194</td>\n",
       "      <td>172.971819</td>\n",
       "    </tr>\n",
       "    <tr>\n",
       "      <th>4</th>\n",
       "      <td>96.979379</td>\n",
       "      <td>74.567084</td>\n",
       "      <td>73.908727</td>\n",
       "      <td>0.000000</td>\n",
       "      <td>72.608539</td>\n",
       "      <td>101.847926</td>\n",
       "      <td>83.330667</td>\n",
       "      <td>74.639132</td>\n",
       "      <td>75.591005</td>\n",
       "      <td>85.743804</td>\n",
       "      <td>...</td>\n",
       "      <td>84.604964</td>\n",
       "      <td>81.455509</td>\n",
       "      <td>137.952891</td>\n",
       "      <td>81.018516</td>\n",
       "      <td>90.461318</td>\n",
       "      <td>158.726179</td>\n",
       "      <td>89.693924</td>\n",
       "      <td>131.524713</td>\n",
       "      <td>73.593478</td>\n",
       "      <td>178.462181</td>\n",
       "    </tr>\n",
       "    <tr>\n",
       "      <th>5</th>\n",
       "      <td>84.516271</td>\n",
       "      <td>41.039615</td>\n",
       "      <td>39.956226</td>\n",
       "      <td>72.608539</td>\n",
       "      <td>0.000000</td>\n",
       "      <td>77.479029</td>\n",
       "      <td>59.958319</td>\n",
       "      <td>33.837849</td>\n",
       "      <td>43.543082</td>\n",
       "      <td>60.274373</td>\n",
       "      <td>...</td>\n",
       "      <td>61.253571</td>\n",
       "      <td>48.383882</td>\n",
       "      <td>142.762040</td>\n",
       "      <td>47.833043</td>\n",
       "      <td>66.740168</td>\n",
       "      <td>157.171880</td>\n",
       "      <td>69.188149</td>\n",
       "      <td>122.697799</td>\n",
       "      <td>35.270384</td>\n",
       "      <td>172.935682</td>\n",
       "    </tr>\n",
       "  </tbody>\n",
       "</table>\n",
       "<p>5 rows × 610 columns</p>\n",
       "</div>"
      ],
      "text/plain": [
       "userId        1          2          3          4          5           6    \\\n",
       "userId                                                                      \n",
       "1        0.000000  86.239492  84.731930  96.979379  84.516271  108.083301   \n",
       "2       86.239492   0.000000  36.806929  74.567084  41.039615   84.777650   \n",
       "3       84.731930  36.806929   0.000000  73.908727  39.956226   84.584277   \n",
       "4       96.979379  74.567084  73.908727   0.000000  72.608539  101.847926   \n",
       "5       84.516271  41.039615  39.956226  72.608539   0.000000   77.479029   \n",
       "\n",
       "userId        7          8          9          10   ...        601        602  \\\n",
       "userId                                              ...                         \n",
       "1       91.651514  84.380092  86.203248  96.969067  ...  95.430603  90.288427   \n",
       "2       60.172668  41.318882  40.450587  57.295288  ...  55.859198  58.423026   \n",
       "3       60.112395  40.441316  39.172695  58.150666  ...  59.895743  57.701820   \n",
       "4       83.330667  74.639132  75.591005  85.743804  ...  84.604964  81.455509   \n",
       "5       59.958319  33.837849  43.543082  60.274373  ...  61.253571  48.383882   \n",
       "\n",
       "userId         603        604        605         606        607         608  \\\n",
       "userId                                                                        \n",
       "1       147.939177  91.350972  96.224997  165.230143  90.862534  126.232920   \n",
       "2       145.090489  52.822817  69.235107  158.923724  71.674612  124.893955   \n",
       "3       144.296570  51.850747  68.233057  158.848985  70.664701  124.946989   \n",
       "4       137.952891  81.018516  90.461318  158.726179  89.693924  131.524713   \n",
       "5       142.762040  47.833043  66.740168  157.171880  69.188149  122.697799   \n",
       "\n",
       "userId        609         610  \n",
       "userId                         \n",
       "1       84.279298  179.904836  \n",
       "2       37.016888  171.373860  \n",
       "3       36.173194  172.971819  \n",
       "4       73.593478  178.462181  \n",
       "5       35.270384  172.935682  \n",
       "\n",
       "[5 rows x 610 columns]"
      ]
     },
     "execution_count": 44,
     "metadata": {},
     "output_type": "execute_result"
    }
   ],
   "source": [
    "euclidean_df.head()"
   ]
  },
  {
   "cell_type": "markdown",
   "metadata": {},
   "source": [
    "Of course, the distance between a point and itself is 0, so the diagonal is 0s. We can then get the most similar users to user 1:"
   ]
  },
  {
   "cell_type": "code",
   "execution_count": 45,
   "metadata": {},
   "outputs": [
    {
     "data": {
      "text/plain": [
       "userId\n",
       "1        0.000000\n",
       "493     80.851716\n",
       "39      81.357237\n",
       "494     81.767964\n",
       "164     81.841310\n",
       "          ...    \n",
       "448    171.276823\n",
       "610    179.904836\n",
       "599    181.565415\n",
       "474    203.798921\n",
       "414    224.808252\n",
       "Name: 1, Length: 610, dtype: float64"
      ]
     },
     "execution_count": 45,
     "metadata": {},
     "output_type": "execute_result"
    }
   ],
   "source": [
    "euclidean_df.loc[1].sort_values()"
   ]
  },
  {
   "cell_type": "code",
   "execution_count": 46,
   "metadata": {},
   "outputs": [
    {
     "data": {
      "text/plain": [
       "85.64899298882627"
      ]
     },
     "execution_count": 46,
     "metadata": {},
     "output_type": "execute_result"
    }
   ],
   "source": [
    "euclidean_df.loc[1].sort_values().loc[146]"
   ]
  },
  {
   "cell_type": "markdown",
   "metadata": {},
   "source": [
    "We can see the user that was most similar by Pearson correlation is not the same as Euclidean distance. Let's check cosine distance as well."
   ]
  },
  {
   "cell_type": "code",
   "execution_count": 47,
   "metadata": {},
   "outputs": [
    {
     "data": {
      "text/plain": [
       "userId\n",
       "1      0.000000\n",
       "39     0.256315\n",
       "493    0.257912\n",
       "96     0.262586\n",
       "164    0.265731\n",
       "         ...   \n",
       "448    0.741735\n",
       "610    0.774839\n",
       "599    0.810149\n",
       "474    0.862710\n",
       "414    0.917347\n",
       "Name: 1, Length: 610, dtype: float64"
      ]
     },
     "execution_count": 47,
     "metadata": {},
     "output_type": "execute_result"
    }
   ],
   "source": [
    "cosine_distances = squareform(pdist(wide, metric='cosine'))\n",
    "cosine_df = pd.DataFrame(cosine_distances, columns=wide.index, index=wide.index)\n",
    "cosine_df.loc[1].sort_values()"
   ]
  },
  {
   "cell_type": "markdown",
   "metadata": {},
   "source": [
    "We can see here that the top 2 most similar users are the same between cosine and Euclidean distance, but not Pearson correlation."
   ]
  },
  {
   "cell_type": "code",
   "execution_count": 48,
   "metadata": {},
   "outputs": [
    {
     "data": {
      "text/plain": [
       "0.2944685362405085"
      ]
     },
     "execution_count": 48,
     "metadata": {},
     "output_type": "execute_result"
    }
   ],
   "source": [
    "cosine_df.loc[1].sort_values().loc[146]"
   ]
  },
  {
   "cell_type": "markdown",
   "metadata": {},
   "source": [
    "## More EDA"
   ]
  },
  {
   "cell_type": "markdown",
   "metadata": {},
   "source": [
    "We can do some more EDA and analysis of the data. For example, here is how to get user 1's top movie title."
   ]
  },
  {
   "cell_type": "code",
   "execution_count": 49,
   "metadata": {},
   "outputs": [
    {
     "name": "stdout",
     "output_type": "stream",
     "text": [
      "5.0\n",
      "43\n"
     ]
    }
   ],
   "source": [
    "print(wide.loc[1].max())\n",
    "print(wide.loc[1].argmax())"
   ]
  },
  {
   "cell_type": "code",
   "execution_count": 50,
   "metadata": {},
   "outputs": [
    {
     "data": {
      "text/plain": [
       "47"
      ]
     },
     "execution_count": 50,
     "metadata": {},
     "output_type": "execute_result"
    }
   ],
   "source": [
    "# gets the column name for one of user 1's top movies, which is the movie ID\n",
    "wide.columns[43]"
   ]
  },
  {
   "cell_type": "code",
   "execution_count": 51,
   "metadata": {},
   "outputs": [
    {
     "data": {
      "text/plain": [
       "title     Seven (a.k.a. Se7en) (1995)\n",
       "genres               Mystery|Thriller\n",
       "Name: 47, dtype: object"
      ]
     },
     "execution_count": 51,
     "metadata": {},
     "output_type": "execute_result"
    }
   ],
   "source": [
    "movies.loc[47]"
   ]
  },
  {
   "cell_type": "markdown",
   "metadata": {},
   "source": [
    "We can also use pandas filtering to see how many other users rated this a 5 like user 1."
   ]
  },
  {
   "cell_type": "code",
   "execution_count": 52,
   "metadata": {
    "scrolled": true
   },
   "outputs": [
    {
     "data": {
      "text/html": [
       "<div>\n",
       "<style scoped>\n",
       "    .dataframe tbody tr th:only-of-type {\n",
       "        vertical-align: middle;\n",
       "    }\n",
       "\n",
       "    .dataframe tbody tr th {\n",
       "        vertical-align: top;\n",
       "    }\n",
       "\n",
       "    .dataframe thead th {\n",
       "        text-align: right;\n",
       "    }\n",
       "</style>\n",
       "<table border=\"1\" class=\"dataframe\">\n",
       "  <thead>\n",
       "    <tr style=\"text-align: right;\">\n",
       "      <th></th>\n",
       "      <th>userId</th>\n",
       "      <th>movieId</th>\n",
       "      <th>rating</th>\n",
       "      <th>timestamp</th>\n",
       "    </tr>\n",
       "  </thead>\n",
       "  <tbody>\n",
       "    <tr>\n",
       "      <th>3</th>\n",
       "      <td>1</td>\n",
       "      <td>47</td>\n",
       "      <td>5.0</td>\n",
       "      <td>964983815</td>\n",
       "    </tr>\n",
       "    <tr>\n",
       "      <th>1355</th>\n",
       "      <td>13</td>\n",
       "      <td>47</td>\n",
       "      <td>5.0</td>\n",
       "      <td>987895819</td>\n",
       "    </tr>\n",
       "    <tr>\n",
       "      <th>1392</th>\n",
       "      <td>14</td>\n",
       "      <td>47</td>\n",
       "      <td>5.0</td>\n",
       "      <td>835441133</td>\n",
       "    </tr>\n",
       "    <tr>\n",
       "      <th>7993</th>\n",
       "      <td>56</td>\n",
       "      <td>47</td>\n",
       "      <td>5.0</td>\n",
       "      <td>835799219</td>\n",
       "    </tr>\n",
       "    <tr>\n",
       "      <th>8522</th>\n",
       "      <td>58</td>\n",
       "      <td>47</td>\n",
       "      <td>5.0</td>\n",
       "      <td>847718657</td>\n",
       "    </tr>\n",
       "    <tr>\n",
       "      <th>9986</th>\n",
       "      <td>66</td>\n",
       "      <td>47</td>\n",
       "      <td>5.0</td>\n",
       "      <td>1093747353</td>\n",
       "    </tr>\n",
       "    <tr>\n",
       "      <th>15514</th>\n",
       "      <td>102</td>\n",
       "      <td>47</td>\n",
       "      <td>5.0</td>\n",
       "      <td>835876045</td>\n",
       "    </tr>\n",
       "    <tr>\n",
       "      <th>16218</th>\n",
       "      <td>105</td>\n",
       "      <td>47</td>\n",
       "      <td>5.0</td>\n",
       "      <td>1446571714</td>\n",
       "    </tr>\n",
       "    <tr>\n",
       "      <th>17915</th>\n",
       "      <td>112</td>\n",
       "      <td>47</td>\n",
       "      <td>5.0</td>\n",
       "      <td>1442535846</td>\n",
       "    </tr>\n",
       "    <tr>\n",
       "      <th>19590</th>\n",
       "      <td>126</td>\n",
       "      <td>47</td>\n",
       "      <td>5.0</td>\n",
       "      <td>845925822</td>\n",
       "    </tr>\n",
       "    <tr>\n",
       "      <th>20340</th>\n",
       "      <td>135</td>\n",
       "      <td>47</td>\n",
       "      <td>5.0</td>\n",
       "      <td>1009691144</td>\n",
       "    </tr>\n",
       "    <tr>\n",
       "      <th>20622</th>\n",
       "      <td>136</td>\n",
       "      <td>47</td>\n",
       "      <td>5.0</td>\n",
       "      <td>832449299</td>\n",
       "    </tr>\n",
       "    <tr>\n",
       "      <th>22362</th>\n",
       "      <td>152</td>\n",
       "      <td>47</td>\n",
       "      <td>5.0</td>\n",
       "      <td>1450867741</td>\n",
       "    </tr>\n",
       "    <tr>\n",
       "      <th>23234</th>\n",
       "      <td>160</td>\n",
       "      <td>47</td>\n",
       "      <td>5.0</td>\n",
       "      <td>971115962</td>\n",
       "    </tr>\n",
       "    <tr>\n",
       "      <th>24645</th>\n",
       "      <td>171</td>\n",
       "      <td>47</td>\n",
       "      <td>5.0</td>\n",
       "      <td>866905267</td>\n",
       "    </tr>\n",
       "    <tr>\n",
       "      <th>24866</th>\n",
       "      <td>176</td>\n",
       "      <td>47</td>\n",
       "      <td>5.0</td>\n",
       "      <td>840109138</td>\n",
       "    </tr>\n",
       "    <tr>\n",
       "      <th>28347</th>\n",
       "      <td>198</td>\n",
       "      <td>47</td>\n",
       "      <td>5.0</td>\n",
       "      <td>1034136177</td>\n",
       "    </tr>\n",
       "    <tr>\n",
       "      <th>29826</th>\n",
       "      <td>204</td>\n",
       "      <td>47</td>\n",
       "      <td>5.0</td>\n",
       "      <td>1327182956</td>\n",
       "    </tr>\n",
       "    <tr>\n",
       "      <th>33054</th>\n",
       "      <td>226</td>\n",
       "      <td>47</td>\n",
       "      <td>5.0</td>\n",
       "      <td>1160003508</td>\n",
       "    </tr>\n",
       "    <tr>\n",
       "      <th>33553</th>\n",
       "      <td>227</td>\n",
       "      <td>47</td>\n",
       "      <td>5.0</td>\n",
       "      <td>1447209787</td>\n",
       "    </tr>\n",
       "    <tr>\n",
       "      <th>35309</th>\n",
       "      <td>239</td>\n",
       "      <td>47</td>\n",
       "      <td>5.0</td>\n",
       "      <td>1221158250</td>\n",
       "    </tr>\n",
       "    <tr>\n",
       "      <th>35787</th>\n",
       "      <td>242</td>\n",
       "      <td>47</td>\n",
       "      <td>5.0</td>\n",
       "      <td>834073178</td>\n",
       "    </tr>\n",
       "    <tr>\n",
       "      <th>36379</th>\n",
       "      <td>249</td>\n",
       "      <td>47</td>\n",
       "      <td>5.0</td>\n",
       "      <td>1346757700</td>\n",
       "    </tr>\n",
       "    <tr>\n",
       "      <th>37447</th>\n",
       "      <td>251</td>\n",
       "      <td>47</td>\n",
       "      <td>5.0</td>\n",
       "      <td>1470677268</td>\n",
       "    </tr>\n",
       "    <tr>\n",
       "      <th>41859</th>\n",
       "      <td>286</td>\n",
       "      <td>47</td>\n",
       "      <td>5.0</td>\n",
       "      <td>1119562911</td>\n",
       "    </tr>\n",
       "    <tr>\n",
       "      <th>45650</th>\n",
       "      <td>302</td>\n",
       "      <td>47</td>\n",
       "      <td>5.0</td>\n",
       "      <td>854473264</td>\n",
       "    </tr>\n",
       "    <tr>\n",
       "      <th>48246</th>\n",
       "      <td>313</td>\n",
       "      <td>47</td>\n",
       "      <td>5.0</td>\n",
       "      <td>1030476272</td>\n",
       "    </tr>\n",
       "    <tr>\n",
       "      <th>48798</th>\n",
       "      <td>317</td>\n",
       "      <td>47</td>\n",
       "      <td>5.0</td>\n",
       "      <td>1430361508</td>\n",
       "    </tr>\n",
       "    <tr>\n",
       "      <th>51910</th>\n",
       "      <td>337</td>\n",
       "      <td>47</td>\n",
       "      <td>5.0</td>\n",
       "      <td>860256118</td>\n",
       "    </tr>\n",
       "    <tr>\n",
       "      <th>53198</th>\n",
       "      <td>352</td>\n",
       "      <td>47</td>\n",
       "      <td>5.0</td>\n",
       "      <td>1493931953</td>\n",
       "    </tr>\n",
       "    <tr>\n",
       "      <th>53505</th>\n",
       "      <td>353</td>\n",
       "      <td>47</td>\n",
       "      <td>5.0</td>\n",
       "      <td>831939731</td>\n",
       "    </tr>\n",
       "    <tr>\n",
       "      <th>56143</th>\n",
       "      <td>372</td>\n",
       "      <td>47</td>\n",
       "      <td>5.0</td>\n",
       "      <td>874417240</td>\n",
       "    </tr>\n",
       "    <tr>\n",
       "      <th>56376</th>\n",
       "      <td>373</td>\n",
       "      <td>47</td>\n",
       "      <td>5.0</td>\n",
       "      <td>846829997</td>\n",
       "    </tr>\n",
       "    <tr>\n",
       "      <th>56890</th>\n",
       "      <td>380</td>\n",
       "      <td>47</td>\n",
       "      <td>5.0</td>\n",
       "      <td>1493494893</td>\n",
       "    </tr>\n",
       "    <tr>\n",
       "      <th>61157</th>\n",
       "      <td>400</td>\n",
       "      <td>47</td>\n",
       "      <td>5.0</td>\n",
       "      <td>1498870391</td>\n",
       "    </tr>\n",
       "    <tr>\n",
       "      <th>61319</th>\n",
       "      <td>403</td>\n",
       "      <td>47</td>\n",
       "      <td>5.0</td>\n",
       "      <td>1225243620</td>\n",
       "    </tr>\n",
       "    <tr>\n",
       "      <th>65137</th>\n",
       "      <td>417</td>\n",
       "      <td>47</td>\n",
       "      <td>5.0</td>\n",
       "      <td>1532134167</td>\n",
       "    </tr>\n",
       "    <tr>\n",
       "      <th>65747</th>\n",
       "      <td>424</td>\n",
       "      <td>47</td>\n",
       "      <td>5.0</td>\n",
       "      <td>1457842442</td>\n",
       "    </tr>\n",
       "    <tr>\n",
       "      <th>70644</th>\n",
       "      <td>452</td>\n",
       "      <td>47</td>\n",
       "      <td>5.0</td>\n",
       "      <td>1019581177</td>\n",
       "    </tr>\n",
       "    <tr>\n",
       "      <th>70850</th>\n",
       "      <td>453</td>\n",
       "      <td>47</td>\n",
       "      <td>5.0</td>\n",
       "      <td>972622637</td>\n",
       "    </tr>\n",
       "    <tr>\n",
       "      <th>72039</th>\n",
       "      <td>464</td>\n",
       "      <td>47</td>\n",
       "      <td>5.0</td>\n",
       "      <td>1275549635</td>\n",
       "    </tr>\n",
       "    <tr>\n",
       "      <th>72423</th>\n",
       "      <td>468</td>\n",
       "      <td>47</td>\n",
       "      <td>5.0</td>\n",
       "      <td>831400545</td>\n",
       "    </tr>\n",
       "    <tr>\n",
       "      <th>80255</th>\n",
       "      <td>505</td>\n",
       "      <td>47</td>\n",
       "      <td>5.0</td>\n",
       "      <td>1298780253</td>\n",
       "    </tr>\n",
       "    <tr>\n",
       "      <th>81003</th>\n",
       "      <td>512</td>\n",
       "      <td>47</td>\n",
       "      <td>5.0</td>\n",
       "      <td>841449359</td>\n",
       "    </tr>\n",
       "    <tr>\n",
       "      <th>82492</th>\n",
       "      <td>524</td>\n",
       "      <td>47</td>\n",
       "      <td>5.0</td>\n",
       "      <td>851608960</td>\n",
       "    </tr>\n",
       "    <tr>\n",
       "      <th>84414</th>\n",
       "      <td>542</td>\n",
       "      <td>47</td>\n",
       "      <td>5.0</td>\n",
       "      <td>1163386913</td>\n",
       "    </tr>\n",
       "    <tr>\n",
       "      <th>88681</th>\n",
       "      <td>573</td>\n",
       "      <td>47</td>\n",
       "      <td>5.0</td>\n",
       "      <td>1186589586</td>\n",
       "    </tr>\n",
       "    <tr>\n",
       "      <th>88976</th>\n",
       "      <td>574</td>\n",
       "      <td>47</td>\n",
       "      <td>5.0</td>\n",
       "      <td>834634527</td>\n",
       "    </tr>\n",
       "    <tr>\n",
       "      <th>89324</th>\n",
       "      <td>580</td>\n",
       "      <td>47</td>\n",
       "      <td>5.0</td>\n",
       "      <td>1167791127</td>\n",
       "    </tr>\n",
       "    <tr>\n",
       "      <th>89910</th>\n",
       "      <td>584</td>\n",
       "      <td>47</td>\n",
       "      <td>5.0</td>\n",
       "      <td>834987730</td>\n",
       "    </tr>\n",
       "    <tr>\n",
       "      <th>95981</th>\n",
       "      <td>602</td>\n",
       "      <td>47</td>\n",
       "      <td>5.0</td>\n",
       "      <td>840875668</td>\n",
       "    </tr>\n",
       "    <tr>\n",
       "      <th>99538</th>\n",
       "      <td>610</td>\n",
       "      <td>47</td>\n",
       "      <td>5.0</td>\n",
       "      <td>1479545853</td>\n",
       "    </tr>\n",
       "  </tbody>\n",
       "</table>\n",
       "</div>"
      ],
      "text/plain": [
       "       userId  movieId  rating   timestamp\n",
       "3           1       47     5.0   964983815\n",
       "1355       13       47     5.0   987895819\n",
       "1392       14       47     5.0   835441133\n",
       "7993       56       47     5.0   835799219\n",
       "8522       58       47     5.0   847718657\n",
       "9986       66       47     5.0  1093747353\n",
       "15514     102       47     5.0   835876045\n",
       "16218     105       47     5.0  1446571714\n",
       "17915     112       47     5.0  1442535846\n",
       "19590     126       47     5.0   845925822\n",
       "20340     135       47     5.0  1009691144\n",
       "20622     136       47     5.0   832449299\n",
       "22362     152       47     5.0  1450867741\n",
       "23234     160       47     5.0   971115962\n",
       "24645     171       47     5.0   866905267\n",
       "24866     176       47     5.0   840109138\n",
       "28347     198       47     5.0  1034136177\n",
       "29826     204       47     5.0  1327182956\n",
       "33054     226       47     5.0  1160003508\n",
       "33553     227       47     5.0  1447209787\n",
       "35309     239       47     5.0  1221158250\n",
       "35787     242       47     5.0   834073178\n",
       "36379     249       47     5.0  1346757700\n",
       "37447     251       47     5.0  1470677268\n",
       "41859     286       47     5.0  1119562911\n",
       "45650     302       47     5.0   854473264\n",
       "48246     313       47     5.0  1030476272\n",
       "48798     317       47     5.0  1430361508\n",
       "51910     337       47     5.0   860256118\n",
       "53198     352       47     5.0  1493931953\n",
       "53505     353       47     5.0   831939731\n",
       "56143     372       47     5.0   874417240\n",
       "56376     373       47     5.0   846829997\n",
       "56890     380       47     5.0  1493494893\n",
       "61157     400       47     5.0  1498870391\n",
       "61319     403       47     5.0  1225243620\n",
       "65137     417       47     5.0  1532134167\n",
       "65747     424       47     5.0  1457842442\n",
       "70644     452       47     5.0  1019581177\n",
       "70850     453       47     5.0   972622637\n",
       "72039     464       47     5.0  1275549635\n",
       "72423     468       47     5.0   831400545\n",
       "80255     505       47     5.0  1298780253\n",
       "81003     512       47     5.0   841449359\n",
       "82492     524       47     5.0   851608960\n",
       "84414     542       47     5.0  1163386913\n",
       "88681     573       47     5.0  1186589586\n",
       "88976     574       47     5.0   834634527\n",
       "89324     580       47     5.0  1167791127\n",
       "89910     584       47     5.0   834987730\n",
       "95981     602       47     5.0   840875668\n",
       "99538     610       47     5.0  1479545853"
      ]
     },
     "execution_count": 52,
     "metadata": {},
     "output_type": "execute_result"
    }
   ],
   "source": [
    "ratings[(ratings['movieId'] == 47) & (ratings['rating'] == 5.0)]"
   ]
  },
  {
   "cell_type": "markdown",
   "metadata": {},
   "source": [
    "There are more movies this person rated a 5 (their max):"
   ]
  },
  {
   "cell_type": "code",
   "execution_count": 53,
   "metadata": {},
   "outputs": [
    {
     "data": {
      "text/plain": [
       "movieId\n",
       "47      5.0\n",
       "50      5.0\n",
       "101     5.0\n",
       "151     5.0\n",
       "157     5.0\n",
       "       ... \n",
       "3702    5.0\n",
       "3703    5.0\n",
       "3729    5.0\n",
       "3793    5.0\n",
       "5060    5.0\n",
       "Name: 1, Length: 124, dtype: float64"
      ]
     },
     "execution_count": 53,
     "metadata": {},
     "output_type": "execute_result"
    }
   ],
   "source": [
    "wide.loc[1][wide.loc[1] == 5]"
   ]
  },
  {
   "cell_type": "markdown",
   "metadata": {},
   "source": [
    "Lastly, we can get their top movies like so:"
   ]
  },
  {
   "cell_type": "code",
   "execution_count": 54,
   "metadata": {},
   "outputs": [
    {
     "data": {
      "text/plain": [
       "movieId\n",
       "2991      5.0\n",
       "1220      5.0\n",
       "1282      5.0\n",
       "2291      5.0\n",
       "2899      5.0\n",
       "         ... \n",
       "4624     -1.0\n",
       "4625     -1.0\n",
       "4626     -1.0\n",
       "4628     -1.0\n",
       "193609   -1.0\n",
       "Name: 1, Length: 9724, dtype: float64"
      ]
     },
     "execution_count": 54,
     "metadata": {},
     "output_type": "execute_result"
    }
   ],
   "source": [
    "wide.loc[1].sort_values(ascending=False)"
   ]
  },
  {
   "cell_type": "markdown",
   "metadata": {},
   "source": [
    "# Optional Advanced Section: Using Python libraries for more advanced recommenders"
   ]
  },
  {
   "cell_type": "markdown",
   "metadata": {},
   "source": [
    "There are several packges for recommenders in Python, but one of the top packages is surprise. We first need to install it with `conda install -c conda-forge scikit-surprise -y`. The docs for the package have instructions on how to use it as well, but we can use it with our movielens data like this.  There is a function here used from an example in the [documentation]() (which is also [here](https://github.com/NicolasHug/Surprise/blob/master/examples/top_n_recommendations.py)).\n",
    "\n",
    "The first example in the documentation, shown below, simply evaluates the performance of an algorithm (here we are using SVD) on the data."
   ]
  },
  {
   "cell_type": "code",
   "execution_count": 56,
   "metadata": {},
   "outputs": [
    {
     "name": "stdout",
     "output_type": "stream",
     "text": [
      "Evaluating RMSE, MAE of algorithm SVD on 5 split(s).\n",
      "\n",
      "                  Fold 1  Fold 2  Fold 3  Fold 4  Fold 5  Mean    Std     \n",
      "RMSE (testset)    0.8679  0.8758  0.8793  0.8742  0.8735  0.8741  0.0037  \n",
      "MAE (testset)     0.6667  0.6703  0.6765  0.6713  0.6708  0.6711  0.0031  \n",
      "Fit time          6.24    5.66    5.96    5.66    6.27    5.96    0.27    \n",
      "Test time         0.18    0.17    0.24    0.18    0.25    0.20    0.03    \n"
     ]
    },
    {
     "data": {
      "text/plain": [
       "{'test_rmse': array([0.86789519, 0.87577966, 0.87932635, 0.87419708, 0.87349836]),\n",
       " 'test_mae': array([0.66667247, 0.67026387, 0.67648711, 0.67132066, 0.6708006 ]),\n",
       " 'fit_time': (6.239994287490845,\n",
       "  5.66299295425415,\n",
       "  5.963993549346924,\n",
       "  5.65600061416626,\n",
       "  6.268000841140747),\n",
       " 'test_time': (0.1820065975189209,\n",
       "  0.16900134086608887,\n",
       "  0.23900222778320312,\n",
       "  0.1780390739440918,\n",
       "  0.24599885940551758)}"
      ]
     },
     "execution_count": 56,
     "metadata": {},
     "output_type": "execute_result"
    }
   ],
   "source": [
    "from surprise import SVD\n",
    "from surprise import BaselineOnly\n",
    "from surprise import Dataset\n",
    "from surprise import Reader\n",
    "from surprise.model_selection import cross_validate\n",
    "\n",
    "# path to dataset file\n",
    "file_path = 'ratings.csv'\n",
    "\n",
    "# As we're loading a custom dataset, we need to define a reader. In the\n",
    "# movielens-100k dataset, each line has the following format:\n",
    "# 'user item rating timestamp', separated by '\\t' characters.\n",
    "reader = Reader(line_format='user item rating timestamp', sep=',', skip_lines=1)\n",
    "\n",
    "data = Dataset.load_from_file(file_path, reader=reader)\n",
    "\n",
    "cross_validate(SVD(), data, verbose=True)"
   ]
  },
  {
   "cell_type": "markdown",
   "metadata": {},
   "source": [
    "If we want to make predictions for users, it's significantly more complex."
   ]
  },
  {
   "cell_type": "code",
   "execution_count": 57,
   "metadata": {},
   "outputs": [],
   "source": [
    "training_data = data.build_full_trainset()\n",
    "rec = SVD()\n",
    "fitted = rec.fit(training_data)"
   ]
  },
  {
   "cell_type": "markdown",
   "metadata": {},
   "source": [
    "We can make predictions for a single user and item like so, where uid is the user id and iid is the item id:"
   ]
  },
  {
   "cell_type": "code",
   "execution_count": 58,
   "metadata": {},
   "outputs": [
    {
     "data": {
      "text/plain": [
       "Prediction(uid='1', iid='5', r_ui=None, est=3.6269992054758387, details={'was_impossible': False})"
      ]
     },
     "execution_count": 58,
     "metadata": {},
     "output_type": "execute_result"
    }
   ],
   "source": [
    "prediction = rec.predict(uid='1', iid='5')\n",
    "prediction"
   ]
  },
  {
   "cell_type": "markdown",
   "metadata": {},
   "source": [
    "Then we can get the top predictions for a user like so, borrowing the function from the docs. Predicting on the whole dataset takes a bit to compute."
   ]
  },
  {
   "cell_type": "code",
   "execution_count": 59,
   "metadata": {},
   "outputs": [],
   "source": [
    "from collections import defaultdict\n",
    "\n",
    "def get_top_n(predictions, n=10):\n",
    "    \"\"\"Return the top-N recommendation for each user from a set of predictions.\n",
    "    Args:\n",
    "        predictions(list of Prediction objects): The list of predictions, as\n",
    "            returned by the test method of an algorithm.\n",
    "        n(int): The number of recommendation to output for each user. Default\n",
    "            is 10.\n",
    "    Returns:\n",
    "    A dict where keys are user (raw) ids and values are lists of tuples:\n",
    "        [(raw item id, rating estimation), ...] of size n.\n",
    "    \"\"\"\n",
    "\n",
    "    # First map the predictions to each user.\n",
    "    top_n = defaultdict(list)\n",
    "    for uid, iid, true_r, est, _ in predictions:\n",
    "        top_n[uid].append((iid, est))\n",
    "\n",
    "    # Then sort the predictions for each user and retrieve the k highest ones.\n",
    "    for uid, user_ratings in top_n.items():\n",
    "        user_ratings.sort(key=lambda x: x[1], reverse=True)\n",
    "        top_n[uid] = user_ratings[:n]\n",
    "\n",
    "    return top_n"
   ]
  },
  {
   "cell_type": "code",
   "execution_count": 61,
   "metadata": {},
   "outputs": [
    {
     "data": {
      "text/html": [
       "<div>\n",
       "<style scoped>\n",
       "    .dataframe tbody tr th:only-of-type {\n",
       "        vertical-align: middle;\n",
       "    }\n",
       "\n",
       "    .dataframe tbody tr th {\n",
       "        vertical-align: top;\n",
       "    }\n",
       "\n",
       "    .dataframe thead th {\n",
       "        text-align: right;\n",
       "    }\n",
       "</style>\n",
       "<table border=\"1\" class=\"dataframe\">\n",
       "  <thead>\n",
       "    <tr style=\"text-align: right;\">\n",
       "      <th></th>\n",
       "      <th>predicted_rating</th>\n",
       "      <th>title</th>\n",
       "      <th>genres</th>\n",
       "    </tr>\n",
       "    <tr>\n",
       "      <th>movieId</th>\n",
       "      <th></th>\n",
       "      <th></th>\n",
       "      <th></th>\n",
       "    </tr>\n",
       "  </thead>\n",
       "  <tbody>\n",
       "    <tr>\n",
       "      <th>318</th>\n",
       "      <td>5</td>\n",
       "      <td>Shawshank Redemption, The (1994)</td>\n",
       "      <td>Crime|Drama</td>\n",
       "    </tr>\n",
       "    <tr>\n",
       "      <th>720</th>\n",
       "      <td>5</td>\n",
       "      <td>Wallace &amp; Gromit: The Best of Aardman Animatio...</td>\n",
       "      <td>Adventure|Animation|Comedy</td>\n",
       "    </tr>\n",
       "    <tr>\n",
       "      <th>898</th>\n",
       "      <td>5</td>\n",
       "      <td>Philadelphia Story, The (1940)</td>\n",
       "      <td>Comedy|Drama|Romance</td>\n",
       "    </tr>\n",
       "    <tr>\n",
       "      <th>899</th>\n",
       "      <td>5</td>\n",
       "      <td>Singin' in the Rain (1952)</td>\n",
       "      <td>Comedy|Musical|Romance</td>\n",
       "    </tr>\n",
       "    <tr>\n",
       "      <th>904</th>\n",
       "      <td>5</td>\n",
       "      <td>Rear Window (1954)</td>\n",
       "      <td>Mystery|Thriller</td>\n",
       "    </tr>\n",
       "    <tr>\n",
       "      <th>7153</th>\n",
       "      <td>5</td>\n",
       "      <td>Lord of the Rings: The Return of the King, The...</td>\n",
       "      <td>Action|Adventure|Drama|Fantasy</td>\n",
       "    </tr>\n",
       "    <tr>\n",
       "      <th>913</th>\n",
       "      <td>5</td>\n",
       "      <td>Maltese Falcon, The (1941)</td>\n",
       "      <td>Film-Noir|Mystery</td>\n",
       "    </tr>\n",
       "    <tr>\n",
       "      <th>1148</th>\n",
       "      <td>5</td>\n",
       "      <td>Wallace &amp; Gromit: The Wrong Trousers (1993)</td>\n",
       "      <td>Animation|Children|Comedy|Crime</td>\n",
       "    </tr>\n",
       "    <tr>\n",
       "      <th>1193</th>\n",
       "      <td>5</td>\n",
       "      <td>One Flew Over the Cuckoo's Nest (1975)</td>\n",
       "      <td>Drama</td>\n",
       "    </tr>\n",
       "    <tr>\n",
       "      <th>1276</th>\n",
       "      <td>5</td>\n",
       "      <td>Cool Hand Luke (1967)</td>\n",
       "      <td>Drama</td>\n",
       "    </tr>\n",
       "  </tbody>\n",
       "</table>\n",
       "</div>"
      ],
      "text/plain": [
       "         predicted_rating                                              title  \\\n",
       "movieId                                                                        \n",
       "318                     5                   Shawshank Redemption, The (1994)   \n",
       "720                     5  Wallace & Gromit: The Best of Aardman Animatio...   \n",
       "898                     5                     Philadelphia Story, The (1940)   \n",
       "899                     5                         Singin' in the Rain (1952)   \n",
       "904                     5                                 Rear Window (1954)   \n",
       "7153                    5  Lord of the Rings: The Return of the King, The...   \n",
       "913                     5                         Maltese Falcon, The (1941)   \n",
       "1148                    5        Wallace & Gromit: The Wrong Trousers (1993)   \n",
       "1193                    5             One Flew Over the Cuckoo's Nest (1975)   \n",
       "1276                    5                              Cool Hand Luke (1967)   \n",
       "\n",
       "                                  genres  \n",
       "movieId                                   \n",
       "318                          Crime|Drama  \n",
       "720           Adventure|Animation|Comedy  \n",
       "898                 Comedy|Drama|Romance  \n",
       "899               Comedy|Musical|Romance  \n",
       "904                     Mystery|Thriller  \n",
       "7153      Action|Adventure|Drama|Fantasy  \n",
       "913                    Film-Noir|Mystery  \n",
       "1148     Animation|Children|Comedy|Crime  \n",
       "1193                               Drama  \n",
       "1276                               Drama  "
      ]
     },
     "execution_count": 61,
     "metadata": {},
     "output_type": "execute_result"
    }
   ],
   "source": [
    "# gets predictions on entire dataset (I think, although not 100% sure)\n",
    "testset = training_data.build_anti_testset()\n",
    "predictions = rec.test(testset)\n",
    "\n",
    "top_n = get_top_n(predictions)\n",
    "\n",
    "top_user_1 = pd.DataFrame(data=top_n['1'], columns=['movieId', 'predicted_rating'])\n",
    "top_user_1['movieId'] = top_user_1['movieId'].astype('int')\n",
    "top_user_1.set_index('movieId', inplace=True)\n",
    "\n",
    "top_user_1.merge(movies, left_index=True, right_index=True)"
   ]
  },
  {
   "cell_type": "code",
   "execution_count": null,
   "metadata": {},
   "outputs": [],
   "source": []
  }
 ],
 "metadata": {
  "kernelspec": {
   "display_name": "Python 3",
   "language": "python",
   "name": "python3"
  },
  "language_info": {
   "codemirror_mode": {
    "name": "ipython",
    "version": 3
   },
   "file_extension": ".py",
   "mimetype": "text/x-python",
   "name": "python",
   "nbconvert_exporter": "python",
   "pygments_lexer": "ipython3",
   "version": "3.8.8"
  }
 },
 "nbformat": 4,
 "nbformat_minor": 2
}

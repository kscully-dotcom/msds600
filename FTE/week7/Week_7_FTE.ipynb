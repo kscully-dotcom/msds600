{
 "cells": [
  {
   "cell_type": "markdown",
   "id": "2559e2ca",
   "metadata": {},
   "source": [
    "# Collecting data from social media"
   ]
  },
  {
   "cell_type": "markdown",
   "id": "9e6b5acc",
   "metadata": {},
   "source": [
    "We are going to be collecting posts from Reddit to analyze with sentiment analysis. We will be first collecting data using the Python wrapper for Reddit (PRAW) which uses the Reddit API, then storing the data into a sqlite3 database file. First, make sure you have praw installed: `conda install -c conda-forge praw -y`.\n",
    "\n",
    "Also make sure you have your Reddit API credentials ready to go (follow the instructions in the Reddit_API_key_instructions.docx file first then ask your instructor if you need more help)."
   ]
  },
  {
   "cell_type": "code",
   "execution_count": 2,
   "id": "94c5e2a4",
   "metadata": {},
   "outputs": [],
   "source": [
    "import praw\n",
    "import pandas as pd\n",
    "\n",
    "import credentials"
   ]
  },
  {
   "cell_type": "markdown",
   "id": "724dda64",
   "metadata": {},
   "source": [
    "The `import credentials` line imports the file `credentials.py` from the same directory as this Jupyter Notebook. Fill in the variables in that file with your API credentials before loading it. This is slightly more secure than putting our credentials directly in the notebook because we could ignore the credentials.py file with our .gitignore file if we were uploading this to GitHub.\n",
    "\n",
    "Next, we initialize our reddit connection with our credentials."
   ]
  },
  {
   "cell_type": "code",
   "execution_count": 3,
   "id": "569f5545",
   "metadata": {},
   "outputs": [
    {
     "name": "stderr",
     "output_type": "stream",
     "text": [
      "Version 7.0.0 of praw is outdated. Version 7.4.0 was released Friday July 30, 2021.\n"
     ]
    }
   ],
   "source": [
    "reddit = praw.Reddit(client_id=credentials.client_id,\n",
    "                     client_secret=credentials.client_secret,\n",
    "                     user_agent=credentials.user_agent)"
   ]
  },
  {
   "cell_type": "markdown",
   "id": "8b760478",
   "metadata": {},
   "source": [
    "Now we can select a subreddit of interest. We can use 'all' for all subreddits, but we'll try the Colorado subreddit first. We can select posts by 'top', 'hot', or other viewing options that you see in the web browser too. Then we can set an option for the time frame for some filters such as 'top', and we can use the time filters of all, day, hour, month, week, year (default: all). The PRAW documentation is a little difficult to navigate to find this information, but it's on this page: https://praw.readthedocs.io/en/latest/code_overview/models/subreddit.html#praw.models.Subreddit.search"
   ]
  },
  {
   "cell_type": "code",
   "execution_count": 61,
   "id": "6b1a65bc",
   "metadata": {},
   "outputs": [],
   "source": [
    "mc_subreddit = reddit.subreddit('MedievalCats').traffic(limit=10)"
   ]
  },
  {
   "cell_type": "markdown",
   "id": "400e0496",
   "metadata": {},
   "source": [
    "This returns a generator object, which is like a list, but we only get the elements when we ask for them, and only one time. So we can loop through the once:"
   ]
  },
  {
   "cell_type": "code",
   "execution_count": 5,
   "id": "6c8ea298",
   "metadata": {},
   "outputs": [
    {
     "name": "stdout",
     "output_type": "stream",
     "text": [
      "When you're a kid and wake up to your Parents having a Big Adult Party in the next room. 241\n",
      "The face you make when your owner tells her date over supper \"I'm a really good catch, you know!\" 44\n",
      "(mouth breathing intensifies) 19\n",
      "Happy Humpday Mood Check - Which Cat are You Today? 728\n",
      "I saw this handsome fella in NYC today 577\n",
      "Leo: \"This person tastes really salty.\" 🧂 Larry: \"Probably a Redditor.\" 91\n",
      "Panther says Good Morning & he is happy to see you. 994\n",
      "No thank you 0\n",
      "St. Jerome and The Microdosing Lion 786\n",
      "Jackson loved his new job as a Rocket Scientist 38\n"
     ]
    }
   ],
   "source": [
    "for post in mc_subreddit:\n",
    "    print(post.title, post.score)"
   ]
  },
  {
   "cell_type": "markdown",
   "id": "9af1b2d2",
   "metadata": {},
   "source": [
    "And now if we try to access the elements, they are gone (because we accessed them):"
   ]
  },
  {
   "cell_type": "code",
   "execution_count": 7,
   "id": "85f371b6",
   "metadata": {},
   "outputs": [
    {
     "data": {
      "text/plain": [
       "[]"
      ]
     },
     "execution_count": 7,
     "metadata": {},
     "output_type": "execute_result"
    }
   ],
   "source": [
    "list(mc_subreddit)"
   ]
  },
  {
   "cell_type": "markdown",
   "id": "d563bd65",
   "metadata": {},
   "source": [
    "This is mainly to conserve memory for very large objects, but can also be used to stream data or other things. If we convert it to a list right away, like this:\n",
    "\n",
    "`co_subreddit = reddit.subreddit('colorado').top('month', limit=10)`\n",
    "\n",
    "Then the data stays in the list (the `co_subreddit` object).\n",
    "\n",
    "We still have our last post item from the list, and we can see what properties are accessible by typing `post.` and pressing tab."
   ]
  },
  {
   "cell_type": "code",
   "execution_count": 8,
   "id": "7393a696",
   "metadata": {},
   "outputs": [
    {
     "data": {
      "text/plain": [
       "'https://b.thumbs.redditmedia.com/d9T4cd9zf-LH1ktsoBc-9Y-HxsRrpoS12mVgr7BYpOw.jpg'"
      ]
     },
     "execution_count": 8,
     "metadata": {},
     "output_type": "execute_result"
    }
   ],
   "source": [
    "post.thumbnail"
   ]
  },
  {
   "cell_type": "code",
   "execution_count": 9,
   "id": "f3e3288f",
   "metadata": {},
   "outputs": [
    {
     "data": {
      "text/plain": [
       "34"
      ]
     },
     "execution_count": 9,
     "metadata": {},
     "output_type": "execute_result"
    }
   ],
   "source": [
    "post.score"
   ]
  },
  {
   "cell_type": "code",
   "execution_count": 10,
   "id": "a8472418",
   "metadata": {},
   "outputs": [
    {
     "data": {
      "text/plain": [
       "'Jackson loved his new job as a Rocket Scientist'"
      ]
     },
     "execution_count": 10,
     "metadata": {},
     "output_type": "execute_result"
    }
   ],
   "source": [
    "post.title"
   ]
  },
  {
   "cell_type": "code",
   "execution_count": 11,
   "id": "353f2de6",
   "metadata": {},
   "outputs": [
    {
     "data": {
      "text/plain": [
       "'/r/MedievalCats/comments/q1tuuz/jackson_loved_his_new_job_as_a_rocket_scientist/'"
      ]
     },
     "execution_count": 11,
     "metadata": {},
     "output_type": "execute_result"
    }
   ],
   "source": [
    "post.permalink"
   ]
  },
  {
   "cell_type": "markdown",
   "id": "46c70425",
   "metadata": {},
   "source": [
    "We can save some data of interest, like the title, author, permalink (in case we want to go and see the post), number of comments, and score (something like the upvotes minus downvotes). We will save these in a format that we can easily drop into a pandas DataFrame, which is a dictionary of lists."
   ]
  },
  {
   "cell_type": "code",
   "execution_count": 12,
   "id": "e45f574e",
   "metadata": {},
   "outputs": [],
   "source": [
    "fields = {'title', 'link', 'author', 'n_comments', 'score', 'text'}\n",
    "reddit_data = {k: [] for k in fields}\n",
    "\n",
    "\n",
    "mc_subreddit = reddit.subreddit('MedievalCats').hot(limit=None)\n",
    "\n",
    "for post in list(mc_subreddit):\n",
    "    reddit_data['title'].append(post.title)\n",
    "    reddit_data['link'].append(post.permalink)\n",
    "    if post.author is None:\n",
    "        reddit_data['author'].append('')\n",
    "    else:\n",
    "        reddit_data['author'].append(post.author.name)\n",
    "    \n",
    "    reddit_data['n_comments'].append(post.num_comments)\n",
    "    reddit_data['score'].append(post.score)\n",
    "    reddit_data['text'].append(post.selftext)"
   ]
  },
  {
   "cell_type": "markdown",
   "id": "b7fdb213",
   "metadata": {},
   "source": [
    "By the way, you probably want to set the `limit=None` argument once you have your code ready in your assignment this collects the maximum number of posts avialable (up to the API limits)."
   ]
  },
  {
   "cell_type": "code",
   "execution_count": 13,
   "id": "2d7518ee",
   "metadata": {},
   "outputs": [],
   "source": [
    "mc_df = pd.DataFrame(reddit_data)"
   ]
  },
  {
   "cell_type": "code",
   "execution_count": 14,
   "id": "1683f954",
   "metadata": {},
   "outputs": [
    {
     "data": {
      "text/html": [
       "<div>\n",
       "<style scoped>\n",
       "    .dataframe tbody tr th:only-of-type {\n",
       "        vertical-align: middle;\n",
       "    }\n",
       "\n",
       "    .dataframe tbody tr th {\n",
       "        vertical-align: top;\n",
       "    }\n",
       "\n",
       "    .dataframe thead th {\n",
       "        text-align: right;\n",
       "    }\n",
       "</style>\n",
       "<table border=\"1\" class=\"dataframe\">\n",
       "  <thead>\n",
       "    <tr style=\"text-align: right;\">\n",
       "      <th></th>\n",
       "      <th>title</th>\n",
       "      <th>link</th>\n",
       "      <th>author</th>\n",
       "      <th>n_comments</th>\n",
       "      <th>score</th>\n",
       "      <th>text</th>\n",
       "    </tr>\n",
       "  </thead>\n",
       "  <tbody>\n",
       "    <tr>\n",
       "      <th>0</th>\n",
       "      <td>When you're a kid and wake up to your Parents ...</td>\n",
       "      <td>/r/MedievalCats/comments/q35yt1/when_youre_a_k...</td>\n",
       "      <td>igneousink</td>\n",
       "      <td>3</td>\n",
       "      <td>245</td>\n",
       "      <td></td>\n",
       "    </tr>\n",
       "    <tr>\n",
       "      <th>1</th>\n",
       "      <td>The face you make when your owner tells her da...</td>\n",
       "      <td>/r/MedievalCats/comments/q36013/the_face_you_m...</td>\n",
       "      <td>igneousink</td>\n",
       "      <td>0</td>\n",
       "      <td>42</td>\n",
       "      <td></td>\n",
       "    </tr>\n",
       "    <tr>\n",
       "      <th>2</th>\n",
       "      <td>(mouth breathing intensifies)</td>\n",
       "      <td>/r/MedievalCats/comments/q35xhm/mouth_breathin...</td>\n",
       "      <td>igneousink</td>\n",
       "      <td>0</td>\n",
       "      <td>19</td>\n",
       "      <td></td>\n",
       "    </tr>\n",
       "    <tr>\n",
       "      <th>3</th>\n",
       "      <td>Happy Humpday Mood Check - Which Cat are You T...</td>\n",
       "      <td>/r/MedievalCats/comments/q2gy0t/happy_humpday_...</td>\n",
       "      <td>igneousink</td>\n",
       "      <td>117</td>\n",
       "      <td>727</td>\n",
       "      <td></td>\n",
       "    </tr>\n",
       "    <tr>\n",
       "      <th>4</th>\n",
       "      <td>I saw this handsome fella in NYC today</td>\n",
       "      <td>/r/MedievalCats/comments/q2bf0j/i_saw_this_han...</td>\n",
       "      <td>pandacat3</td>\n",
       "      <td>11</td>\n",
       "      <td>579</td>\n",
       "      <td></td>\n",
       "    </tr>\n",
       "    <tr>\n",
       "      <th>...</th>\n",
       "      <td>...</td>\n",
       "      <td>...</td>\n",
       "      <td>...</td>\n",
       "      <td>...</td>\n",
       "      <td>...</td>\n",
       "      <td>...</td>\n",
       "    </tr>\n",
       "    <tr>\n",
       "      <th>975</th>\n",
       "      <td>I painted the “Oh hai thar. I touch your foods...</td>\n",
       "      <td>/r/MedievalCats/comments/m14te6/i_painted_the_...</td>\n",
       "      <td>the-limbic-system</td>\n",
       "      <td>29</td>\n",
       "      <td>1199</td>\n",
       "      <td></td>\n",
       "    </tr>\n",
       "    <tr>\n",
       "      <th>976</th>\n",
       "      <td>Igneousink had a modern cat that wanted to be ...</td>\n",
       "      <td>/r/MedievalCats/comments/m1mvhv/igneousink_had...</td>\n",
       "      <td>amnesiacprotagonists</td>\n",
       "      <td>3</td>\n",
       "      <td>64</td>\n",
       "      <td></td>\n",
       "    </tr>\n",
       "    <tr>\n",
       "      <th>977</th>\n",
       "      <td>When the Ergot tastes like Schnozzberries</td>\n",
       "      <td>/r/MedievalCats/comments/m1tsxn/when_the_ergot...</td>\n",
       "      <td>igneousink</td>\n",
       "      <td>1</td>\n",
       "      <td>17</td>\n",
       "      <td></td>\n",
       "    </tr>\n",
       "    <tr>\n",
       "      <th>978</th>\n",
       "      <td>am circle</td>\n",
       "      <td>/r/MedievalCats/comments/m1h4yc/am_circle/</td>\n",
       "      <td>igneousink</td>\n",
       "      <td>2</td>\n",
       "      <td>70</td>\n",
       "      <td></td>\n",
       "    </tr>\n",
       "    <tr>\n",
       "      <th>979</th>\n",
       "      <td>art by medieval cat?</td>\n",
       "      <td>/r/MedievalCats/comments/m0q4wb/art_by_medieva...</td>\n",
       "      <td>HGTorin</td>\n",
       "      <td>16</td>\n",
       "      <td>2694</td>\n",
       "      <td></td>\n",
       "    </tr>\n",
       "  </tbody>\n",
       "</table>\n",
       "<p>980 rows × 6 columns</p>\n",
       "</div>"
      ],
      "text/plain": [
       "                                                 title  \\\n",
       "0    When you're a kid and wake up to your Parents ...   \n",
       "1    The face you make when your owner tells her da...   \n",
       "2                        (mouth breathing intensifies)   \n",
       "3    Happy Humpday Mood Check - Which Cat are You T...   \n",
       "4               I saw this handsome fella in NYC today   \n",
       "..                                                 ...   \n",
       "975  I painted the “Oh hai thar. I touch your foods...   \n",
       "976  Igneousink had a modern cat that wanted to be ...   \n",
       "977          When the Ergot tastes like Schnozzberries   \n",
       "978                                          am circle   \n",
       "979                               art by medieval cat?   \n",
       "\n",
       "                                                  link                author  \\\n",
       "0    /r/MedievalCats/comments/q35yt1/when_youre_a_k...            igneousink   \n",
       "1    /r/MedievalCats/comments/q36013/the_face_you_m...            igneousink   \n",
       "2    /r/MedievalCats/comments/q35xhm/mouth_breathin...            igneousink   \n",
       "3    /r/MedievalCats/comments/q2gy0t/happy_humpday_...            igneousink   \n",
       "4    /r/MedievalCats/comments/q2bf0j/i_saw_this_han...             pandacat3   \n",
       "..                                                 ...                   ...   \n",
       "975  /r/MedievalCats/comments/m14te6/i_painted_the_...     the-limbic-system   \n",
       "976  /r/MedievalCats/comments/m1mvhv/igneousink_had...  amnesiacprotagonists   \n",
       "977  /r/MedievalCats/comments/m1tsxn/when_the_ergot...            igneousink   \n",
       "978         /r/MedievalCats/comments/m1h4yc/am_circle/            igneousink   \n",
       "979  /r/MedievalCats/comments/m0q4wb/art_by_medieva...               HGTorin   \n",
       "\n",
       "     n_comments  score text  \n",
       "0             3    245       \n",
       "1             0     42       \n",
       "2             0     19       \n",
       "3           117    727       \n",
       "4            11    579       \n",
       "..          ...    ...  ...  \n",
       "975          29   1199       \n",
       "976           3     64       \n",
       "977           1     17       \n",
       "978           2     70       \n",
       "979          16   2694       \n",
       "\n",
       "[980 rows x 6 columns]"
      ]
     },
     "execution_count": 14,
     "metadata": {},
     "output_type": "execute_result"
    }
   ],
   "source": [
    "mc_df"
   ]
  },
  {
   "cell_type": "markdown",
   "id": "8cf68baa",
   "metadata": {},
   "source": [
    "# Save data to sqlite"
   ]
  },
  {
   "cell_type": "markdown",
   "id": "f610f378",
   "metadata": {},
   "source": [
    "Now that we have some data collected, we can save it to a database. Sqlite3 is built-in with Python, and saves the data to a file on our hard drive. It's easy to use and set up, although it has limitations. We can save our data like so:"
   ]
  },
  {
   "cell_type": "code",
   "execution_count": 16,
   "id": "5540bbc2",
   "metadata": {},
   "outputs": [],
   "source": [
    "import sqlite3\n",
    "\n",
    "con = sqlite3.connect(\"co_reddit.sqlite\")\n",
    "mc_df.to_sql('posts', con, if_exists='replace', index=False)"
   ]
  },
  {
   "cell_type": "markdown",
   "id": "57434658",
   "metadata": {},
   "source": [
    "We can easily create our DB file by connecting to it (make sure the path exists if you provide a directory/folder like 'data' here). Then we use the to_sql command, giving it a table name, our connection, and a few other arguments. The if_exists can be replace, append, or fail, which do what they say (see the [docs](https://pandas.pydata.org/docs/reference/api/pandas.DataFrame.to_sql.html) for more).\n",
    "\n",
    "Once our data is saved, we can check that we can load it back:"
   ]
  },
  {
   "cell_type": "code",
   "execution_count": 17,
   "id": "4128bac5",
   "metadata": {},
   "outputs": [
    {
     "data": {
      "text/html": [
       "<div>\n",
       "<style scoped>\n",
       "    .dataframe tbody tr th:only-of-type {\n",
       "        vertical-align: middle;\n",
       "    }\n",
       "\n",
       "    .dataframe tbody tr th {\n",
       "        vertical-align: top;\n",
       "    }\n",
       "\n",
       "    .dataframe thead th {\n",
       "        text-align: right;\n",
       "    }\n",
       "</style>\n",
       "<table border=\"1\" class=\"dataframe\">\n",
       "  <thead>\n",
       "    <tr style=\"text-align: right;\">\n",
       "      <th></th>\n",
       "      <th>title</th>\n",
       "      <th>link</th>\n",
       "      <th>author</th>\n",
       "      <th>n_comments</th>\n",
       "      <th>score</th>\n",
       "      <th>text</th>\n",
       "    </tr>\n",
       "  </thead>\n",
       "  <tbody>\n",
       "    <tr>\n",
       "      <th>0</th>\n",
       "      <td>When you're a kid and wake up to your Parents ...</td>\n",
       "      <td>/r/MedievalCats/comments/q35yt1/when_youre_a_k...</td>\n",
       "      <td>igneousink</td>\n",
       "      <td>3</td>\n",
       "      <td>245</td>\n",
       "      <td></td>\n",
       "    </tr>\n",
       "    <tr>\n",
       "      <th>1</th>\n",
       "      <td>The face you make when your owner tells her da...</td>\n",
       "      <td>/r/MedievalCats/comments/q36013/the_face_you_m...</td>\n",
       "      <td>igneousink</td>\n",
       "      <td>0</td>\n",
       "      <td>42</td>\n",
       "      <td></td>\n",
       "    </tr>\n",
       "    <tr>\n",
       "      <th>2</th>\n",
       "      <td>(mouth breathing intensifies)</td>\n",
       "      <td>/r/MedievalCats/comments/q35xhm/mouth_breathin...</td>\n",
       "      <td>igneousink</td>\n",
       "      <td>0</td>\n",
       "      <td>19</td>\n",
       "      <td></td>\n",
       "    </tr>\n",
       "    <tr>\n",
       "      <th>3</th>\n",
       "      <td>Happy Humpday Mood Check - Which Cat are You T...</td>\n",
       "      <td>/r/MedievalCats/comments/q2gy0t/happy_humpday_...</td>\n",
       "      <td>igneousink</td>\n",
       "      <td>117</td>\n",
       "      <td>727</td>\n",
       "      <td></td>\n",
       "    </tr>\n",
       "    <tr>\n",
       "      <th>4</th>\n",
       "      <td>I saw this handsome fella in NYC today</td>\n",
       "      <td>/r/MedievalCats/comments/q2bf0j/i_saw_this_han...</td>\n",
       "      <td>pandacat3</td>\n",
       "      <td>11</td>\n",
       "      <td>579</td>\n",
       "      <td></td>\n",
       "    </tr>\n",
       "    <tr>\n",
       "      <th>...</th>\n",
       "      <td>...</td>\n",
       "      <td>...</td>\n",
       "      <td>...</td>\n",
       "      <td>...</td>\n",
       "      <td>...</td>\n",
       "      <td>...</td>\n",
       "    </tr>\n",
       "    <tr>\n",
       "      <th>975</th>\n",
       "      <td>I painted the “Oh hai thar. I touch your foods...</td>\n",
       "      <td>/r/MedievalCats/comments/m14te6/i_painted_the_...</td>\n",
       "      <td>the-limbic-system</td>\n",
       "      <td>29</td>\n",
       "      <td>1199</td>\n",
       "      <td></td>\n",
       "    </tr>\n",
       "    <tr>\n",
       "      <th>976</th>\n",
       "      <td>Igneousink had a modern cat that wanted to be ...</td>\n",
       "      <td>/r/MedievalCats/comments/m1mvhv/igneousink_had...</td>\n",
       "      <td>amnesiacprotagonists</td>\n",
       "      <td>3</td>\n",
       "      <td>64</td>\n",
       "      <td></td>\n",
       "    </tr>\n",
       "    <tr>\n",
       "      <th>977</th>\n",
       "      <td>When the Ergot tastes like Schnozzberries</td>\n",
       "      <td>/r/MedievalCats/comments/m1tsxn/when_the_ergot...</td>\n",
       "      <td>igneousink</td>\n",
       "      <td>1</td>\n",
       "      <td>17</td>\n",
       "      <td></td>\n",
       "    </tr>\n",
       "    <tr>\n",
       "      <th>978</th>\n",
       "      <td>am circle</td>\n",
       "      <td>/r/MedievalCats/comments/m1h4yc/am_circle/</td>\n",
       "      <td>igneousink</td>\n",
       "      <td>2</td>\n",
       "      <td>70</td>\n",
       "      <td></td>\n",
       "    </tr>\n",
       "    <tr>\n",
       "      <th>979</th>\n",
       "      <td>art by medieval cat?</td>\n",
       "      <td>/r/MedievalCats/comments/m0q4wb/art_by_medieva...</td>\n",
       "      <td>HGTorin</td>\n",
       "      <td>16</td>\n",
       "      <td>2694</td>\n",
       "      <td></td>\n",
       "    </tr>\n",
       "  </tbody>\n",
       "</table>\n",
       "<p>980 rows × 6 columns</p>\n",
       "</div>"
      ],
      "text/plain": [
       "                                                 title  \\\n",
       "0    When you're a kid and wake up to your Parents ...   \n",
       "1    The face you make when your owner tells her da...   \n",
       "2                        (mouth breathing intensifies)   \n",
       "3    Happy Humpday Mood Check - Which Cat are You T...   \n",
       "4               I saw this handsome fella in NYC today   \n",
       "..                                                 ...   \n",
       "975  I painted the “Oh hai thar. I touch your foods...   \n",
       "976  Igneousink had a modern cat that wanted to be ...   \n",
       "977          When the Ergot tastes like Schnozzberries   \n",
       "978                                          am circle   \n",
       "979                               art by medieval cat?   \n",
       "\n",
       "                                                  link                author  \\\n",
       "0    /r/MedievalCats/comments/q35yt1/when_youre_a_k...            igneousink   \n",
       "1    /r/MedievalCats/comments/q36013/the_face_you_m...            igneousink   \n",
       "2    /r/MedievalCats/comments/q35xhm/mouth_breathin...            igneousink   \n",
       "3    /r/MedievalCats/comments/q2gy0t/happy_humpday_...            igneousink   \n",
       "4    /r/MedievalCats/comments/q2bf0j/i_saw_this_han...             pandacat3   \n",
       "..                                                 ...                   ...   \n",
       "975  /r/MedievalCats/comments/m14te6/i_painted_the_...     the-limbic-system   \n",
       "976  /r/MedievalCats/comments/m1mvhv/igneousink_had...  amnesiacprotagonists   \n",
       "977  /r/MedievalCats/comments/m1tsxn/when_the_ergot...            igneousink   \n",
       "978         /r/MedievalCats/comments/m1h4yc/am_circle/            igneousink   \n",
       "979  /r/MedievalCats/comments/m0q4wb/art_by_medieva...               HGTorin   \n",
       "\n",
       "     n_comments  score text  \n",
       "0             3    245       \n",
       "1             0     42       \n",
       "2             0     19       \n",
       "3           117    727       \n",
       "4            11    579       \n",
       "..          ...    ...  ...  \n",
       "975          29   1199       \n",
       "976           3     64       \n",
       "977           1     17       \n",
       "978           2     70       \n",
       "979          16   2694       \n",
       "\n",
       "[980 rows x 6 columns]"
      ]
     },
     "execution_count": 17,
     "metadata": {},
     "output_type": "execute_result"
    }
   ],
   "source": [
    "mc_df_check = pd.read_sql_query('SELECT * FROM posts;', con)\n",
    "# it's best to close the connection when finished\n",
    "con.close()\n",
    "mc_df_check"
   ]
  },
  {
   "cell_type": "markdown",
   "id": "a7919aed",
   "metadata": {},
   "source": [
    "# Basic EDA on our data"
   ]
  },
  {
   "cell_type": "markdown",
   "id": "17e2b037",
   "metadata": {},
   "source": [
    "Our data we've collected has text (the title), authors (a categorical variable) and the score and number of comments (numeric). We can make a few plots with these:\n",
    "\n",
    "- word count plots\n",
    "- a bar plot of the unique authors\n",
    "- numeric EDA plots of the number of comments and score, such as histograms, box plots, etc\n",
    "\n",
    "Let's start with what we already know, which is everything but the word count plots."
   ]
  },
  {
   "cell_type": "code",
   "execution_count": 18,
   "id": "17474d4e",
   "metadata": {},
   "outputs": [
    {
     "data": {
      "text/plain": [
       "<AxesSubplot:ylabel='Frequency'>"
      ]
     },
     "execution_count": 18,
     "metadata": {},
     "output_type": "execute_result"
    },
    {
     "data": {
      "image/png": "[encoded data removed]",
      "text/plain": [
       "<Figure size 432x288 with 1 Axes>"
      ]
     },
     "metadata": {
      "needs_background": "light"
     },
     "output_type": "display_data"
    }
   ],
   "source": [
    "mc_df['score'].plot.hist(bins=30)"
   ]
  },
  {
   "cell_type": "markdown",
   "id": "242769b5",
   "metadata": {},
   "source": [
    "It looks like the distribution is highly asymmetric, with many posts having a score near 0 (probably because they are new) and a few posts with a very high score. We can look at the highest-scored posts:"
   ]
  },
  {
   "cell_type": "code",
   "execution_count": 21,
   "id": "6c9db081",
   "metadata": {},
   "outputs": [
    {
     "data": {
      "text/html": [
       "<div>\n",
       "<style scoped>\n",
       "    .dataframe tbody tr th:only-of-type {\n",
       "        vertical-align: middle;\n",
       "    }\n",
       "\n",
       "    .dataframe tbody tr th {\n",
       "        vertical-align: top;\n",
       "    }\n",
       "\n",
       "    .dataframe thead th {\n",
       "        text-align: right;\n",
       "    }\n",
       "</style>\n",
       "<table border=\"1\" class=\"dataframe\">\n",
       "  <thead>\n",
       "    <tr style=\"text-align: right;\">\n",
       "      <th></th>\n",
       "      <th>title</th>\n",
       "      <th>link</th>\n",
       "      <th>author</th>\n",
       "      <th>n_comments</th>\n",
       "      <th>score</th>\n",
       "      <th>text</th>\n",
       "    </tr>\n",
       "  </thead>\n",
       "  <tbody>\n",
       "    <tr>\n",
       "      <th>751</th>\n",
       "      <td>Cats still haven't changed</td>\n",
       "      <td>/r/MedievalCats/comments/mrnvn2/cats_still_hav...</td>\n",
       "      <td>TrilliumLady37</td>\n",
       "      <td>33</td>\n",
       "      <td>4072</td>\n",
       "      <td></td>\n",
       "    </tr>\n",
       "  </tbody>\n",
       "</table>\n",
       "</div>"
      ],
      "text/plain": [
       "                          title  \\\n",
       "751  Cats still haven't changed   \n",
       "\n",
       "                                                  link          author  \\\n",
       "751  /r/MedievalCats/comments/mrnvn2/cats_still_hav...  TrilliumLady37   \n",
       "\n",
       "     n_comments  score text  \n",
       "751          33   4072       "
      ]
     },
     "execution_count": 21,
     "metadata": {},
     "output_type": "execute_result"
    }
   ],
   "source": [
    "mc_df[mc_df['score'] > 4000]"
   ]
  },
  {
   "cell_type": "markdown",
   "id": "442f6ab0",
   "metadata": {},
   "source": [
    "By printing out the links like this, we can visit them by putting www.reddit.com in from of them."
   ]
  },
  {
   "cell_type": "code",
   "execution_count": 22,
   "id": "3601e465",
   "metadata": {},
   "outputs": [
    {
     "data": {
      "text/plain": [
       "['/r/MedievalCats/comments/mrnvn2/cats_still_havent_changed/']"
      ]
     },
     "execution_count": 22,
     "metadata": {},
     "output_type": "execute_result"
    }
   ],
   "source": [
    "mc_df[mc_df['score'] > 4000]['link'].to_list()"
   ]
  },
  {
   "cell_type": "code",
   "execution_count": 25,
   "id": "87851b59",
   "metadata": {},
   "outputs": [
    {
     "data": {
      "text/plain": [
       "<AxesSubplot:>"
      ]
     },
     "execution_count": 25,
     "metadata": {},
     "output_type": "execute_result"
    },
    {
     "data": {
      "image/png": "[encoded data removed]",
      "text/plain": [
       "<Figure size 432x288 with 1 Axes>"
      ]
     },
     "metadata": {
      "needs_background": "light"
     },
     "output_type": "display_data"
    }
   ],
   "source": [
    "import matplotlib.pyplot as plt\n",
    "mc_df.boxplot('n_comments')"
   ]
  },
  {
   "cell_type": "code",
   "execution_count": 26,
   "id": "818a0f00",
   "metadata": {},
   "outputs": [
    {
     "data": {
      "image/png": "[encoded data removed]",
      "text/plain": [
       "<Figure size 432x288 with 1 Axes>"
      ]
     },
     "metadata": {
      "needs_background": "light"
     },
     "output_type": "display_data"
    }
   ],
   "source": [
    "import matplotlib.pyplot as plt\n",
    "mc_df.boxplot('n_comments')\n",
    "plt.yscale('log')"
   ]
  },
  {
   "cell_type": "markdown",
   "id": "2563f90d",
   "metadata": {},
   "source": [
    "Again, we see some large outliers for number of comments. A more modern version of the boxplot is the letter-value plot, called a boxenplot in Seaborn (https://seaborn.pydata.org/generated/seaborn.boxenplot.html)."
   ]
  },
  {
   "cell_type": "code",
   "execution_count": 28,
   "id": "ddd44acb",
   "metadata": {},
   "outputs": [
    {
     "data": {
      "text/plain": [
       "<AxesSubplot:xlabel='score', ylabel='n_comments'>"
      ]
     },
     "execution_count": 28,
     "metadata": {},
     "output_type": "execute_result"
    },
    {
     "data": {
      "image/png": "[encoded data removed]",
      "text/plain": [
       "<Figure size 432x288 with 1 Axes>"
      ]
     },
     "metadata": {
      "needs_background": "light"
     },
     "output_type": "display_data"
    }
   ],
   "source": [
    "mc_df.plot.scatter(x='score', y='n_comments')"
   ]
  },
  {
   "cell_type": "markdown",
   "id": "0892a146",
   "metadata": {},
   "source": [
    "We can see a roughly positive relationship between the score and number of comments, as we might expect.\n",
    "\n",
    "Next, let's look at the frequency counts of users who post things:"
   ]
  },
  {
   "cell_type": "code",
   "execution_count": 29,
   "id": "6b05262f",
   "metadata": {},
   "outputs": [
    {
     "data": {
      "text/plain": [
       "<AxesSubplot:>"
      ]
     },
     "execution_count": 29,
     "metadata": {},
     "output_type": "execute_result"
    },
    {
     "data": {
      "image/png": "[encoded data removed]",
      "text/plain": [
       "<Figure size 432x288 with 1 Axes>"
      ]
     },
     "metadata": {
      "needs_background": "light"
     },
     "output_type": "display_data"
    }
   ],
   "source": [
    "mc_df['author'].value_counts()[:10].plot.bar()"
   ]
  },
  {
   "cell_type": "markdown",
   "id": "e32ba065",
   "metadata": {},
   "source": [
    "We can then see what these top authors are posting with filtering:"
   ]
  },
  {
   "cell_type": "code",
   "execution_count": 31,
   "id": "a5aca9f1",
   "metadata": {},
   "outputs": [
    {
     "data": {
      "text/html": [
       "<div>\n",
       "<style scoped>\n",
       "    .dataframe tbody tr th:only-of-type {\n",
       "        vertical-align: middle;\n",
       "    }\n",
       "\n",
       "    .dataframe tbody tr th {\n",
       "        vertical-align: top;\n",
       "    }\n",
       "\n",
       "    .dataframe thead th {\n",
       "        text-align: right;\n",
       "    }\n",
       "</style>\n",
       "<table border=\"1\" class=\"dataframe\">\n",
       "  <thead>\n",
       "    <tr style=\"text-align: right;\">\n",
       "      <th></th>\n",
       "      <th>title</th>\n",
       "      <th>link</th>\n",
       "      <th>author</th>\n",
       "      <th>n_comments</th>\n",
       "      <th>score</th>\n",
       "      <th>text</th>\n",
       "    </tr>\n",
       "  </thead>\n",
       "  <tbody>\n",
       "    <tr>\n",
       "      <th>0</th>\n",
       "      <td>When you're a kid and wake up to your Parents ...</td>\n",
       "      <td>/r/MedievalCats/comments/q35yt1/when_youre_a_k...</td>\n",
       "      <td>igneousink</td>\n",
       "      <td>3</td>\n",
       "      <td>245</td>\n",
       "      <td></td>\n",
       "    </tr>\n",
       "    <tr>\n",
       "      <th>1</th>\n",
       "      <td>The face you make when your owner tells her da...</td>\n",
       "      <td>/r/MedievalCats/comments/q36013/the_face_you_m...</td>\n",
       "      <td>igneousink</td>\n",
       "      <td>0</td>\n",
       "      <td>42</td>\n",
       "      <td></td>\n",
       "    </tr>\n",
       "    <tr>\n",
       "      <th>2</th>\n",
       "      <td>(mouth breathing intensifies)</td>\n",
       "      <td>/r/MedievalCats/comments/q35xhm/mouth_breathin...</td>\n",
       "      <td>igneousink</td>\n",
       "      <td>0</td>\n",
       "      <td>19</td>\n",
       "      <td></td>\n",
       "    </tr>\n",
       "    <tr>\n",
       "      <th>3</th>\n",
       "      <td>Happy Humpday Mood Check - Which Cat are You T...</td>\n",
       "      <td>/r/MedievalCats/comments/q2gy0t/happy_humpday_...</td>\n",
       "      <td>igneousink</td>\n",
       "      <td>117</td>\n",
       "      <td>727</td>\n",
       "      <td></td>\n",
       "    </tr>\n",
       "    <tr>\n",
       "      <th>5</th>\n",
       "      <td>Leo: \"This person tastes really salty.\" 🧂 Larr...</td>\n",
       "      <td>/r/MedievalCats/comments/q2h6q9/leo_this_perso...</td>\n",
       "      <td>igneousink</td>\n",
       "      <td>0</td>\n",
       "      <td>91</td>\n",
       "      <td></td>\n",
       "    </tr>\n",
       "    <tr>\n",
       "      <th>...</th>\n",
       "      <td>...</td>\n",
       "      <td>...</td>\n",
       "      <td>...</td>\n",
       "      <td>...</td>\n",
       "      <td>...</td>\n",
       "      <td>...</td>\n",
       "    </tr>\n",
       "    <tr>\n",
       "      <th>972</th>\n",
       "      <td>\"Yah, OK, I'll join your Business Venture. Are...</td>\n",
       "      <td>/r/MedievalCats/comments/m2c6lx/yah_ok_ill_joi...</td>\n",
       "      <td>igneousink</td>\n",
       "      <td>1</td>\n",
       "      <td>36</td>\n",
       "      <td></td>\n",
       "    </tr>\n",
       "    <tr>\n",
       "      <th>973</th>\n",
       "      <td>When you really want to be on Medieval Cats bu...</td>\n",
       "      <td>/r/MedievalCats/comments/m1h5yu/when_you_reall...</td>\n",
       "      <td>igneousink</td>\n",
       "      <td>18</td>\n",
       "      <td>2748</td>\n",
       "      <td></td>\n",
       "    </tr>\n",
       "    <tr>\n",
       "      <th>974</th>\n",
       "      <td>Medieval life was hard.</td>\n",
       "      <td>/r/MedievalCats/comments/m1yh0q/medieval_life_...</td>\n",
       "      <td>igneousink</td>\n",
       "      <td>1</td>\n",
       "      <td>30</td>\n",
       "      <td></td>\n",
       "    </tr>\n",
       "    <tr>\n",
       "      <th>977</th>\n",
       "      <td>When the Ergot tastes like Schnozzberries</td>\n",
       "      <td>/r/MedievalCats/comments/m1tsxn/when_the_ergot...</td>\n",
       "      <td>igneousink</td>\n",
       "      <td>1</td>\n",
       "      <td>17</td>\n",
       "      <td></td>\n",
       "    </tr>\n",
       "    <tr>\n",
       "      <th>978</th>\n",
       "      <td>am circle</td>\n",
       "      <td>/r/MedievalCats/comments/m1h4yc/am_circle/</td>\n",
       "      <td>igneousink</td>\n",
       "      <td>2</td>\n",
       "      <td>70</td>\n",
       "      <td></td>\n",
       "    </tr>\n",
       "  </tbody>\n",
       "</table>\n",
       "<p>723 rows × 6 columns</p>\n",
       "</div>"
      ],
      "text/plain": [
       "                                                 title  \\\n",
       "0    When you're a kid and wake up to your Parents ...   \n",
       "1    The face you make when your owner tells her da...   \n",
       "2                        (mouth breathing intensifies)   \n",
       "3    Happy Humpday Mood Check - Which Cat are You T...   \n",
       "5    Leo: \"This person tastes really salty.\" 🧂 Larr...   \n",
       "..                                                 ...   \n",
       "972  \"Yah, OK, I'll join your Business Venture. Are...   \n",
       "973  When you really want to be on Medieval Cats bu...   \n",
       "974                            Medieval life was hard.   \n",
       "977          When the Ergot tastes like Schnozzberries   \n",
       "978                                          am circle   \n",
       "\n",
       "                                                  link      author  \\\n",
       "0    /r/MedievalCats/comments/q35yt1/when_youre_a_k...  igneousink   \n",
       "1    /r/MedievalCats/comments/q36013/the_face_you_m...  igneousink   \n",
       "2    /r/MedievalCats/comments/q35xhm/mouth_breathin...  igneousink   \n",
       "3    /r/MedievalCats/comments/q2gy0t/happy_humpday_...  igneousink   \n",
       "5    /r/MedievalCats/comments/q2h6q9/leo_this_perso...  igneousink   \n",
       "..                                                 ...         ...   \n",
       "972  /r/MedievalCats/comments/m2c6lx/yah_ok_ill_joi...  igneousink   \n",
       "973  /r/MedievalCats/comments/m1h5yu/when_you_reall...  igneousink   \n",
       "974  /r/MedievalCats/comments/m1yh0q/medieval_life_...  igneousink   \n",
       "977  /r/MedievalCats/comments/m1tsxn/when_the_ergot...  igneousink   \n",
       "978         /r/MedievalCats/comments/m1h4yc/am_circle/  igneousink   \n",
       "\n",
       "     n_comments  score text  \n",
       "0             3    245       \n",
       "1             0     42       \n",
       "2             0     19       \n",
       "3           117    727       \n",
       "5             0     91       \n",
       "..          ...    ...  ...  \n",
       "972           1     36       \n",
       "973          18   2748       \n",
       "974           1     30       \n",
       "977           1     17       \n",
       "978           2     70       \n",
       "\n",
       "[723 rows x 6 columns]"
      ]
     },
     "execution_count": 31,
     "metadata": {},
     "output_type": "execute_result"
    }
   ],
   "source": [
    "mc_df[mc_df['author'] == 'igneousink']"
   ]
  },
  {
   "cell_type": "markdown",
   "id": "77b7558a",
   "metadata": {},
   "source": [
    "It looks like this person is posting some controversial things!\n",
    "\n",
    "Next, we can look at the text with some EDA. One simple thing to look at for text is word and n-gram counts. n-grams are groups of words of length n, like 2-grams (bigrams), 3-grams (bigrams), etc. One easy way to visualize these as bar plots is with the NLTK package, which we must install first: `conda install -c conda-forge nltk -y`.\n",
    "\n",
    "Word counts are very similar to the value counts plot above."
   ]
  },
  {
   "cell_type": "code",
   "execution_count": 32,
   "id": "2fcf2c1c",
   "metadata": {},
   "outputs": [
    {
     "name": "stdout",
     "output_type": "stream",
     "text": [
      "Collecting package metadata (current_repodata.json): ...working... done\n",
      "Solving environment: ...working... done\n",
      "\n",
      "# All requested packages already installed.\n",
      "\n"
     ]
    }
   ],
   "source": [
    "!conda install -c conda-forge nltk -y"
   ]
  },
  {
   "cell_type": "markdown",
   "id": "ff2f6d64",
   "metadata": {},
   "source": [
    "Here, we use a few sting methods - join and split. `join()` joins together a list of strings with a character. In this case, we are joining together all the titles with a single space. `split()` splits text on a character we provide as an argument. By default, it splits on any whitespaces (spaces, newlines, tabs, etc)."
   ]
  },
  {
   "cell_type": "code",
   "execution_count": 33,
   "id": "2c4bb6d3",
   "metadata": {},
   "outputs": [
    {
     "data": {
      "text/plain": [
       "[('the', 399),\n",
       " ('.', 260),\n",
       " ('a', 257),\n",
       " ('you', 212),\n",
       " ('to', 210),\n",
       " ('of', 148),\n",
       " ('I', 143),\n",
       " ('in', 103),\n",
       " ('and', 87),\n",
       " ('The', 80),\n",
       " ('Medieval', 77),\n",
       " ('this', 76),\n",
       " ('your', 74),\n",
       " ('Cat', 68),\n",
       " ('is', 68),\n",
       " ('was', 59),\n",
       " ('my', 57),\n",
       " ('for', 55),\n",
       " ('cat', 54),\n",
       " ('&', 52)]"
      ]
     },
     "execution_count": 33,
     "metadata": {},
     "output_type": "execute_result"
    }
   ],
   "source": [
    "import nltk\n",
    "\n",
    "fd = nltk.FreqDist(' '.join(mc_df['title']).split())\n",
    "\n",
    "fd.most_common(20)"
   ]
  },
  {
   "cell_type": "code",
   "execution_count": 35,
   "id": "67531439",
   "metadata": {},
   "outputs": [
    {
     "data": {
      "image/png": "[encoded data removed]",
      "text/plain": [
       "<Figure size 432x288 with 1 Axes>"
      ]
     },
     "metadata": {
      "needs_background": "light"
     },
     "output_type": "display_data"
    },
    {
     "data": {
      "text/plain": [
       "<AxesSubplot:xlabel='Samples', ylabel='Counts'>"
      ]
     },
     "execution_count": 35,
     "metadata": {},
     "output_type": "execute_result"
    }
   ],
   "source": [
    "fd.plot(20)"
   ]
  },
  {
   "cell_type": "markdown",
   "id": "417e10d7",
   "metadata": {},
   "source": [
    "We can see many of the top words are common words like 'the' and 'a' that don't tell us much. We can get rid of these, but also have some more preprocessing to do. A few things we can do to make our text analysis slightly better is to lowercase all words (so things like 'Colorado' and 'colorado' get counted as the same word) and remove stopwords. Stopwords are common words that don't give us much meaning. NLTK, SpaCy, and scikit-learn all have lists of stopwords. We can use NLTK's list, but need to download them first:"
   ]
  },
  {
   "cell_type": "code",
   "execution_count": 36,
   "id": "e5e64d24",
   "metadata": {},
   "outputs": [
    {
     "name": "stderr",
     "output_type": "stream",
     "text": [
      "[nltk_data] Downloading package stopwords to\n",
      "[nltk_data]     C:\\Users\\SCULLY\\AppData\\Roaming\\nltk_data...\n",
      "[nltk_data]   Unzipping corpora\\stopwords.zip.\n"
     ]
    },
    {
     "data": {
      "text/plain": [
       "True"
      ]
     },
     "execution_count": 36,
     "metadata": {},
     "output_type": "execute_result"
    }
   ],
   "source": [
    "nltk.download('stopwords')"
   ]
  },
  {
   "cell_type": "markdown",
   "id": "15bdb8d8",
   "metadata": {},
   "source": [
    "Then we can import them and look at the stopwords:"
   ]
  },
  {
   "cell_type": "code",
   "execution_count": 45,
   "id": "7da71e9e",
   "metadata": {},
   "outputs": [],
   "source": [
    "from nltk.corpus import stopwords\n",
    "\n",
    "stops = stopwords.words('english')\n",
    "stops = set(stops) | set(['\"', '.', '&', '-', '\"i', \"i'm\", \"medieval\", \"cats\", \"cat,\", \"cat\"])"
   ]
  },
  {
   "cell_type": "markdown",
   "id": "390634b4",
   "metadata": {},
   "source": [
    "Notice that they are lowercase and include punctuation. We can remove our stopwords from the text like so. We are lowercasing the full string of titles with the `lower()` built-in string method."
   ]
  },
  {
   "cell_type": "code",
   "execution_count": 46,
   "id": "c7d44276",
   "metadata": {},
   "outputs": [],
   "source": [
    "words = ' '.join(mc_df['title']).lower().split()\n",
    "cleaned_words = [w for w in words if w not in set(stops)]"
   ]
  },
  {
   "cell_type": "code",
   "execution_count": 47,
   "id": "274065ef",
   "metadata": {},
   "outputs": [
    {
     "data": {
      "text/plain": [
       "[('get', 48),\n",
       " ('like', 46),\n",
       " ('said', 38),\n",
       " ('lion', 29),\n",
       " ('face', 27),\n",
       " ('make', 24),\n",
       " ('know', 22),\n",
       " ('one', 22),\n",
       " ('good', 20),\n",
       " ('probably', 20),\n",
       " ('going', 19),\n",
       " ('little', 19),\n",
       " ('thought', 19),\n",
       " ('got', 19),\n",
       " ('really', 18),\n",
       " ('never', 17),\n",
       " ('see', 16),\n",
       " ('think', 16),\n",
       " ('time', 16),\n",
       " ('\"i\\'m', 15)]"
      ]
     },
     "execution_count": 47,
     "metadata": {},
     "output_type": "execute_result"
    }
   ],
   "source": [
    "cleaned_fd = nltk.FreqDist(cleaned_words)\n",
    "cleaned_fd.most_common(20)"
   ]
  },
  {
   "cell_type": "code",
   "execution_count": 48,
   "id": "01fb5e0e",
   "metadata": {},
   "outputs": [
    {
     "data": {
      "image/png": "[encoded data removed]",
      "text/plain": [
       "<Figure size 432x288 with 1 Axes>"
      ]
     },
     "metadata": {
      "needs_background": "light"
     },
     "output_type": "display_data"
    },
    {
     "data": {
      "text/plain": [
       "<AxesSubplot:xlabel='Samples', ylabel='Counts'>"
      ]
     },
     "execution_count": 48,
     "metadata": {},
     "output_type": "execute_result"
    }
   ],
   "source": [
    "cleaned_fd.plot(20)"
   ]
  },
  {
   "cell_type": "markdown",
   "id": "9ddf91ec",
   "metadata": {},
   "source": [
    "We can see now our analysis is more meaningful. We could also remove punctuation and other common words like 'colorado' and 'co' for a better analysis. More advanced steps include stemming or lemmatizing, which condenses words like 'sunset' and 'sunsets' to 'sunset' (removes plural endings, etc). To remove custom stopwords, we can add the new words to our stopwords. Here are two methods using a list and a set:\n",
    "\n",
    "```python\n",
    "stops = stops + ['colorado']\n",
    "stops = set(stops) | set(['colorado', 'co'])\n",
    "```"
   ]
  },
  {
   "cell_type": "markdown",
   "id": "504df973",
   "metadata": {},
   "source": [
    "# Optional Advanced Section"
   ]
  },
  {
   "cell_type": "markdown",
   "id": "e8f4c259",
   "metadata": {},
   "source": [
    "Contents:\n",
    "- Creating a SQLite table from scratch and other SQL commands\n",
    "- sqlalchemy\n",
    "- Getting comments\n",
    "- Saving timestamps\n",
    "- Scraping more data"
   ]
  },
  {
   "cell_type": "markdown",
   "id": "37b3ade8",
   "metadata": {},
   "source": [
    "## SQL commands"
   ]
  },
  {
   "cell_type": "markdown",
   "id": "97c5869b",
   "metadata": {},
   "source": [
    "To create a sqlite table from scratch, we need to use SQL commands like `CREATE TABLE`. Usually pandas will correctly infer the type when creating a table, but we may need to force it in certain instances.  SQL syntax usually has a main command and then other subcommands or options after it. Most of the major SQL commands are [here](https://www.w3schools.com/sql/sql_syntax.asp), although the most common command is `SELECT` to get data. If we want to get only a certain column of data, we can do so like:"
   ]
  },
  {
   "cell_type": "code",
   "execution_count": 49,
   "id": "255f852a",
   "metadata": {},
   "outputs": [
    {
     "data": {
      "text/html": [
       "<div>\n",
       "<style scoped>\n",
       "    .dataframe tbody tr th:only-of-type {\n",
       "        vertical-align: middle;\n",
       "    }\n",
       "\n",
       "    .dataframe tbody tr th {\n",
       "        vertical-align: top;\n",
       "    }\n",
       "\n",
       "    .dataframe thead th {\n",
       "        text-align: right;\n",
       "    }\n",
       "</style>\n",
       "<table border=\"1\" class=\"dataframe\">\n",
       "  <thead>\n",
       "    <tr style=\"text-align: right;\">\n",
       "      <th></th>\n",
       "      <th>title</th>\n",
       "      <th>n_comments</th>\n",
       "    </tr>\n",
       "  </thead>\n",
       "  <tbody>\n",
       "    <tr>\n",
       "      <th>0</th>\n",
       "      <td>When you're a kid and wake up to your Parents ...</td>\n",
       "      <td>3</td>\n",
       "    </tr>\n",
       "    <tr>\n",
       "      <th>1</th>\n",
       "      <td>The face you make when your owner tells her da...</td>\n",
       "      <td>0</td>\n",
       "    </tr>\n",
       "    <tr>\n",
       "      <th>2</th>\n",
       "      <td>(mouth breathing intensifies)</td>\n",
       "      <td>0</td>\n",
       "    </tr>\n",
       "    <tr>\n",
       "      <th>3</th>\n",
       "      <td>Happy Humpday Mood Check - Which Cat are You T...</td>\n",
       "      <td>117</td>\n",
       "    </tr>\n",
       "    <tr>\n",
       "      <th>4</th>\n",
       "      <td>I saw this handsome fella in NYC today</td>\n",
       "      <td>11</td>\n",
       "    </tr>\n",
       "    <tr>\n",
       "      <th>...</th>\n",
       "      <td>...</td>\n",
       "      <td>...</td>\n",
       "    </tr>\n",
       "    <tr>\n",
       "      <th>975</th>\n",
       "      <td>I painted the “Oh hai thar. I touch your foods...</td>\n",
       "      <td>29</td>\n",
       "    </tr>\n",
       "    <tr>\n",
       "      <th>976</th>\n",
       "      <td>Igneousink had a modern cat that wanted to be ...</td>\n",
       "      <td>3</td>\n",
       "    </tr>\n",
       "    <tr>\n",
       "      <th>977</th>\n",
       "      <td>When the Ergot tastes like Schnozzberries</td>\n",
       "      <td>1</td>\n",
       "    </tr>\n",
       "    <tr>\n",
       "      <th>978</th>\n",
       "      <td>am circle</td>\n",
       "      <td>2</td>\n",
       "    </tr>\n",
       "    <tr>\n",
       "      <th>979</th>\n",
       "      <td>art by medieval cat?</td>\n",
       "      <td>16</td>\n",
       "    </tr>\n",
       "  </tbody>\n",
       "</table>\n",
       "<p>980 rows × 2 columns</p>\n",
       "</div>"
      ],
      "text/plain": [
       "                                                 title  n_comments\n",
       "0    When you're a kid and wake up to your Parents ...           3\n",
       "1    The face you make when your owner tells her da...           0\n",
       "2                        (mouth breathing intensifies)           0\n",
       "3    Happy Humpday Mood Check - Which Cat are You T...         117\n",
       "4               I saw this handsome fella in NYC today          11\n",
       "..                                                 ...         ...\n",
       "975  I painted the “Oh hai thar. I touch your foods...          29\n",
       "976  Igneousink had a modern cat that wanted to be ...           3\n",
       "977          When the Ergot tastes like Schnozzberries           1\n",
       "978                                          am circle           2\n",
       "979                               art by medieval cat?          16\n",
       "\n",
       "[980 rows x 2 columns]"
      ]
     },
     "execution_count": 49,
     "metadata": {},
     "output_type": "execute_result"
    }
   ],
   "source": [
    "con = sqlite3.connect('co_reddit.sqlite')\n",
    "test_df = pd.read_sql_query('SELECT title, n_comments FROM posts;', con)\n",
    "con.close()\n",
    "test_df"
   ]
  },
  {
   "cell_type": "markdown",
   "id": "422f1714",
   "metadata": {},
   "source": [
    "There are many more available subcommands for SELECT, such as WHERE (for filtering, like with dataframes), GROUP BY (similar to dataframes again) and more. The documentation for different SQL variants explains all the available commands and subcommands, like [this](https://dev.mysql.com/doc/refman/8.0/en/select.html) for MySQL."
   ]
  },
  {
   "cell_type": "markdown",
   "id": "642b64ce",
   "metadata": {},
   "source": [
    "## SQLAlchemy"
   ]
  },
  {
   "cell_type": "markdown",
   "id": "8de3a2df",
   "metadata": {},
   "source": [
    "Although sqlite3 works for sqlite, to use other SQL databases we can use the sqlalchemy package in Python. It's more complex but much more flexible. The [docs](https://www.sqlalchemy.org/) are decent for the package."
   ]
  },
  {
   "cell_type": "markdown",
   "id": "a7626731",
   "metadata": {},
   "source": [
    "## Getting comments and other data"
   ]
  },
  {
   "cell_type": "markdown",
   "id": "a1f71cee",
   "metadata": {},
   "source": [
    "We can get MUCH more data by getting comments from subreddit posts. There is some more information on this in the [docs](https://praw.readthedocs.io/en/latest/tutorials/comments.html), but we can get comments like this for our current posts (note this takes a while to run):"
   ]
  },
  {
   "cell_type": "code",
   "execution_count": 50,
   "id": "3dc9f86f",
   "metadata": {},
   "outputs": [],
   "source": [
    "reddit_posts_data = {'title': [],\n",
    "                    'link': [],\n",
    "                    'author': [],\n",
    "                    'n_comments': [],\n",
    "                    'score': [],\n",
    "                    'text': [],\n",
    "                    'id': []}\n",
    "\n",
    "reddit_comments_data = {'author': [],\n",
    "                        'score': [],\n",
    "                        'text': [],\n",
    "                        'post_id': []}\n",
    "\n",
    "\n",
    "mc_subreddit = reddit.subreddit('medievalcats').new(limit=None)\n",
    "\n",
    "for post in list(mc_subreddit):\n",
    "    reddit_posts_data['title'].append(post.title)\n",
    "    reddit_posts_data['link'].append(post.permalink)\n",
    "    if post.author is None:\n",
    "        reddit_posts_data['author'].append(None)\n",
    "    else:\n",
    "        reddit_posts_data['author'].append(post.author.name)\n",
    "    reddit_posts_data['n_comments'].append(post.num_comments)\n",
    "    reddit_posts_data['score'].append(post.score)\n",
    "    reddit_posts_data['text'].append(post.selftext)\n",
    "    reddit_posts_data['id'].append(post.id)\n",
    "\n",
    "    post.comments.replace_more(limit=None)\n",
    "    for comment in post.comments:\n",
    "        if comment.author is None:\n",
    "            reddit_comments_data['author'].append('')\n",
    "        else:\n",
    "            reddit_comments_data['author'].append(comment.author.name)\n",
    "        reddit_comments_data['score'].append(comment.score)\n",
    "        reddit_comments_data['text'].append(comment.body)\n",
    "        reddit_comments_data['post_id'].append(post.id)\n",
    "\n",
    "post_df = pd.DataFrame(reddit_posts_data)\n",
    "comment_df = pd.DataFrame(reddit_comments_data)\n",
    "\n",
    "con = sqlite3.connect('co_reddit.sqlite')\n",
    "post_df.to_sql('posts', con, if_exists='replace')\n",
    "comment_df.to_sql('comments', con, if_exists='replace')\n",
    "con.close()"
   ]
  },
  {
   "cell_type": "code",
   "execution_count": 51,
   "id": "346b02ab",
   "metadata": {},
   "outputs": [
    {
     "data": {
      "text/html": [
       "<div>\n",
       "<style scoped>\n",
       "    .dataframe tbody tr th:only-of-type {\n",
       "        vertical-align: middle;\n",
       "    }\n",
       "\n",
       "    .dataframe tbody tr th {\n",
       "        vertical-align: top;\n",
       "    }\n",
       "\n",
       "    .dataframe thead th {\n",
       "        text-align: right;\n",
       "    }\n",
       "</style>\n",
       "<table border=\"1\" class=\"dataframe\">\n",
       "  <thead>\n",
       "    <tr style=\"text-align: right;\">\n",
       "      <th></th>\n",
       "      <th>author</th>\n",
       "      <th>score</th>\n",
       "      <th>text</th>\n",
       "      <th>post_id</th>\n",
       "    </tr>\n",
       "  </thead>\n",
       "  <tbody>\n",
       "    <tr>\n",
       "      <th>0</th>\n",
       "      <td>Mechanical_Indian</td>\n",
       "      <td>5</td>\n",
       "      <td>I like the picture. I don't see the relation t...</td>\n",
       "      <td>q35yt1</td>\n",
       "    </tr>\n",
       "    <tr>\n",
       "      <th>1</th>\n",
       "      <td>malcome-the-spedbump</td>\n",
       "      <td>36</td>\n",
       "      <td>Is 1 ripping a hole in space time? Or just loo...</td>\n",
       "      <td>q2gy0t</td>\n",
       "    </tr>\n",
       "    <tr>\n",
       "      <th>2</th>\n",
       "      <td>bubbletrollbutt</td>\n",
       "      <td>13</td>\n",
       "      <td>12 all the way</td>\n",
       "      <td>q2gy0t</td>\n",
       "    </tr>\n",
       "    <tr>\n",
       "      <th>3</th>\n",
       "      <td>igneousink</td>\n",
       "      <td>11</td>\n",
       "      <td>I'm definitely a 9.  Being up in a tree away f...</td>\n",
       "      <td>q2gy0t</td>\n",
       "    </tr>\n",
       "    <tr>\n",
       "      <th>4</th>\n",
       "      <td>larit</td>\n",
       "      <td>10</td>\n",
       "      <td>7, Me and the lads found you a nice rat in the...</td>\n",
       "      <td>q2gy0t</td>\n",
       "    </tr>\n",
       "    <tr>\n",
       "      <th>...</th>\n",
       "      <td>...</td>\n",
       "      <td>...</td>\n",
       "      <td>...</td>\n",
       "      <td>...</td>\n",
       "    </tr>\n",
       "    <tr>\n",
       "      <th>3679</th>\n",
       "      <td>TrilliumLady37</td>\n",
       "      <td>3</td>\n",
       "      <td>More than one of the Oxburgh pieces is politic...</td>\n",
       "      <td>m7o05u</td>\n",
       "    </tr>\n",
       "    <tr>\n",
       "      <th>3680</th>\n",
       "      <td>ellieD</td>\n",
       "      <td>2</td>\n",
       "      <td>Nice eyebrows!\\n\\n:)</td>\n",
       "      <td>m7o05u</td>\n",
       "    </tr>\n",
       "    <tr>\n",
       "      <th>3681</th>\n",
       "      <td>Ghukly</td>\n",
       "      <td>1</td>\n",
       "      <td>Looks like something I would make when rethink...</td>\n",
       "      <td>m7o05u</td>\n",
       "    </tr>\n",
       "    <tr>\n",
       "      <th>3682</th>\n",
       "      <td>igneousink</td>\n",
       "      <td>2</td>\n",
       "      <td>I LOVE it kittenbeans66!!  \\n\\ndid you use a m...</td>\n",
       "      <td>m7ijs5</td>\n",
       "    </tr>\n",
       "    <tr>\n",
       "      <th>3683</th>\n",
       "      <td>igneousink</td>\n",
       "      <td>2</td>\n",
       "      <td>Auction description:\\n\\nA Scroll Painting of a...</td>\n",
       "      <td>m7e4b1</td>\n",
       "    </tr>\n",
       "  </tbody>\n",
       "</table>\n",
       "<p>3684 rows × 4 columns</p>\n",
       "</div>"
      ],
      "text/plain": [
       "                    author  score  \\\n",
       "0        Mechanical_Indian      5   \n",
       "1     malcome-the-spedbump     36   \n",
       "2          bubbletrollbutt     13   \n",
       "3               igneousink     11   \n",
       "4                    larit     10   \n",
       "...                    ...    ...   \n",
       "3679        TrilliumLady37      3   \n",
       "3680                ellieD      2   \n",
       "3681                Ghukly      1   \n",
       "3682            igneousink      2   \n",
       "3683            igneousink      2   \n",
       "\n",
       "                                                   text post_id  \n",
       "0     I like the picture. I don't see the relation t...  q35yt1  \n",
       "1     Is 1 ripping a hole in space time? Or just loo...  q2gy0t  \n",
       "2                                        12 all the way  q2gy0t  \n",
       "3     I'm definitely a 9.  Being up in a tree away f...  q2gy0t  \n",
       "4     7, Me and the lads found you a nice rat in the...  q2gy0t  \n",
       "...                                                 ...     ...  \n",
       "3679  More than one of the Oxburgh pieces is politic...  m7o05u  \n",
       "3680                               Nice eyebrows!\\n\\n:)  m7o05u  \n",
       "3681  Looks like something I would make when rethink...  m7o05u  \n",
       "3682  I LOVE it kittenbeans66!!  \\n\\ndid you use a m...  m7ijs5  \n",
       "3683  Auction description:\\n\\nA Scroll Painting of a...  m7e4b1  \n",
       "\n",
       "[3684 rows x 4 columns]"
      ]
     },
     "execution_count": 51,
     "metadata": {},
     "output_type": "execute_result"
    }
   ],
   "source": [
    "comment_df"
   ]
  },
  {
   "cell_type": "code",
   "execution_count": 52,
   "id": "335bf6b5",
   "metadata": {},
   "outputs": [
    {
     "data": {
      "text/plain": [
       "(3684, 4)"
      ]
     },
     "execution_count": 52,
     "metadata": {},
     "output_type": "execute_result"
    }
   ],
   "source": [
    "comment_df.shape"
   ]
  },
  {
   "cell_type": "code",
   "execution_count": 53,
   "id": "df1da39a",
   "metadata": {},
   "outputs": [
    {
     "data": {
      "text/plain": [
       "(927, 7)"
      ]
     },
     "execution_count": 53,
     "metadata": {},
     "output_type": "execute_result"
    }
   ],
   "source": [
    "post_df.shape"
   ]
  },
  {
   "cell_type": "markdown",
   "id": "ea012f5d",
   "metadata": {},
   "source": [
    "The comments can veer off into tangents sometimes, so may not always be helpful. But that's where much of the text content can sometimes be, and it's more \n",
    "\n",
    "The replace_more method replaces all the 'more comments' links with the actual comments (if limit=None, otherwise gets rid of them if limit=0). This can take a while to run if there are lots of comments. The comment object that we use in the inner loop then stores info on the comment, such as the author, score, text, and so on.\n",
    "\n",
    "To store this data, you can use a separate table for the comments and one for the posts. If each table has a 'postID' column or something like it (with the `post.id` so we can match the comments with the original posts if we want).\n",
    "\n",
    "You can also see what things are available for a comment object either in the PRAW docs or by looking at the object directly (e.g. by typing 'comment.' the pressing tab).\n",
    "\n",
    "\n",
    "Note: you can use the `tqdm` package to wrap the loops to see a progress bar (to estimate time remaining), like this:\n",
    "```python\n",
    "from tqdm import tqdm\n",
    "\n",
    "for post in tqdm(list(co_subreddit)):\n",
    "    ...\n",
    "```    "
   ]
  },
  {
   "cell_type": "markdown",
   "id": "5173aa45",
   "metadata": {},
   "source": [
    "We can also get other data like images, time the post or comment was created at (the created_utc property of posts and comments, which is the time since the epoch in the UTC timezone) and more. If we are saving images (or even videos), we can download them and save them in the database as a BLOB type (instead of TEXT or INTEGER, etc). You can see the datatypes for sqlite3 [here](https://www.sqlite.org/datatype3.html)."
   ]
  },
  {
   "cell_type": "markdown",
   "id": "2edde053",
   "metadata": {},
   "source": [
    "## Collecting more data"
   ]
  },
  {
   "cell_type": "markdown",
   "id": "6646995b",
   "metadata": {},
   "source": [
    "By default, the Reddit API currently only allows us to collect 1000 items at a time (by setting `limit=None` in the new, hot, or top function). We can sort these in different ways, but in order to collect more data, we need to get more advanced. One way to do this is to use options in the `co_subreddit = reddit.subreddit('colorado').new()` command (or others, like hot or top). Here, we get the latest 10 posts, then grab the 10 posts before that (since the CO subreddit is small and only has 917 posts at the time of this writing). You will probably want to use `limit=None` to get the maximum number of posts in your assignment, but you can get more data with this method demonstrated here."
   ]
  },
  {
   "cell_type": "code",
   "execution_count": 54,
   "id": "ba2044df",
   "metadata": {},
   "outputs": [],
   "source": [
    "newest_posts = list(reddit.subreddit('medievalcats').new(limit=10))"
   ]
  },
  {
   "cell_type": "code",
   "execution_count": 55,
   "id": "29d96ec1",
   "metadata": {},
   "outputs": [
    {
     "data": {
      "text/plain": [
       "10"
      ]
     },
     "execution_count": 55,
     "metadata": {},
     "output_type": "execute_result"
    }
   ],
   "source": [
    "len(newest_posts)"
   ]
  },
  {
   "cell_type": "markdown",
   "id": "43701e9e",
   "metadata": {},
   "source": [
    "We can see the first element is the most recent post and the last one is the oldest post."
   ]
  },
  {
   "cell_type": "code",
   "execution_count": 56,
   "id": "449903db",
   "metadata": {},
   "outputs": [
    {
     "data": {
      "text/plain": [
       "1633601966.0"
      ]
     },
     "execution_count": 56,
     "metadata": {},
     "output_type": "execute_result"
    }
   ],
   "source": [
    "newest_posts[0].created_utc"
   ]
  },
  {
   "cell_type": "code",
   "execution_count": 57,
   "id": "50cea3c9",
   "metadata": {},
   "outputs": [
    {
     "data": {
      "text/plain": [
       "1633407382.0"
      ]
     },
     "execution_count": 57,
     "metadata": {},
     "output_type": "execute_result"
    }
   ],
   "source": [
    "newest_posts[-1].created_utc"
   ]
  },
  {
   "cell_type": "code",
   "execution_count": 58,
   "id": "3ba311ae",
   "metadata": {},
   "outputs": [],
   "source": [
    "posts = list(reddit.subreddit('medievalcats').new(limit=10, params={'after': newest_posts[-1].name}))"
   ]
  },
  {
   "cell_type": "code",
   "execution_count": 59,
   "id": "7d97335c",
   "metadata": {},
   "outputs": [
    {
     "data": {
      "text/plain": [
       "1633379151.0"
      ]
     },
     "execution_count": 59,
     "metadata": {},
     "output_type": "execute_result"
    }
   ],
   "source": [
    "posts[0].created_utc"
   ]
  },
  {
   "cell_type": "code",
   "execution_count": 60,
   "id": "9f2f56ea",
   "metadata": {},
   "outputs": [
    {
     "data": {
      "text/plain": [
       "1633211341.0"
      ]
     },
     "execution_count": 60,
     "metadata": {},
     "output_type": "execute_result"
    }
   ],
   "source": [
    "posts[-1].created_utc"
   ]
  },
  {
   "cell_type": "markdown",
   "id": "5c042a72",
   "metadata": {},
   "source": [
    "Now we can see we have a new set of posts which were created before our first set of posts (new_posts). It's confusing to use the 'after' parameter, but this means that posts come 'after' the provided id (from the name attribute) in the order of posts (sorted from the newest to oldest).\n",
    "\n",
    "Note: if you really do want to get all posts, you should use the `new` function instead of `hot`."
   ]
  }
 ],
 "metadata": {
  "kernelspec": {
   "display_name": "Python 3 (ipykernel)",
   "language": "python",
   "name": "python3"
  },
  "language_info": {
   "codemirror_mode": {
    "name": "ipython",
    "version": 3
   },
   "file_extension": ".py",
   "mimetype": "text/x-python",
   "name": "python",
   "nbconvert_exporter": "python",
   "pygments_lexer": "ipython3",
   "version": "3.8.8"
  }
 },
 "nbformat": 4,
 "nbformat_minor": 5
}

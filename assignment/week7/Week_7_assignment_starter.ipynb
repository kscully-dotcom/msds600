{
 "cells": [
  {
   "cell_type": "markdown",
   "metadata": {},
   "source": [
    "# Week 7 Assignment"
   ]
  },
  {
   "cell_type": "markdown",
   "metadata": {},
   "source": [
    "This week we are collecting some data from Reddit and doing some basic EDA on it. You should:\n",
    "\n",
    "- create your Reddit account and API keys\n",
    "- collect data from a subreddit of your choice\n",
    "    - at a minimum, collect the posts from the subreddit; optionally collect comments on the posts\n",
    "- save the data to a SQLite3 database\n",
    "- perform some basic EDA on the data\n",
    "    - create at least 2 plots\n",
    "- write a short analysis at the end describing the process and results\n",
    "- turn in the Jupyter Notebook and PDF printout or export to the week 7 dropbox\n",
    "\n",
    "***Optional* advanced section**\n",
    "- Practice SQL queries and select a subsection of the posts you collected\n",
    "- Modify your code to collect data beyond the 1000 item limit\n",
    "- Collect comments from the posts for analysis next week and do some EDA on the comments (e.g. who is the top commenter, which commenters have the most up and down votes or most controversial posts, etc)\n",
    "- examine n-grams ([bigrams](https://stackoverflow.com/a/37651184/4549682), trigrams) or [collocations](https://www.geeksforgeeks.org/nlp-word-collocations/)\n",
    "\n",
    "Note: There is no solution file for this week."
   ]
  },
  {
   "cell_type": "code",
   "execution_count": 47,
   "metadata": {},
   "outputs": [],
   "source": [
    "import praw\n",
    "import pandas as pd\n",
    "import sqlite3\n",
    "import credentials"
   ]
  },
  {
   "cell_type": "code",
   "execution_count": 48,
   "metadata": {},
   "outputs": [],
   "source": [
    "reddit = praw.Reddit(client_id=credentials.client_id,\n",
    "                     client_secret=credentials.client_secret,\n",
    "                     user_agent=credentials.user_agent)"
   ]
  },
  {
   "cell_type": "markdown",
   "metadata": {},
   "source": [
    "## Discovery"
   ]
  },
  {
   "cell_type": "code",
   "execution_count": 49,
   "metadata": {},
   "outputs": [],
   "source": [
    "sf_subreddit = reddit.subreddit('SustainableFashion').top(limit=25)"
   ]
  },
  {
   "cell_type": "code",
   "execution_count": 50,
   "metadata": {
    "scrolled": true
   },
   "outputs": [
    {
     "name": "stdout",
     "output_type": "stream",
     "text": [
      "What do you think about this Upcycled/Reworked Patagonia jacket? It was completely destroyed but I did some patchwork on it! 408 26 False False https://www.reddit.com/gallery/l6it87\n",
      "Bernie’s memed mittens made by a teacher in Vermont 410 8 False False https://i.redd.it/b6vwqng5dkc61.jpg\n",
      "Turned 3 old T-shirts into 1 new one ♻️♻️♻️ 357 17 False False https://www.reddit.com/gallery/i8jey0\n",
      "Made some vintage-looking shorts out of thrifted men’s pants! 349 13 False False https://www.reddit.com/gallery/hz3j42\n",
      "I reworked a $12 Thrifted Ralph Lauren Blazer into this Coco Chanel Inspired Set 💕 277 13 True False https://v.redd.it/imct6n16wk661\n",
      "A jacket I created from my dads old clothes. Let me know what you think :) 277 22 False False https://www.reddit.com/gallery/m8bzbe\n",
      "Another flour bag upcycled job. Lmk what you think :) 271 9 False False https://www.reddit.com/gallery/n7opvr\n",
      "learned to sew this year in order to create a more sustainable (and unique!) wardrobe- this week i made my most complicated piece yet!! 264 11 False False https://i.redd.it/eg21fdz3drd61.jpg\n",
      "A jacket I made a few months ago made from a friends maroon jeans and my dads black jeans. A minimal look inspired by Dabi, from my hero academia 251 7 False False https://www.reddit.com/gallery/mjoi3m\n",
      "I made this sweatshirt out of a blanket I got at the thrift store and I’m kinda proud of it :,) 244 30 False False https://www.reddit.com/gallery/pw7brv\n",
      "Princess Beatrice rewore an old dress from the Queen for her wedding! 240 32 False False https://i.redd.it/ow6oa74vmqb51.jpg\n",
      "Didn't see this talked about yet -- AOC advocating slow fashion on Twitter (I'm finally getting on board the AOC train) 237 5 False False https://i.redd.it/dpy1dr251ny51.png\n",
      "Finished my second top, reworked from an old Aeropostale hoodie (3rd picture). Was gifted this hoodie 6 years ago but never liked it, finally decided to do something about it. 236 19 False False https://www.reddit.com/gallery/leqm0r\n",
      "Some quilting method type shirts I’ve been making recently from jeans, scarabs and other pant swatches 227 12 False False https://www.reddit.com/gallery/no103o\n",
      "Reuse and repurpose before buying sustainable 228 0 False False https://i.redd.it/utw2hbq2zmr51.png\n",
      "Turned a tablecloth into a pinafore dress 🥰 might be my new favourite item 210 5 False False https://i.redd.it/imdgaxvi69g51.jpg\n",
      "I made this jacket out of recycled bags. Wear or tear? 208 16 False False https://i.redd.it/htzae5yr9g861.jpg\n",
      "Monsters Inc Jacket 198 10 False False https://www.reddit.com/gallery/mremz7\n",
      "Flipped Adidas Track pants and made it into a dress... after this video I actually added the waistband to the top of the dress 😍 it changed the entire look and made it look as if I bought it right out of the store 🙌🏾 199 7 True False https://v.redd.it/3xujjni2l5761\n",
      "Turned a thrifted pair of pajamas into my Valentine’s Day outfit & did not waste a single piece of fabric in the process! 193 8 False False https://i.redd.it/e8he5eblkeh41.jpg\n",
      "“Clothes that cost less than a cup of your favorite Starbucks coffee, cannot be made in a way that keeps women safe.” -Ayesha Barenblat, Remake founder 190 0 False False https://www.eco-stylist.com/is-ethical-fashion-really-more-expensive-13-brands-you-need-to-know/\n",
      "What do you think of my upcycled/reworked corset. Made from an old aeropostale hoodie I got 5 years ago! And old laces. All hand embroidered my myself 188 7 False False https://www.reddit.com/gallery/l90c2m\n",
      "I used to be a crazy shopaholic. Thankfully with age got some wisdom and found my passion - to give pre-loved fashion items a second chance. Bought this bag on a C2C marketplace and decorated with my own made cicada. I believe it looks way better now 🤞🤩 do you have any examples of your own? 182 24 False False https://i.redd.it/oiwfqbpflj251.jpg\n",
      "Thrift Flipped this $3 Velvet Top into a last minute date night outfit 🌹🔥 186 6 True False https://v.redd.it/qvvm7xlw1g661\n",
      "Cute illustration I made, IG: @sara.williams_ 185 6 False False https://i.redd.it/4a0mspgdhw961.jpg\n"
     ]
    }
   ],
   "source": [
    "for post in sf_subreddit:\n",
    "        print(post.title, post.score, post.num_comments, post.is_video, post.is_self, post.url)"
   ]
  },
  {
   "cell_type": "markdown",
   "metadata": {},
   "source": [
    "## Create DataFrame and SQL Table"
   ]
  },
  {
   "cell_type": "code",
   "execution_count": 51,
   "metadata": {},
   "outputs": [
    {
     "name": "stderr",
     "output_type": "stream",
     "text": [
      "100%|███████████████████████████████████████████████████████████████████████████| 1000/1000 [31:38<00:00,  1.90s/it]\n"
     ]
    }
   ],
   "source": [
    "from tqdm import tqdm\n",
    "\n",
    "fields = {'title', 'link', 'author', 'n_comments', 'score', 'text', 'video', 'has-text', 'media-link', 'id'}\n",
    "reddit_data = {k: [] for k in fields}\n",
    "cols = {'author', 'score', 'text', 'post_id'}\n",
    "reddit_comments_data = {k: [] for k in cols}\n",
    "\n",
    "\n",
    "sf_subreddit = reddit.subreddit('SustainableFashion').top(limit=None)\n",
    "\n",
    "for post in tqdm(list(sf_subreddit)):\n",
    "    reddit_data['title'].append(post.title)\n",
    "    reddit_data['link'].append(post.permalink)\n",
    "    if post.author is None:\n",
    "        reddit_data['author'].append('')\n",
    "    else:\n",
    "        reddit_data['author'].append(post.author.name)\n",
    "    \n",
    "    reddit_data['n_comments'].append(post.num_comments)\n",
    "    reddit_data['score'].append(post.score)\n",
    "    reddit_data['text'].append(post.selftext)\n",
    "    reddit_data['video'].append(post.is_video)\n",
    "    reddit_data['has-text'].append(post.is_self)\n",
    "    reddit_data['media-link'].append(post.url)\n",
    "    reddit_data['id'].append(post.id)\n",
    "    \n",
    "    post.comments.replace_more(limit=0)\n",
    "    for comment in post.comments:\n",
    "        if comment.author is None:\n",
    "            reddit_comments_data['author'].append('')\n",
    "        else:\n",
    "            reddit_comments_data['author'].append(comment.author.name)\n",
    "        reddit_comments_data['score'].append(comment.score)\n",
    "        reddit_comments_data['text'].append(comment.body)\n",
    "        reddit_comments_data['post_id'].append(post.id)\n",
    "\n",
    "post_df = pd.DataFrame(reddit_data)\n",
    "comment_df = pd.DataFrame(reddit_comments_data)\n",
    "\n",
    "con = sqlite3.connect('sf_reddit.sqlite')\n",
    "post_df.to_sql('posts', con, if_exists='replace')\n",
    "comment_df.to_sql('comments', con, if_exists='replace')\n",
    "con.close()"
   ]
  },
  {
   "cell_type": "markdown",
   "metadata": {},
   "source": [
    "## Data Prep and Cleaning"
   ]
  },
  {
   "cell_type": "markdown",
   "metadata": {},
   "source": [
    "##### Below are functions I used to clean and reorganize the data. I have reoptimized the script a few times now so changes are already incorporated into the sql database, therefore these step are no longer needed for future iterations."
   ]
  },
  {
   "cell_type": "markdown",
   "metadata": {
    "scrolled": false
   },
   "source": [
    "post_df = post_df.convert_dtypes()\n",
    "post_df.info()"
   ]
  },
  {
   "cell_type": "markdown",
   "metadata": {
    "scrolled": false
   },
   "source": [
    "from sklearn import preprocessing\n",
    "\n",
    "\n",
    "le = preprocessing.LabelEncoder()\n",
    "\n",
    "\n",
    "post_df['video'] = le.fit_transform(post_df['video'])\n",
    "\n",
    "\n",
    "post_df['has-text'] = le.fit_transform(post_df['has-text'])\n",
    "\n",
    "\n",
    "post_df['media-link'] = post_df['media-link'].str.contains('gallery|jpg|png|i.redd.it|v.redd.it|img|image|gif|mp4|mov')\n",
    "\n",
    "\n",
    "post_df['len_title'] = post_df['title'].str.len()\n",
    "\n",
    "\n",
    "post_df['len_text'] = post_df['text'].str.len()"
   ]
  },
  {
   "cell_type": "markdown",
   "metadata": {},
   "source": [
    "post_df['media-link'] = le.fit_transform(post_df['media-link'])"
   ]
  },
  {
   "cell_type": "markdown",
   "metadata": {},
   "source": [
    "comment_df['len_text'] = comment_df['text'].str.len()"
   ]
  },
  {
   "cell_type": "markdown",
   "metadata": {},
   "source": [
    "comment_df = comment_df.convert_dtypes()\n",
    "comment_df.info()"
   ]
  },
  {
   "cell_type": "code",
   "execution_count": 75,
   "metadata": {
    "scrolled": true
   },
   "outputs": [
    {
     "data": {
      "text/html": [
       "<div>\n",
       "<style scoped>\n",
       "    .dataframe tbody tr th:only-of-type {\n",
       "        vertical-align: middle;\n",
       "    }\n",
       "\n",
       "    .dataframe tbody tr th {\n",
       "        vertical-align: top;\n",
       "    }\n",
       "\n",
       "    .dataframe thead th {\n",
       "        text-align: right;\n",
       "    }\n",
       "</style>\n",
       "<table border=\"1\" class=\"dataframe\">\n",
       "  <thead>\n",
       "    <tr style=\"text-align: right;\">\n",
       "      <th></th>\n",
       "      <th>has-text</th>\n",
       "      <th>author</th>\n",
       "      <th>link</th>\n",
       "      <th>id</th>\n",
       "      <th>video</th>\n",
       "      <th>n_comments</th>\n",
       "      <th>title</th>\n",
       "      <th>score</th>\n",
       "      <th>text</th>\n",
       "      <th>media-link</th>\n",
       "      <th>len_title</th>\n",
       "      <th>len_text</th>\n",
       "    </tr>\n",
       "  </thead>\n",
       "  <tbody>\n",
       "    <tr>\n",
       "      <th>0</th>\n",
       "      <td>0</td>\n",
       "      <td>boroboroclothing</td>\n",
       "      <td>/r/SustainableFashion/comments/l6it87/what_do_...</td>\n",
       "      <td>l6it87</td>\n",
       "      <td>0</td>\n",
       "      <td>26</td>\n",
       "      <td>What do you think about this Upcycled/Reworked...</td>\n",
       "      <td>412</td>\n",
       "      <td></td>\n",
       "      <td>1</td>\n",
       "      <td>124</td>\n",
       "      <td>0</td>\n",
       "    </tr>\n",
       "    <tr>\n",
       "      <th>1</th>\n",
       "      <td>0</td>\n",
       "      <td>geminigirly</td>\n",
       "      <td>/r/SustainableFashion/comments/l1k9je/bernies_...</td>\n",
       "      <td>l1k9je</td>\n",
       "      <td>0</td>\n",
       "      <td>8</td>\n",
       "      <td>Bernie’s memed mittens made by a teacher in Ve...</td>\n",
       "      <td>407</td>\n",
       "      <td></td>\n",
       "      <td>1</td>\n",
       "      <td>51</td>\n",
       "      <td>0</td>\n",
       "    </tr>\n",
       "    <tr>\n",
       "      <th>2</th>\n",
       "      <td>0</td>\n",
       "      <td>Bydanielpearce</td>\n",
       "      <td>/r/SustainableFashion/comments/i8jey0/turned_3...</td>\n",
       "      <td>i8jey0</td>\n",
       "      <td>0</td>\n",
       "      <td>17</td>\n",
       "      <td>Turned 3 old T-shirts into 1 new one ♻️♻️♻️</td>\n",
       "      <td>362</td>\n",
       "      <td></td>\n",
       "      <td>1</td>\n",
       "      <td>43</td>\n",
       "      <td>0</td>\n",
       "    </tr>\n",
       "    <tr>\n",
       "      <th>3</th>\n",
       "      <td>0</td>\n",
       "      <td>stephmiche</td>\n",
       "      <td>/r/SustainableFashion/comments/hz3j42/made_som...</td>\n",
       "      <td>hz3j42</td>\n",
       "      <td>0</td>\n",
       "      <td>13</td>\n",
       "      <td>Made some vintage-looking shorts out of thrift...</td>\n",
       "      <td>349</td>\n",
       "      <td></td>\n",
       "      <td>1</td>\n",
       "      <td>61</td>\n",
       "      <td>0</td>\n",
       "    </tr>\n",
       "    <tr>\n",
       "      <th>4</th>\n",
       "      <td>0</td>\n",
       "      <td>TaylerCmone</td>\n",
       "      <td>/r/SustainableFashion/comments/khmahw/i_rework...</td>\n",
       "      <td>khmahw</td>\n",
       "      <td>1</td>\n",
       "      <td>13</td>\n",
       "      <td>I reworked a $12 Thrifted Ralph Lauren Blazer ...</td>\n",
       "      <td>279</td>\n",
       "      <td></td>\n",
       "      <td>1</td>\n",
       "      <td>82</td>\n",
       "      <td>0</td>\n",
       "    </tr>\n",
       "    <tr>\n",
       "      <th>...</th>\n",
       "      <td>...</td>\n",
       "      <td>...</td>\n",
       "      <td>...</td>\n",
       "      <td>...</td>\n",
       "      <td>...</td>\n",
       "      <td>...</td>\n",
       "      <td>...</td>\n",
       "      <td>...</td>\n",
       "      <td>...</td>\n",
       "      <td>...</td>\n",
       "      <td>...</td>\n",
       "      <td>...</td>\n",
       "    </tr>\n",
       "    <tr>\n",
       "      <th>995</th>\n",
       "      <td>0</td>\n",
       "      <td>jabruce</td>\n",
       "      <td>/r/SustainableFashion/comments/o68ybq/check_ou...</td>\n",
       "      <td>o68ybq</td>\n",
       "      <td>0</td>\n",
       "      <td>0</td>\n",
       "      <td>Check out www.ozoneapparel.store - a fashion b...</td>\n",
       "      <td>5</td>\n",
       "      <td></td>\n",
       "      <td>1</td>\n",
       "      <td>132</td>\n",
       "      <td>0</td>\n",
       "    </tr>\n",
       "    <tr>\n",
       "      <th>996</th>\n",
       "      <td>1</td>\n",
       "      <td>vildusmaximus</td>\n",
       "      <td>/r/SustainableFashion/comments/o2p2ki/y2k_fash...</td>\n",
       "      <td>o2p2ki</td>\n",
       "      <td>0</td>\n",
       "      <td>7</td>\n",
       "      <td>Y2k fashion?</td>\n",
       "      <td>5</td>\n",
       "      <td>Im in love with the y2k style. But its really ...</td>\n",
       "      <td>0</td>\n",
       "      <td>12</td>\n",
       "      <td>133</td>\n",
       "    </tr>\n",
       "    <tr>\n",
       "      <th>997</th>\n",
       "      <td>1</td>\n",
       "      <td>2littleduckscameback</td>\n",
       "      <td>/r/SustainableFashion/comments/o1jl4t/business...</td>\n",
       "      <td>o1jl4t</td>\n",
       "      <td>0</td>\n",
       "      <td>3</td>\n",
       "      <td>Business clothes</td>\n",
       "      <td>7</td>\n",
       "      <td>Does anyone have recommendations for sustainab...</td>\n",
       "      <td>0</td>\n",
       "      <td>16</td>\n",
       "      <td>210</td>\n",
       "    </tr>\n",
       "    <tr>\n",
       "      <th>998</th>\n",
       "      <td>1</td>\n",
       "      <td>kollaking</td>\n",
       "      <td>/r/SustainableFashion/comments/nkif13/linen_tr...</td>\n",
       "      <td>nkif13</td>\n",
       "      <td>0</td>\n",
       "      <td>0</td>\n",
       "      <td>Linen Trail - A Slow Fashion label from India ...</td>\n",
       "      <td>6</td>\n",
       "      <td>&amp;#x200B;\n",
       "\n",
       "[Rasamalli Hand Embroidered Pure Lin...</td>\n",
       "      <td>0</td>\n",
       "      <td>103</td>\n",
       "      <td>1380</td>\n",
       "    </tr>\n",
       "    <tr>\n",
       "      <th>999</th>\n",
       "      <td>1</td>\n",
       "      <td>These_Lingonberry_22</td>\n",
       "      <td>/r/SustainableFashion/comments/n1m9kh/what_get...</td>\n",
       "      <td>n1m9kh</td>\n",
       "      <td>0</td>\n",
       "      <td>10</td>\n",
       "      <td>What gets you started to love sustainable brands?</td>\n",
       "      <td>7</td>\n",
       "      <td>Just wanted to know a little bit more about wh...</td>\n",
       "      <td>0</td>\n",
       "      <td>49</td>\n",
       "      <td>821</td>\n",
       "    </tr>\n",
       "  </tbody>\n",
       "</table>\n",
       "<p>1000 rows × 12 columns</p>\n",
       "</div>"
      ],
      "text/plain": [
       "     has-text                author  \\\n",
       "0           0      boroboroclothing   \n",
       "1           0           geminigirly   \n",
       "2           0        Bydanielpearce   \n",
       "3           0            stephmiche   \n",
       "4           0           TaylerCmone   \n",
       "..        ...                   ...   \n",
       "995         0               jabruce   \n",
       "996         1         vildusmaximus   \n",
       "997         1  2littleduckscameback   \n",
       "998         1             kollaking   \n",
       "999         1  These_Lingonberry_22   \n",
       "\n",
       "                                                  link      id  video  \\\n",
       "0    /r/SustainableFashion/comments/l6it87/what_do_...  l6it87      0   \n",
       "1    /r/SustainableFashion/comments/l1k9je/bernies_...  l1k9je      0   \n",
       "2    /r/SustainableFashion/comments/i8jey0/turned_3...  i8jey0      0   \n",
       "3    /r/SustainableFashion/comments/hz3j42/made_som...  hz3j42      0   \n",
       "4    /r/SustainableFashion/comments/khmahw/i_rework...  khmahw      1   \n",
       "..                                                 ...     ...    ...   \n",
       "995  /r/SustainableFashion/comments/o68ybq/check_ou...  o68ybq      0   \n",
       "996  /r/SustainableFashion/comments/o2p2ki/y2k_fash...  o2p2ki      0   \n",
       "997  /r/SustainableFashion/comments/o1jl4t/business...  o1jl4t      0   \n",
       "998  /r/SustainableFashion/comments/nkif13/linen_tr...  nkif13      0   \n",
       "999  /r/SustainableFashion/comments/n1m9kh/what_get...  n1m9kh      0   \n",
       "\n",
       "     n_comments                                              title  score  \\\n",
       "0            26  What do you think about this Upcycled/Reworked...    412   \n",
       "1             8  Bernie’s memed mittens made by a teacher in Ve...    407   \n",
       "2            17        Turned 3 old T-shirts into 1 new one ♻️♻️♻️    362   \n",
       "3            13  Made some vintage-looking shorts out of thrift...    349   \n",
       "4            13  I reworked a $12 Thrifted Ralph Lauren Blazer ...    279   \n",
       "..          ...                                                ...    ...   \n",
       "995           0  Check out www.ozoneapparel.store - a fashion b...      5   \n",
       "996           7                                       Y2k fashion?      5   \n",
       "997           3                                   Business clothes      7   \n",
       "998           0  Linen Trail - A Slow Fashion label from India ...      6   \n",
       "999          10  What gets you started to love sustainable brands?      7   \n",
       "\n",
       "                                                  text  media-link  len_title  \\\n",
       "0                                                                1        124   \n",
       "1                                                                1         51   \n",
       "2                                                                1         43   \n",
       "3                                                                1         61   \n",
       "4                                                                1         82   \n",
       "..                                                 ...         ...        ...   \n",
       "995                                                              1        132   \n",
       "996  Im in love with the y2k style. But its really ...           0         12   \n",
       "997  Does anyone have recommendations for sustainab...           0         16   \n",
       "998  &#x200B;\n",
       "\n",
       "[Rasamalli Hand Embroidered Pure Lin...           0        103   \n",
       "999  Just wanted to know a little bit more about wh...           0         49   \n",
       "\n",
       "     len_text  \n",
       "0           0  \n",
       "1           0  \n",
       "2           0  \n",
       "3           0  \n",
       "4           0  \n",
       "..        ...  \n",
       "995         0  \n",
       "996       133  \n",
       "997       210  \n",
       "998      1380  \n",
       "999       821  \n",
       "\n",
       "[1000 rows x 12 columns]"
      ]
     },
     "execution_count": 75,
     "metadata": {},
     "output_type": "execute_result"
    }
   ],
   "source": [
    "post_df"
   ]
  },
  {
   "cell_type": "code",
   "execution_count": 79,
   "metadata": {},
   "outputs": [
    {
     "data": {
      "text/html": [
       "<div>\n",
       "<style scoped>\n",
       "    .dataframe tbody tr th:only-of-type {\n",
       "        vertical-align: middle;\n",
       "    }\n",
       "\n",
       "    .dataframe tbody tr th {\n",
       "        vertical-align: top;\n",
       "    }\n",
       "\n",
       "    .dataframe thead th {\n",
       "        text-align: right;\n",
       "    }\n",
       "</style>\n",
       "<table border=\"1\" class=\"dataframe\">\n",
       "  <thead>\n",
       "    <tr style=\"text-align: right;\">\n",
       "      <th></th>\n",
       "      <th>score</th>\n",
       "      <th>author</th>\n",
       "      <th>post_id</th>\n",
       "      <th>text</th>\n",
       "      <th>len_text</th>\n",
       "    </tr>\n",
       "  </thead>\n",
       "  <tbody>\n",
       "    <tr>\n",
       "      <th>0</th>\n",
       "      <td>22</td>\n",
       "      <td>MissCasey</td>\n",
       "      <td>l6it87</td>\n",
       "      <td>This is dope! And honestly I bet Patagonia wou...</td>\n",
       "      <td>202</td>\n",
       "    </tr>\n",
       "    <tr>\n",
       "      <th>1</th>\n",
       "      <td>8</td>\n",
       "      <td>goodthingsinside_80</td>\n",
       "      <td>l6it87</td>\n",
       "      <td>So cool!</td>\n",
       "      <td>8</td>\n",
       "    </tr>\n",
       "    <tr>\n",
       "      <th>2</th>\n",
       "      <td>7</td>\n",
       "      <td>luvs2meow</td>\n",
       "      <td>l6it87</td>\n",
       "      <td>Love it!!! You’re very talented!! I’d love suc...</td>\n",
       "      <td>83</td>\n",
       "    </tr>\n",
       "    <tr>\n",
       "      <th>3</th>\n",
       "      <td>4</td>\n",
       "      <td>Balow08</td>\n",
       "      <td>l6it87</td>\n",
       "      <td>Beautiful renovation</td>\n",
       "      <td>20</td>\n",
       "    </tr>\n",
       "    <tr>\n",
       "      <th>4</th>\n",
       "      <td>3</td>\n",
       "      <td>kollegekidkardashian</td>\n",
       "      <td>l6it87</td>\n",
       "      <td>this is so cool! and fashionable</td>\n",
       "      <td>32</td>\n",
       "    </tr>\n",
       "    <tr>\n",
       "      <th>...</th>\n",
       "      <td>...</td>\n",
       "      <td>...</td>\n",
       "      <td>...</td>\n",
       "      <td>...</td>\n",
       "      <td>...</td>\n",
       "    </tr>\n",
       "    <tr>\n",
       "      <th>2884</th>\n",
       "      <td>7</td>\n",
       "      <td>jrizzle115</td>\n",
       "      <td>o1jl4t</td>\n",
       "      <td>My workplace is more on the business casual si...</td>\n",
       "      <td>223</td>\n",
       "    </tr>\n",
       "    <tr>\n",
       "      <th>2885</th>\n",
       "      <td>1</td>\n",
       "      <td>KCMasterpeirce</td>\n",
       "      <td>o1jl4t</td>\n",
       "      <td>The Good Trade publishes lists for ethical clo...</td>\n",
       "      <td>171</td>\n",
       "    </tr>\n",
       "    <tr>\n",
       "      <th>2886</th>\n",
       "      <td>5</td>\n",
       "      <td>wallace320</td>\n",
       "      <td>n1m9kh</td>\n",
       "      <td>For me it was learning about the environmental...</td>\n",
       "      <td>211</td>\n",
       "    </tr>\n",
       "    <tr>\n",
       "      <th>2887</th>\n",
       "      <td>2</td>\n",
       "      <td></td>\n",
       "      <td>n1m9kh</td>\n",
       "      <td>I’ve not yet moved to purchasing sustainable b...</td>\n",
       "      <td>504</td>\n",
       "    </tr>\n",
       "    <tr>\n",
       "      <th>2888</th>\n",
       "      <td>2</td>\n",
       "      <td>feyzakuran</td>\n",
       "      <td>n1m9kh</td>\n",
       "      <td>The \"sustainability\" class (Haliç University -...</td>\n",
       "      <td>79</td>\n",
       "    </tr>\n",
       "  </tbody>\n",
       "</table>\n",
       "<p>2889 rows × 5 columns</p>\n",
       "</div>"
      ],
      "text/plain": [
       "      score                author post_id  \\\n",
       "0        22             MissCasey  l6it87   \n",
       "1         8   goodthingsinside_80  l6it87   \n",
       "2         7             luvs2meow  l6it87   \n",
       "3         4               Balow08  l6it87   \n",
       "4         3  kollegekidkardashian  l6it87   \n",
       "...     ...                   ...     ...   \n",
       "2884      7            jrizzle115  o1jl4t   \n",
       "2885      1        KCMasterpeirce  o1jl4t   \n",
       "2886      5            wallace320  n1m9kh   \n",
       "2887      2                        n1m9kh   \n",
       "2888      2            feyzakuran  n1m9kh   \n",
       "\n",
       "                                                   text  len_text  \n",
       "0     This is dope! And honestly I bet Patagonia wou...       202  \n",
       "1                                              So cool!         8  \n",
       "2     Love it!!! You’re very talented!! I’d love suc...        83  \n",
       "3                                  Beautiful renovation        20  \n",
       "4                      this is so cool! and fashionable        32  \n",
       "...                                                 ...       ...  \n",
       "2884  My workplace is more on the business casual si...       223  \n",
       "2885  The Good Trade publishes lists for ethical clo...       171  \n",
       "2886  For me it was learning about the environmental...       211  \n",
       "2887  I’ve not yet moved to purchasing sustainable b...       504  \n",
       "2888  The \"sustainability\" class (Haliç University -...        79  \n",
       "\n",
       "[2889 rows x 5 columns]"
      ]
     },
     "execution_count": 79,
     "metadata": {},
     "output_type": "execute_result"
    }
   ],
   "source": [
    "comment_df"
   ]
  },
  {
   "cell_type": "markdown",
   "metadata": {},
   "source": [
    "## Meaningful EDAs"
   ]
  },
  {
   "cell_type": "code",
   "execution_count": 80,
   "metadata": {
    "scrolled": false
   },
   "outputs": [
    {
     "data": {
      "text/plain": [
       "<AxesSubplot:ylabel='Frequency'>"
      ]
     },
     "execution_count": 80,
     "metadata": {},
     "output_type": "execute_result"
    },
    {
     "data": {
      "image/png": "[encoded data removed]",
      "text/plain": [
       "<Figure size 432x288 with 1 Axes>"
      ]
     },
     "metadata": {
      "needs_background": "light"
     },
     "output_type": "display_data"
    }
   ],
   "source": [
    "post_df['score'].plot.hist(bins=30)"
   ]
  },
  {
   "cell_type": "code",
   "execution_count": 81,
   "metadata": {},
   "outputs": [
    {
     "data": {
      "text/plain": [
       "<AxesSubplot:ylabel='Frequency'>"
      ]
     },
     "execution_count": 81,
     "metadata": {},
     "output_type": "execute_result"
    },
    {
     "data": {
      "image/png": "[encoded data removed]",
      "text/plain": [
       "<Figure size 432x288 with 1 Axes>"
      ]
     },
     "metadata": {
      "needs_background": "light"
     },
     "output_type": "display_data"
    }
   ],
   "source": [
    "comment_df['score'].plot.hist(bins=30)"
   ]
  },
  {
   "cell_type": "code",
   "execution_count": 82,
   "metadata": {
    "scrolled": false
   },
   "outputs": [
    {
     "data": {
      "text/html": [
       "<div>\n",
       "<style scoped>\n",
       "    .dataframe tbody tr th:only-of-type {\n",
       "        vertical-align: middle;\n",
       "    }\n",
       "\n",
       "    .dataframe tbody tr th {\n",
       "        vertical-align: top;\n",
       "    }\n",
       "\n",
       "    .dataframe thead th {\n",
       "        text-align: right;\n",
       "    }\n",
       "</style>\n",
       "<table border=\"1\" class=\"dataframe\">\n",
       "  <thead>\n",
       "    <tr style=\"text-align: right;\">\n",
       "      <th></th>\n",
       "      <th>has-text</th>\n",
       "      <th>author</th>\n",
       "      <th>link</th>\n",
       "      <th>id</th>\n",
       "      <th>video</th>\n",
       "      <th>n_comments</th>\n",
       "      <th>title</th>\n",
       "      <th>score</th>\n",
       "      <th>text</th>\n",
       "      <th>media-link</th>\n",
       "      <th>len_title</th>\n",
       "      <th>len_text</th>\n",
       "    </tr>\n",
       "  </thead>\n",
       "  <tbody>\n",
       "    <tr>\n",
       "      <th>0</th>\n",
       "      <td>0</td>\n",
       "      <td>boroboroclothing</td>\n",
       "      <td>/r/SustainableFashion/comments/l6it87/what_do_...</td>\n",
       "      <td>l6it87</td>\n",
       "      <td>0</td>\n",
       "      <td>26</td>\n",
       "      <td>What do you think about this Upcycled/Reworked...</td>\n",
       "      <td>412</td>\n",
       "      <td></td>\n",
       "      <td>1</td>\n",
       "      <td>124</td>\n",
       "      <td>0</td>\n",
       "    </tr>\n",
       "    <tr>\n",
       "      <th>1</th>\n",
       "      <td>0</td>\n",
       "      <td>geminigirly</td>\n",
       "      <td>/r/SustainableFashion/comments/l1k9je/bernies_...</td>\n",
       "      <td>l1k9je</td>\n",
       "      <td>0</td>\n",
       "      <td>8</td>\n",
       "      <td>Bernie’s memed mittens made by a teacher in Ve...</td>\n",
       "      <td>407</td>\n",
       "      <td></td>\n",
       "      <td>1</td>\n",
       "      <td>51</td>\n",
       "      <td>0</td>\n",
       "    </tr>\n",
       "  </tbody>\n",
       "</table>\n",
       "</div>"
      ],
      "text/plain": [
       "   has-text            author  \\\n",
       "0         0  boroboroclothing   \n",
       "1         0       geminigirly   \n",
       "\n",
       "                                                link      id  video  \\\n",
       "0  /r/SustainableFashion/comments/l6it87/what_do_...  l6it87      0   \n",
       "1  /r/SustainableFashion/comments/l1k9je/bernies_...  l1k9je      0   \n",
       "\n",
       "   n_comments                                              title  score text  \\\n",
       "0          26  What do you think about this Upcycled/Reworked...    412        \n",
       "1           8  Bernie’s memed mittens made by a teacher in Ve...    407        \n",
       "\n",
       "   media-link  len_title  len_text  \n",
       "0           1        124         0  \n",
       "1           1         51         0  "
      ]
     },
     "execution_count": 82,
     "metadata": {},
     "output_type": "execute_result"
    }
   ],
   "source": [
    "post_df[post_df['score'] > 400]"
   ]
  },
  {
   "cell_type": "code",
   "execution_count": 83,
   "metadata": {},
   "outputs": [
    {
     "data": {
      "text/html": [
       "<div>\n",
       "<style scoped>\n",
       "    .dataframe tbody tr th:only-of-type {\n",
       "        vertical-align: middle;\n",
       "    }\n",
       "\n",
       "    .dataframe tbody tr th {\n",
       "        vertical-align: top;\n",
       "    }\n",
       "\n",
       "    .dataframe thead th {\n",
       "        text-align: right;\n",
       "    }\n",
       "</style>\n",
       "<table border=\"1\" class=\"dataframe\">\n",
       "  <thead>\n",
       "    <tr style=\"text-align: right;\">\n",
       "      <th></th>\n",
       "      <th>score</th>\n",
       "      <th>author</th>\n",
       "      <th>post_id</th>\n",
       "      <th>text</th>\n",
       "      <th>len_text</th>\n",
       "    </tr>\n",
       "  </thead>\n",
       "  <tbody>\n",
       "    <tr>\n",
       "      <th>112</th>\n",
       "      <td>41</td>\n",
       "      <td>stmbt</td>\n",
       "      <td>htubx7</td>\n",
       "      <td>This post isn’t about opinions on the royals o...</td>\n",
       "      <td>503</td>\n",
       "    </tr>\n",
       "    <tr>\n",
       "      <th>417</th>\n",
       "      <td>59</td>\n",
       "      <td>BrownEyedGringa</td>\n",
       "      <td>o1mjso</td>\n",
       "      <td>I love this question!! Made me laugh\n",
       "\n",
       "Most sus...</td>\n",
       "      <td>470</td>\n",
       "    </tr>\n",
       "    <tr>\n",
       "      <th>762</th>\n",
       "      <td>88</td>\n",
       "      <td></td>\n",
       "      <td>k8cp1q</td>\n",
       "      <td>Goodwill\n",
       "\n",
       "&amp;#x200B;\n",
       "\n",
       "Edit: you can downvote me ...</td>\n",
       "      <td>77</td>\n",
       "    </tr>\n",
       "    <tr>\n",
       "      <th>1034</th>\n",
       "      <td>46</td>\n",
       "      <td>reesey_piecey</td>\n",
       "      <td>ld89qp</td>\n",
       "      <td>Creating lace is actually a long a tedious pro...</td>\n",
       "      <td>469</td>\n",
       "    </tr>\n",
       "    <tr>\n",
       "      <th>1104</th>\n",
       "      <td>74</td>\n",
       "      <td>babycaboose</td>\n",
       "      <td>kxwrrk</td>\n",
       "      <td>This is...interesting</td>\n",
       "      <td>21</td>\n",
       "    </tr>\n",
       "    <tr>\n",
       "      <th>1105</th>\n",
       "      <td>70</td>\n",
       "      <td>platypuseggnog</td>\n",
       "      <td>kxwrrk</td>\n",
       "      <td>Hi, just a quick question: why?? Also wtf is t...</td>\n",
       "      <td>103</td>\n",
       "    </tr>\n",
       "    <tr>\n",
       "      <th>1154</th>\n",
       "      <td>51</td>\n",
       "      <td>IntoLaurel</td>\n",
       "      <td>p3l8ak</td>\n",
       "      <td>Usually I start with: “Than stop consuming.” I...</td>\n",
       "      <td>384</td>\n",
       "    </tr>\n",
       "    <tr>\n",
       "      <th>1429</th>\n",
       "      <td>41</td>\n",
       "      <td>JametAllDay</td>\n",
       "      <td>orrp57</td>\n",
       "      <td>Tbh, shopping used can be hard depending on wh...</td>\n",
       "      <td>277</td>\n",
       "    </tr>\n",
       "    <tr>\n",
       "      <th>1618</th>\n",
       "      <td>42</td>\n",
       "      <td></td>\n",
       "      <td>oese5q</td>\n",
       "      <td>Clothing from a sustainable line is great if y...</td>\n",
       "      <td>385</td>\n",
       "    </tr>\n",
       "    <tr>\n",
       "      <th>2084</th>\n",
       "      <td>71</td>\n",
       "      <td>raccoontails</td>\n",
       "      <td>ii3h0t</td>\n",
       "      <td>Sustainable fashion isn’t expensive, it’s that...</td>\n",
       "      <td>430</td>\n",
       "    </tr>\n",
       "  </tbody>\n",
       "</table>\n",
       "</div>"
      ],
      "text/plain": [
       "      score           author post_id  \\\n",
       "112      41            stmbt  htubx7   \n",
       "417      59  BrownEyedGringa  o1mjso   \n",
       "762      88                   k8cp1q   \n",
       "1034     46    reesey_piecey  ld89qp   \n",
       "1104     74      babycaboose  kxwrrk   \n",
       "1105     70   platypuseggnog  kxwrrk   \n",
       "1154     51       IntoLaurel  p3l8ak   \n",
       "1429     41      JametAllDay  orrp57   \n",
       "1618     42                   oese5q   \n",
       "2084     71     raccoontails  ii3h0t   \n",
       "\n",
       "                                                   text  len_text  \n",
       "112   This post isn’t about opinions on the royals o...       503  \n",
       "417   I love this question!! Made me laugh\n",
       "\n",
       "Most sus...       470  \n",
       "762   Goodwill\n",
       "\n",
       "&#x200B;\n",
       "\n",
       "Edit: you can downvote me ...        77  \n",
       "1034  Creating lace is actually a long a tedious pro...       469  \n",
       "1104                              This is...interesting        21  \n",
       "1105  Hi, just a quick question: why?? Also wtf is t...       103  \n",
       "1154  Usually I start with: “Than stop consuming.” I...       384  \n",
       "1429  Tbh, shopping used can be hard depending on wh...       277  \n",
       "1618  Clothing from a sustainable line is great if y...       385  \n",
       "2084  Sustainable fashion isn’t expensive, it’s that...       430  "
      ]
     },
     "execution_count": 83,
     "metadata": {},
     "output_type": "execute_result"
    }
   ],
   "source": [
    "comment_df[comment_df['score'] > 40]"
   ]
  },
  {
   "cell_type": "code",
   "execution_count": 84,
   "metadata": {
    "scrolled": true
   },
   "outputs": [
    {
     "data": {
      "text/html": [
       "<div>\n",
       "<style scoped>\n",
       "    .dataframe tbody tr th:only-of-type {\n",
       "        vertical-align: middle;\n",
       "    }\n",
       "\n",
       "    .dataframe tbody tr th {\n",
       "        vertical-align: top;\n",
       "    }\n",
       "\n",
       "    .dataframe thead th {\n",
       "        text-align: right;\n",
       "    }\n",
       "</style>\n",
       "<table border=\"1\" class=\"dataframe\">\n",
       "  <thead>\n",
       "    <tr style=\"text-align: right;\">\n",
       "      <th></th>\n",
       "      <th>score</th>\n",
       "      <th>author</th>\n",
       "      <th>post_id</th>\n",
       "      <th>text</th>\n",
       "      <th>len_text</th>\n",
       "    </tr>\n",
       "  </thead>\n",
       "  <tbody>\n",
       "    <tr>\n",
       "      <th>42</th>\n",
       "      <td>-2</td>\n",
       "      <td>asdf346</td>\n",
       "      <td>hz3j42</td>\n",
       "      <td>This is where all the men’s clothes go at the ...</td>\n",
       "      <td>60</td>\n",
       "    </tr>\n",
       "    <tr>\n",
       "      <th>120</th>\n",
       "      <td>-13</td>\n",
       "      <td>slugbabyrat</td>\n",
       "      <td>htubx7</td>\n",
       "      <td>Using a dress 2 (!) whole times in 60 years? T...</td>\n",
       "      <td>74</td>\n",
       "    </tr>\n",
       "    <tr>\n",
       "      <th>504</th>\n",
       "      <td>-12</td>\n",
       "      <td>tayloline29</td>\n",
       "      <td>nks5rb</td>\n",
       "      <td>It’s kind off shitty when people who don’t nee...</td>\n",
       "      <td>156</td>\n",
       "    </tr>\n",
       "    <tr>\n",
       "      <th>556</th>\n",
       "      <td>-3</td>\n",
       "      <td>marcus_cole_b5</td>\n",
       "      <td>muby9c</td>\n",
       "      <td>what a waste of resources. yes your creative b...</td>\n",
       "      <td>64</td>\n",
       "    </tr>\n",
       "    <tr>\n",
       "      <th>576</th>\n",
       "      <td>-4</td>\n",
       "      <td>Weshnon</td>\n",
       "      <td>lsti5r</td>\n",
       "      <td>You're looking for r/malefashion</td>\n",
       "      <td>32</td>\n",
       "    </tr>\n",
       "    <tr>\n",
       "      <th>757</th>\n",
       "      <td>-1</td>\n",
       "      <td>Weshnon</td>\n",
       "      <td>kz8l17</td>\n",
       "      <td>I'm not sure that just cutting off the bottom ...</td>\n",
       "      <td>117</td>\n",
       "    </tr>\n",
       "    <tr>\n",
       "      <th>798</th>\n",
       "      <td>-6</td>\n",
       "      <td></td>\n",
       "      <td>hvmalf</td>\n",
       "      <td>[deleted]</td>\n",
       "      <td>9</td>\n",
       "    </tr>\n",
       "    <tr>\n",
       "      <th>820</th>\n",
       "      <td>-1</td>\n",
       "      <td>scarletoarah</td>\n",
       "      <td>hr2jfd</td>\n",
       "      <td>cottage core? geez - also made in china</td>\n",
       "      <td>39</td>\n",
       "    </tr>\n",
       "    <tr>\n",
       "      <th>860</th>\n",
       "      <td>-4</td>\n",
       "      <td>marcus_cole_b5</td>\n",
       "      <td>occ3qa</td>\n",
       "      <td>Why bother looks Shiite. be better to just read.</td>\n",
       "      <td>48</td>\n",
       "    </tr>\n",
       "    <tr>\n",
       "      <th>908</th>\n",
       "      <td>-5</td>\n",
       "      <td>pickyflowerwow</td>\n",
       "      <td>gwf6r2</td>\n",
       "      <td>If you would like to check for more sustainabl...</td>\n",
       "      <td>94</td>\n",
       "    </tr>\n",
       "    <tr>\n",
       "      <th>947</th>\n",
       "      <td>-2</td>\n",
       "      <td>marcus_cole_b5</td>\n",
       "      <td>pqw4iz</td>\n",
       "      <td>shouldnt bother, ruining clothes and wasting p...</td>\n",
       "      <td>64</td>\n",
       "    </tr>\n",
       "    <tr>\n",
       "      <th>982</th>\n",
       "      <td>-9</td>\n",
       "      <td>marcus_cole_b5</td>\n",
       "      <td>li7345</td>\n",
       "      <td>should have used your time more productively a...</td>\n",
       "      <td>249</td>\n",
       "    </tr>\n",
       "    <tr>\n",
       "      <th>1044</th>\n",
       "      <td>-17</td>\n",
       "      <td>marcus_cole_b5</td>\n",
       "      <td>ld89qp</td>\n",
       "      <td>arseholes overcharging</td>\n",
       "      <td>22</td>\n",
       "    </tr>\n",
       "    <tr>\n",
       "      <th>1082</th>\n",
       "      <td>-2</td>\n",
       "      <td>jameane</td>\n",
       "      <td>gs8bh6</td>\n",
       "      <td>Sorry to sound harsh, but it is pointless with...</td>\n",
       "      <td>234</td>\n",
       "    </tr>\n",
       "    <tr>\n",
       "      <th>1153</th>\n",
       "      <td>-3</td>\n",
       "      <td>thewellnessfeed</td>\n",
       "      <td>jrncc1</td>\n",
       "      <td>[https://thewellnessfeed.com/how-to-reinvigora...</td>\n",
       "      <td>202</td>\n",
       "    </tr>\n",
       "    <tr>\n",
       "      <th>1210</th>\n",
       "      <td>-1</td>\n",
       "      <td>Likeaglovem</td>\n",
       "      <td>o3qkg8</td>\n",
       "      <td>[www.climatechangeapparel.net](www.climatechan...</td>\n",
       "      <td>169</td>\n",
       "    </tr>\n",
       "    <tr>\n",
       "      <th>1211</th>\n",
       "      <td>-1</td>\n",
       "      <td>Likeaglovem</td>\n",
       "      <td>o3qkg8</td>\n",
       "      <td>Forgot to mention, we also donate profits to f...</td>\n",
       "      <td>104</td>\n",
       "    </tr>\n",
       "    <tr>\n",
       "      <th>1237</th>\n",
       "      <td>-3</td>\n",
       "      <td>marcus_cole_b5</td>\n",
       "      <td>py1chj</td>\n",
       "      <td>so wasting more resources to make them look Shit.</td>\n",
       "      <td>49</td>\n",
       "    </tr>\n",
       "    <tr>\n",
       "      <th>1393</th>\n",
       "      <td>-5</td>\n",
       "      <td>greenie66</td>\n",
       "      <td>n2qlx1</td>\n",
       "      <td>Madewell has tanks like this</td>\n",
       "      <td>28</td>\n",
       "    </tr>\n",
       "    <tr>\n",
       "      <th>1482</th>\n",
       "      <td>-9</td>\n",
       "      <td>marcus_cole_b5</td>\n",
       "      <td>mn1xrt</td>\n",
       "      <td>What the fk you on about who cares what you lo...</td>\n",
       "      <td>203</td>\n",
       "    </tr>\n",
       "    <tr>\n",
       "      <th>1504</th>\n",
       "      <td>-2</td>\n",
       "      <td>mad_dog_94</td>\n",
       "      <td>hr6u0y</td>\n",
       "      <td>i think we have bigger problems than a swastik...</td>\n",
       "      <td>522</td>\n",
       "    </tr>\n",
       "    <tr>\n",
       "      <th>1625</th>\n",
       "      <td>-1</td>\n",
       "      <td>marcus_cole_b5</td>\n",
       "      <td>oese5q</td>\n",
       "      <td>Dont save / spend / pander to these cunts over...</td>\n",
       "      <td>86</td>\n",
       "    </tr>\n",
       "    <tr>\n",
       "      <th>1631</th>\n",
       "      <td>-3</td>\n",
       "      <td>marcus_cole_b5</td>\n",
       "      <td>n9kam1</td>\n",
       "      <td>size inclusive - for the ignorant greedy vain ...</td>\n",
       "      <td>97</td>\n",
       "    </tr>\n",
       "    <tr>\n",
       "      <th>1776</th>\n",
       "      <td>-1</td>\n",
       "      <td>immaculate2020</td>\n",
       "      <td>g9em11</td>\n",
       "      <td>What do you mean by 'sustainable'? This is a a...</td>\n",
       "      <td>75</td>\n",
       "    </tr>\n",
       "    <tr>\n",
       "      <th>1791</th>\n",
       "      <td>-4</td>\n",
       "      <td>marcus_cole_b5</td>\n",
       "      <td>otpfk5</td>\n",
       "      <td>you are part of the problem.</td>\n",
       "      <td>28</td>\n",
       "    </tr>\n",
       "    <tr>\n",
       "      <th>1845</th>\n",
       "      <td>-4</td>\n",
       "      <td>stu-311375</td>\n",
       "      <td>neo6m1</td>\n",
       "      <td>Such a great project!! Get in while it's early🚀🚀</td>\n",
       "      <td>48</td>\n",
       "    </tr>\n",
       "    <tr>\n",
       "      <th>1846</th>\n",
       "      <td>-4</td>\n",
       "      <td>FilzSama</td>\n",
       "      <td>neo6m1</td>\n",
       "      <td>Great idea!</td>\n",
       "      <td>11</td>\n",
       "    </tr>\n",
       "    <tr>\n",
       "      <th>1847</th>\n",
       "      <td>-5</td>\n",
       "      <td>Acceptable_Aide_5759</td>\n",
       "      <td>neo6m1</td>\n",
       "      <td>Amazing team and amazing devs</td>\n",
       "      <td>29</td>\n",
       "    </tr>\n",
       "    <tr>\n",
       "      <th>1848</th>\n",
       "      <td>-3</td>\n",
       "      <td>insanecrypto007</td>\n",
       "      <td>neo6m1</td>\n",
       "      <td>We need moonboots</td>\n",
       "      <td>17</td>\n",
       "    </tr>\n",
       "    <tr>\n",
       "      <th>1887</th>\n",
       "      <td>-10</td>\n",
       "      <td>Weshnon</td>\n",
       "      <td>jing09</td>\n",
       "      <td>I believe being convinced consuming specific p...</td>\n",
       "      <td>115</td>\n",
       "    </tr>\n",
       "    <tr>\n",
       "      <th>1922</th>\n",
       "      <td>-1</td>\n",
       "      <td>mad_dog_94</td>\n",
       "      <td>gt07f0</td>\n",
       "      <td>all wool is ethical, as sheep are not killed t...</td>\n",
       "      <td>65</td>\n",
       "    </tr>\n",
       "    <tr>\n",
       "      <th>1954</th>\n",
       "      <td>-4</td>\n",
       "      <td>marcus_cole_b5</td>\n",
       "      <td>ps66ag</td>\n",
       "      <td>dont be Vain</td>\n",
       "      <td>12</td>\n",
       "    </tr>\n",
       "    <tr>\n",
       "      <th>1960</th>\n",
       "      <td>-2</td>\n",
       "      <td>marcus_cole_b5</td>\n",
       "      <td>opue72</td>\n",
       "      <td>NO</td>\n",
       "      <td>2</td>\n",
       "    </tr>\n",
       "    <tr>\n",
       "      <th>1963</th>\n",
       "      <td>-5</td>\n",
       "      <td>marcus_cole_b5</td>\n",
       "      <td>noq3gr</td>\n",
       "      <td>did you Need them ?  \n",
       "\n",
       "thats not how sustainab...</td>\n",
       "      <td>58</td>\n",
       "    </tr>\n",
       "    <tr>\n",
       "      <th>2051</th>\n",
       "      <td>-2</td>\n",
       "      <td>marcus_cole_b5</td>\n",
       "      <td>n2ivlq</td>\n",
       "      <td>don't believe the greenwashing hype these cunt...</td>\n",
       "      <td>60</td>\n",
       "    </tr>\n",
       "    <tr>\n",
       "      <th>2078</th>\n",
       "      <td>-9</td>\n",
       "      <td></td>\n",
       "      <td>jfm3n0</td>\n",
       "      <td>[deleted]</td>\n",
       "      <td>9</td>\n",
       "    </tr>\n",
       "    <tr>\n",
       "      <th>2120</th>\n",
       "      <td>-1</td>\n",
       "      <td>marcus_cole_b5</td>\n",
       "      <td>p8rbak</td>\n",
       "      <td>one true Fictional character to make small min...</td>\n",
       "      <td>72</td>\n",
       "    </tr>\n",
       "    <tr>\n",
       "      <th>2285</th>\n",
       "      <td>-2</td>\n",
       "      <td>marcus_cole_b5</td>\n",
       "      <td>ptx85k</td>\n",
       "      <td>Not a valid solution, just buy a few outfits a...</td>\n",
       "      <td>108</td>\n",
       "    </tr>\n",
       "    <tr>\n",
       "      <th>2519</th>\n",
       "      <td>-1</td>\n",
       "      <td>therustyscrambler</td>\n",
       "      <td>kz17kn</td>\n",
       "      <td>It you can’t get people to not eat processed f...</td>\n",
       "      <td>211</td>\n",
       "    </tr>\n",
       "    <tr>\n",
       "      <th>2758</th>\n",
       "      <td>-2</td>\n",
       "      <td>marcus_cole_b5</td>\n",
       "      <td>lb2s7u</td>\n",
       "      <td>why that unsustainable and daft</td>\n",
       "      <td>31</td>\n",
       "    </tr>\n",
       "    <tr>\n",
       "      <th>2852</th>\n",
       "      <td>-9</td>\n",
       "      <td>marcus_cole_b5</td>\n",
       "      <td>ppat4j</td>\n",
       "      <td>you think owning 21 outfits is sustainable !!!...</td>\n",
       "      <td>51</td>\n",
       "    </tr>\n",
       "    <tr>\n",
       "      <th>2876</th>\n",
       "      <td>-3</td>\n",
       "      <td>marcus_cole_b5</td>\n",
       "      <td>oeey6l</td>\n",
       "      <td>did you really need them tho ? .  cause if not...</td>\n",
       "      <td>78</td>\n",
       "    </tr>\n",
       "  </tbody>\n",
       "</table>\n",
       "</div>"
      ],
      "text/plain": [
       "      score                author post_id  \\\n",
       "42       -2               asdf346  hz3j42   \n",
       "120     -13           slugbabyrat  htubx7   \n",
       "504     -12           tayloline29  nks5rb   \n",
       "556      -3        marcus_cole_b5  muby9c   \n",
       "576      -4               Weshnon  lsti5r   \n",
       "757      -1               Weshnon  kz8l17   \n",
       "798      -6                        hvmalf   \n",
       "820      -1          scarletoarah  hr2jfd   \n",
       "860      -4        marcus_cole_b5  occ3qa   \n",
       "908      -5        pickyflowerwow  gwf6r2   \n",
       "947      -2        marcus_cole_b5  pqw4iz   \n",
       "982      -9        marcus_cole_b5  li7345   \n",
       "1044    -17        marcus_cole_b5  ld89qp   \n",
       "1082     -2               jameane  gs8bh6   \n",
       "1153     -3       thewellnessfeed  jrncc1   \n",
       "1210     -1           Likeaglovem  o3qkg8   \n",
       "1211     -1           Likeaglovem  o3qkg8   \n",
       "1237     -3        marcus_cole_b5  py1chj   \n",
       "1393     -5             greenie66  n2qlx1   \n",
       "1482     -9        marcus_cole_b5  mn1xrt   \n",
       "1504     -2            mad_dog_94  hr6u0y   \n",
       "1625     -1        marcus_cole_b5  oese5q   \n",
       "1631     -3        marcus_cole_b5  n9kam1   \n",
       "1776     -1        immaculate2020  g9em11   \n",
       "1791     -4        marcus_cole_b5  otpfk5   \n",
       "1845     -4            stu-311375  neo6m1   \n",
       "1846     -4              FilzSama  neo6m1   \n",
       "1847     -5  Acceptable_Aide_5759  neo6m1   \n",
       "1848     -3       insanecrypto007  neo6m1   \n",
       "1887    -10               Weshnon  jing09   \n",
       "1922     -1            mad_dog_94  gt07f0   \n",
       "1954     -4        marcus_cole_b5  ps66ag   \n",
       "1960     -2        marcus_cole_b5  opue72   \n",
       "1963     -5        marcus_cole_b5  noq3gr   \n",
       "2051     -2        marcus_cole_b5  n2ivlq   \n",
       "2078     -9                        jfm3n0   \n",
       "2120     -1        marcus_cole_b5  p8rbak   \n",
       "2285     -2        marcus_cole_b5  ptx85k   \n",
       "2519     -1     therustyscrambler  kz17kn   \n",
       "2758     -2        marcus_cole_b5  lb2s7u   \n",
       "2852     -9        marcus_cole_b5  ppat4j   \n",
       "2876     -3        marcus_cole_b5  oeey6l   \n",
       "\n",
       "                                                   text  len_text  \n",
       "42    This is where all the men’s clothes go at the ...        60  \n",
       "120   Using a dress 2 (!) whole times in 60 years? T...        74  \n",
       "504   It’s kind off shitty when people who don’t nee...       156  \n",
       "556   what a waste of resources. yes your creative b...        64  \n",
       "576                    You're looking for r/malefashion        32  \n",
       "757   I'm not sure that just cutting off the bottom ...       117  \n",
       "798                                           [deleted]         9  \n",
       "820             cottage core? geez - also made in china        39  \n",
       "860    Why bother looks Shiite. be better to just read.        48  \n",
       "908   If you would like to check for more sustainabl...        94  \n",
       "947   shouldnt bother, ruining clothes and wasting p...        64  \n",
       "982   should have used your time more productively a...       249  \n",
       "1044                             arseholes overcharging        22  \n",
       "1082  Sorry to sound harsh, but it is pointless with...       234  \n",
       "1153  [https://thewellnessfeed.com/how-to-reinvigora...       202  \n",
       "1210  [www.climatechangeapparel.net](www.climatechan...       169  \n",
       "1211  Forgot to mention, we also donate profits to f...       104  \n",
       "1237  so wasting more resources to make them look Shit.        49  \n",
       "1393                       Madewell has tanks like this        28  \n",
       "1482  What the fk you on about who cares what you lo...       203  \n",
       "1504  i think we have bigger problems than a swastik...       522  \n",
       "1625  Dont save / spend / pander to these cunts over...        86  \n",
       "1631  size inclusive - for the ignorant greedy vain ...        97  \n",
       "1776  What do you mean by 'sustainable'? This is a a...        75  \n",
       "1791                       you are part of the problem.        28  \n",
       "1845   Such a great project!! Get in while it's early🚀🚀        48  \n",
       "1846                                        Great idea!        11  \n",
       "1847                      Amazing team and amazing devs        29  \n",
       "1848                                  We need moonboots        17  \n",
       "1887  I believe being convinced consuming specific p...       115  \n",
       "1922  all wool is ethical, as sheep are not killed t...        65  \n",
       "1954                                       dont be Vain        12  \n",
       "1960                                                 NO         2  \n",
       "1963  did you Need them ?  \n",
       "\n",
       "thats not how sustainab...        58  \n",
       "2051  don't believe the greenwashing hype these cunt...        60  \n",
       "2078                                          [deleted]         9  \n",
       "2120  one true Fictional character to make small min...        72  \n",
       "2285  Not a valid solution, just buy a few outfits a...       108  \n",
       "2519  It you can’t get people to not eat processed f...       211  \n",
       "2758                    why that unsustainable and daft        31  \n",
       "2852  you think owning 21 outfits is sustainable !!!...        51  \n",
       "2876  did you really need them tho ? .  cause if not...        78  "
      ]
     },
     "execution_count": 84,
     "metadata": {},
     "output_type": "execute_result"
    }
   ],
   "source": [
    "comment_df[comment_df['score'] < 0]"
   ]
  },
  {
   "cell_type": "markdown",
   "metadata": {},
   "source": [
    "I wonder what goes into a person's comment being downvoted rather than reported or banned."
   ]
  },
  {
   "cell_type": "markdown",
   "metadata": {},
   "source": [
    "### SQL sorting"
   ]
  },
  {
   "cell_type": "code",
   "execution_count": null,
   "metadata": {},
   "outputs": [],
   "source": [
    "import sqlite3"
   ]
  },
  {
   "cell_type": "code",
   "execution_count": 137,
   "metadata": {},
   "outputs": [],
   "source": [
    "conn = sqlite3.connect('sf_reddit.sqlite')\n",
    "sql = ('''SELECT * \n",
    "        FROM posts\n",
    "        INNER JOIN comments\n",
    "        ON posts.id = comments.post_id;''')\n",
    "results = conn.execute(sql).fetchall()\n",
    "joined_sql = pd.DataFrame(data=results)\n",
    "joined_sql.to_sql('compiled', con=conn, if_exists='append')\n",
    "conn.close()"
   ]
  },
  {
   "cell_type": "code",
   "execution_count": 138,
   "metadata": {},
   "outputs": [
    {
     "name": "stdout",
     "output_type": "stream",
     "text": [
      "<class 'pandas.core.frame.DataFrame'>\n",
      "RangeIndex: 2889 entries, 0 to 2888\n",
      "Data columns (total 16 columns):\n",
      " #   Column  Non-Null Count  Dtype \n",
      "---  ------  --------------  ----- \n",
      " 0   0       2889 non-null   Int64 \n",
      " 1   1       2889 non-null   Int64 \n",
      " 2   2       2889 non-null   string\n",
      " 3   3       2889 non-null   string\n",
      " 4   4       2889 non-null   string\n",
      " 5   5       2889 non-null   Int64 \n",
      " 6   6       2889 non-null   Int64 \n",
      " 7   7       2889 non-null   string\n",
      " 8   8       2889 non-null   Int64 \n",
      " 9   9       2889 non-null   string\n",
      " 10  10      2889 non-null   string\n",
      " 11  11      2889 non-null   Int64 \n",
      " 12  12      2889 non-null   Int64 \n",
      " 13  13      2889 non-null   string\n",
      " 14  14      2889 non-null   string\n",
      " 15  15      2889 non-null   string\n",
      "dtypes: Int64(7), string(9)\n",
      "memory usage: 381.0 KB\n"
     ]
    }
   ],
   "source": [
    "joined_sql = joined_sql.convert_dtypes()\n",
    "joined_sql.info()"
   ]
  },
  {
   "cell_type": "code",
   "execution_count": 139,
   "metadata": {},
   "outputs": [],
   "source": [
    "joined_sql[10] = joined_sql[10].str.contains('gallery|jpg|png|i.redd.it|v.redd.it|img|image|gif|mp4|mov')"
   ]
  },
  {
   "cell_type": "code",
   "execution_count": 140,
   "metadata": {},
   "outputs": [],
   "source": [
    "joined_sql[10] = le.fit_transform(joined_sql[10])"
   ]
  },
  {
   "cell_type": "code",
   "execution_count": 141,
   "metadata": {},
   "outputs": [],
   "source": [
    "joined_sql[16] = joined_sql[15].str.len()"
   ]
  },
  {
   "cell_type": "code",
   "execution_count": 143,
   "metadata": {},
   "outputs": [],
   "source": [
    "joined_sql.drop(columns={0,11,14}, inplace=True)"
   ]
  },
  {
   "cell_type": "code",
   "execution_count": 156,
   "metadata": {},
   "outputs": [],
   "source": [
    "joined_sql['Post title len'] = joined_sql['Post title'].str.len()\n",
    "joined_sql['Post text len'] = joined_sql['Post text'].str.len()"
   ]
  },
  {
   "cell_type": "code",
   "execution_count": 157,
   "metadata": {},
   "outputs": [
    {
     "data": {
      "text/html": [
       "<div>\n",
       "<style scoped>\n",
       "    .dataframe tbody tr th:only-of-type {\n",
       "        vertical-align: middle;\n",
       "    }\n",
       "\n",
       "    .dataframe tbody tr th {\n",
       "        vertical-align: top;\n",
       "    }\n",
       "\n",
       "    .dataframe thead th {\n",
       "        text-align: right;\n",
       "    }\n",
       "</style>\n",
       "<table border=\"1\" class=\"dataframe\">\n",
       "  <thead>\n",
       "    <tr style=\"text-align: right;\">\n",
       "      <th></th>\n",
       "      <th>Post has text</th>\n",
       "      <th>Post author</th>\n",
       "      <th>Post link</th>\n",
       "      <th>Post id</th>\n",
       "      <th>Post has video</th>\n",
       "      <th>Post_n_comments</th>\n",
       "      <th>Post title</th>\n",
       "      <th>Post score</th>\n",
       "      <th>Post text</th>\n",
       "      <th>Media-link</th>\n",
       "      <th>Comment score</th>\n",
       "      <th>Comment Author</th>\n",
       "      <th>Comment Text</th>\n",
       "      <th>Comment length</th>\n",
       "      <th>Post title len</th>\n",
       "      <th>Post text len</th>\n",
       "    </tr>\n",
       "  </thead>\n",
       "  <tbody>\n",
       "    <tr>\n",
       "      <th>0</th>\n",
       "      <td>0</td>\n",
       "      <td>boroboroclothing</td>\n",
       "      <td>/r/SustainableFashion/comments/l6it87/what_do_...</td>\n",
       "      <td>l6it87</td>\n",
       "      <td>0</td>\n",
       "      <td>26</td>\n",
       "      <td>What do you think about this Upcycled/Reworked...</td>\n",
       "      <td>412</td>\n",
       "      <td></td>\n",
       "      <td>1</td>\n",
       "      <td>22</td>\n",
       "      <td>MissCasey</td>\n",
       "      <td>This is dope! And honestly I bet Patagonia wou...</td>\n",
       "      <td>202</td>\n",
       "      <td>124</td>\n",
       "      <td>0</td>\n",
       "    </tr>\n",
       "    <tr>\n",
       "      <th>1</th>\n",
       "      <td>0</td>\n",
       "      <td>boroboroclothing</td>\n",
       "      <td>/r/SustainableFashion/comments/l6it87/what_do_...</td>\n",
       "      <td>l6it87</td>\n",
       "      <td>0</td>\n",
       "      <td>26</td>\n",
       "      <td>What do you think about this Upcycled/Reworked...</td>\n",
       "      <td>412</td>\n",
       "      <td></td>\n",
       "      <td>1</td>\n",
       "      <td>8</td>\n",
       "      <td>goodthingsinside_80</td>\n",
       "      <td>So cool!</td>\n",
       "      <td>8</td>\n",
       "      <td>124</td>\n",
       "      <td>0</td>\n",
       "    </tr>\n",
       "    <tr>\n",
       "      <th>2</th>\n",
       "      <td>0</td>\n",
       "      <td>boroboroclothing</td>\n",
       "      <td>/r/SustainableFashion/comments/l6it87/what_do_...</td>\n",
       "      <td>l6it87</td>\n",
       "      <td>0</td>\n",
       "      <td>26</td>\n",
       "      <td>What do you think about this Upcycled/Reworked...</td>\n",
       "      <td>412</td>\n",
       "      <td></td>\n",
       "      <td>1</td>\n",
       "      <td>7</td>\n",
       "      <td>luvs2meow</td>\n",
       "      <td>Love it!!! You’re very talented!! I’d love suc...</td>\n",
       "      <td>83</td>\n",
       "      <td>124</td>\n",
       "      <td>0</td>\n",
       "    </tr>\n",
       "    <tr>\n",
       "      <th>3</th>\n",
       "      <td>0</td>\n",
       "      <td>boroboroclothing</td>\n",
       "      <td>/r/SustainableFashion/comments/l6it87/what_do_...</td>\n",
       "      <td>l6it87</td>\n",
       "      <td>0</td>\n",
       "      <td>26</td>\n",
       "      <td>What do you think about this Upcycled/Reworked...</td>\n",
       "      <td>412</td>\n",
       "      <td></td>\n",
       "      <td>1</td>\n",
       "      <td>4</td>\n",
       "      <td>Balow08</td>\n",
       "      <td>Beautiful renovation</td>\n",
       "      <td>20</td>\n",
       "      <td>124</td>\n",
       "      <td>0</td>\n",
       "    </tr>\n",
       "    <tr>\n",
       "      <th>4</th>\n",
       "      <td>0</td>\n",
       "      <td>boroboroclothing</td>\n",
       "      <td>/r/SustainableFashion/comments/l6it87/what_do_...</td>\n",
       "      <td>l6it87</td>\n",
       "      <td>0</td>\n",
       "      <td>26</td>\n",
       "      <td>What do you think about this Upcycled/Reworked...</td>\n",
       "      <td>412</td>\n",
       "      <td></td>\n",
       "      <td>1</td>\n",
       "      <td>3</td>\n",
       "      <td>kollegekidkardashian</td>\n",
       "      <td>this is so cool! and fashionable</td>\n",
       "      <td>32</td>\n",
       "      <td>124</td>\n",
       "      <td>0</td>\n",
       "    </tr>\n",
       "    <tr>\n",
       "      <th>...</th>\n",
       "      <td>...</td>\n",
       "      <td>...</td>\n",
       "      <td>...</td>\n",
       "      <td>...</td>\n",
       "      <td>...</td>\n",
       "      <td>...</td>\n",
       "      <td>...</td>\n",
       "      <td>...</td>\n",
       "      <td>...</td>\n",
       "      <td>...</td>\n",
       "      <td>...</td>\n",
       "      <td>...</td>\n",
       "      <td>...</td>\n",
       "      <td>...</td>\n",
       "      <td>...</td>\n",
       "      <td>...</td>\n",
       "    </tr>\n",
       "    <tr>\n",
       "      <th>2884</th>\n",
       "      <td>1</td>\n",
       "      <td>2littleduckscameback</td>\n",
       "      <td>/r/SustainableFashion/comments/o1jl4t/business...</td>\n",
       "      <td>o1jl4t</td>\n",
       "      <td>0</td>\n",
       "      <td>3</td>\n",
       "      <td>Business clothes</td>\n",
       "      <td>7</td>\n",
       "      <td>Does anyone have recommendations for sustainab...</td>\n",
       "      <td>0</td>\n",
       "      <td>7</td>\n",
       "      <td>jrizzle115</td>\n",
       "      <td>My workplace is more on the business casual si...</td>\n",
       "      <td>223</td>\n",
       "      <td>16</td>\n",
       "      <td>210</td>\n",
       "    </tr>\n",
       "    <tr>\n",
       "      <th>2885</th>\n",
       "      <td>1</td>\n",
       "      <td>2littleduckscameback</td>\n",
       "      <td>/r/SustainableFashion/comments/o1jl4t/business...</td>\n",
       "      <td>o1jl4t</td>\n",
       "      <td>0</td>\n",
       "      <td>3</td>\n",
       "      <td>Business clothes</td>\n",
       "      <td>7</td>\n",
       "      <td>Does anyone have recommendations for sustainab...</td>\n",
       "      <td>0</td>\n",
       "      <td>1</td>\n",
       "      <td>KCMasterpeirce</td>\n",
       "      <td>The Good Trade publishes lists for ethical clo...</td>\n",
       "      <td>171</td>\n",
       "      <td>16</td>\n",
       "      <td>210</td>\n",
       "    </tr>\n",
       "    <tr>\n",
       "      <th>2886</th>\n",
       "      <td>1</td>\n",
       "      <td>These_Lingonberry_22</td>\n",
       "      <td>/r/SustainableFashion/comments/n1m9kh/what_get...</td>\n",
       "      <td>n1m9kh</td>\n",
       "      <td>0</td>\n",
       "      <td>10</td>\n",
       "      <td>What gets you started to love sustainable brands?</td>\n",
       "      <td>7</td>\n",
       "      <td>Just wanted to know a little bit more about wh...</td>\n",
       "      <td>0</td>\n",
       "      <td>5</td>\n",
       "      <td>wallace320</td>\n",
       "      <td>For me it was learning about the environmental...</td>\n",
       "      <td>211</td>\n",
       "      <td>49</td>\n",
       "      <td>821</td>\n",
       "    </tr>\n",
       "    <tr>\n",
       "      <th>2887</th>\n",
       "      <td>1</td>\n",
       "      <td>These_Lingonberry_22</td>\n",
       "      <td>/r/SustainableFashion/comments/n1m9kh/what_get...</td>\n",
       "      <td>n1m9kh</td>\n",
       "      <td>0</td>\n",
       "      <td>10</td>\n",
       "      <td>What gets you started to love sustainable brands?</td>\n",
       "      <td>7</td>\n",
       "      <td>Just wanted to know a little bit more about wh...</td>\n",
       "      <td>0</td>\n",
       "      <td>2</td>\n",
       "      <td></td>\n",
       "      <td>I’ve not yet moved to purchasing sustainable b...</td>\n",
       "      <td>504</td>\n",
       "      <td>49</td>\n",
       "      <td>821</td>\n",
       "    </tr>\n",
       "    <tr>\n",
       "      <th>2888</th>\n",
       "      <td>1</td>\n",
       "      <td>These_Lingonberry_22</td>\n",
       "      <td>/r/SustainableFashion/comments/n1m9kh/what_get...</td>\n",
       "      <td>n1m9kh</td>\n",
       "      <td>0</td>\n",
       "      <td>10</td>\n",
       "      <td>What gets you started to love sustainable brands?</td>\n",
       "      <td>7</td>\n",
       "      <td>Just wanted to know a little bit more about wh...</td>\n",
       "      <td>0</td>\n",
       "      <td>2</td>\n",
       "      <td>feyzakuran</td>\n",
       "      <td>The \"sustainability\" class (Haliç University -...</td>\n",
       "      <td>79</td>\n",
       "      <td>49</td>\n",
       "      <td>821</td>\n",
       "    </tr>\n",
       "  </tbody>\n",
       "</table>\n",
       "<p>2889 rows × 16 columns</p>\n",
       "</div>"
      ],
      "text/plain": [
       "      Post has text           Post author  \\\n",
       "0                 0      boroboroclothing   \n",
       "1                 0      boroboroclothing   \n",
       "2                 0      boroboroclothing   \n",
       "3                 0      boroboroclothing   \n",
       "4                 0      boroboroclothing   \n",
       "...             ...                   ...   \n",
       "2884              1  2littleduckscameback   \n",
       "2885              1  2littleduckscameback   \n",
       "2886              1  These_Lingonberry_22   \n",
       "2887              1  These_Lingonberry_22   \n",
       "2888              1  These_Lingonberry_22   \n",
       "\n",
       "                                              Post link Post id  \\\n",
       "0     /r/SustainableFashion/comments/l6it87/what_do_...  l6it87   \n",
       "1     /r/SustainableFashion/comments/l6it87/what_do_...  l6it87   \n",
       "2     /r/SustainableFashion/comments/l6it87/what_do_...  l6it87   \n",
       "3     /r/SustainableFashion/comments/l6it87/what_do_...  l6it87   \n",
       "4     /r/SustainableFashion/comments/l6it87/what_do_...  l6it87   \n",
       "...                                                 ...     ...   \n",
       "2884  /r/SustainableFashion/comments/o1jl4t/business...  o1jl4t   \n",
       "2885  /r/SustainableFashion/comments/o1jl4t/business...  o1jl4t   \n",
       "2886  /r/SustainableFashion/comments/n1m9kh/what_get...  n1m9kh   \n",
       "2887  /r/SustainableFashion/comments/n1m9kh/what_get...  n1m9kh   \n",
       "2888  /r/SustainableFashion/comments/n1m9kh/what_get...  n1m9kh   \n",
       "\n",
       "      Post has video  Post_n_comments  \\\n",
       "0                  0               26   \n",
       "1                  0               26   \n",
       "2                  0               26   \n",
       "3                  0               26   \n",
       "4                  0               26   \n",
       "...              ...              ...   \n",
       "2884               0                3   \n",
       "2885               0                3   \n",
       "2886               0               10   \n",
       "2887               0               10   \n",
       "2888               0               10   \n",
       "\n",
       "                                             Post title  Post score  \\\n",
       "0     What do you think about this Upcycled/Reworked...         412   \n",
       "1     What do you think about this Upcycled/Reworked...         412   \n",
       "2     What do you think about this Upcycled/Reworked...         412   \n",
       "3     What do you think about this Upcycled/Reworked...         412   \n",
       "4     What do you think about this Upcycled/Reworked...         412   \n",
       "...                                                 ...         ...   \n",
       "2884                                   Business clothes           7   \n",
       "2885                                   Business clothes           7   \n",
       "2886  What gets you started to love sustainable brands?           7   \n",
       "2887  What gets you started to love sustainable brands?           7   \n",
       "2888  What gets you started to love sustainable brands?           7   \n",
       "\n",
       "                                              Post text  Media-link  \\\n",
       "0                                                                 1   \n",
       "1                                                                 1   \n",
       "2                                                                 1   \n",
       "3                                                                 1   \n",
       "4                                                                 1   \n",
       "...                                                 ...         ...   \n",
       "2884  Does anyone have recommendations for sustainab...           0   \n",
       "2885  Does anyone have recommendations for sustainab...           0   \n",
       "2886  Just wanted to know a little bit more about wh...           0   \n",
       "2887  Just wanted to know a little bit more about wh...           0   \n",
       "2888  Just wanted to know a little bit more about wh...           0   \n",
       "\n",
       "      Comment score        Comment Author  \\\n",
       "0                22             MissCasey   \n",
       "1                 8   goodthingsinside_80   \n",
       "2                 7             luvs2meow   \n",
       "3                 4               Balow08   \n",
       "4                 3  kollegekidkardashian   \n",
       "...             ...                   ...   \n",
       "2884              7            jrizzle115   \n",
       "2885              1        KCMasterpeirce   \n",
       "2886              5            wallace320   \n",
       "2887              2                         \n",
       "2888              2            feyzakuran   \n",
       "\n",
       "                                           Comment Text  Comment length  \\\n",
       "0     This is dope! And honestly I bet Patagonia wou...             202   \n",
       "1                                              So cool!               8   \n",
       "2     Love it!!! You’re very talented!! I’d love suc...              83   \n",
       "3                                  Beautiful renovation              20   \n",
       "4                      this is so cool! and fashionable              32   \n",
       "...                                                 ...             ...   \n",
       "2884  My workplace is more on the business casual si...             223   \n",
       "2885  The Good Trade publishes lists for ethical clo...             171   \n",
       "2886  For me it was learning about the environmental...             211   \n",
       "2887  I’ve not yet moved to purchasing sustainable b...             504   \n",
       "2888  The \"sustainability\" class (Haliç University -...              79   \n",
       "\n",
       "      Post title len  Post text len  \n",
       "0                124              0  \n",
       "1                124              0  \n",
       "2                124              0  \n",
       "3                124              0  \n",
       "4                124              0  \n",
       "...              ...            ...  \n",
       "2884              16            210  \n",
       "2885              16            210  \n",
       "2886              49            821  \n",
       "2887              49            821  \n",
       "2888              49            821  \n",
       "\n",
       "[2889 rows x 16 columns]"
      ]
     },
     "execution_count": 157,
     "metadata": {},
     "output_type": "execute_result"
    }
   ],
   "source": [
    "joined_sql.rename(columns={1:'Post has text', 2:'Post author', 3:'Post link', 4:'Post id', 5:'Post has video',\n",
    "                           6:'Post_n_comments', 7:'Post title',8:'Post score',9:'Post text',10:'Media-link',\n",
    "                           12:'Comment score',13:'Comment Author',14:'Comment Post ID',15:'Comment Text',16:'Comment length'}, inplace=True)\n",
    "joined_sql"
   ]
  },
  {
   "cell_type": "code",
   "execution_count": 146,
   "metadata": {},
   "outputs": [
    {
     "data": {
      "text/plain": [
       "['/r/SustainableFashion/comments/k8cp1q/looking_for_sustainable_brands_with_a_similar/',\n",
       " '/r/SustainableFashion/comments/kxwrrk/hi_i_made_vegan_leather_clothing_out_of_dried_out/',\n",
       " '/r/SustainableFashion/comments/kxwrrk/hi_i_made_vegan_leather_clothing_out_of_dried_out/',\n",
       " '/r/SustainableFashion/comments/ii3h0t/why_sustainable_fashion_is_so_expensive/']"
      ]
     },
     "execution_count": 146,
     "metadata": {},
     "output_type": "execute_result"
    }
   ],
   "source": [
    "joined_sql[joined_sql['Comment score'] > 60]['Post link'].to_list()"
   ]
  },
  {
   "cell_type": "code",
   "execution_count": 145,
   "metadata": {
    "scrolled": false
   },
   "outputs": [
    {
     "data": {
      "text/plain": [
       "['/r/SustainableFashion/comments/l6it87/what_do_you_think_about_this_upcycledreworked/',\n",
       " '/r/SustainableFashion/comments/l6it87/what_do_you_think_about_this_upcycledreworked/',\n",
       " '/r/SustainableFashion/comments/l6it87/what_do_you_think_about_this_upcycledreworked/',\n",
       " '/r/SustainableFashion/comments/l6it87/what_do_you_think_about_this_upcycledreworked/',\n",
       " '/r/SustainableFashion/comments/l6it87/what_do_you_think_about_this_upcycledreworked/',\n",
       " '/r/SustainableFashion/comments/l6it87/what_do_you_think_about_this_upcycledreworked/',\n",
       " '/r/SustainableFashion/comments/l6it87/what_do_you_think_about_this_upcycledreworked/',\n",
       " '/r/SustainableFashion/comments/l6it87/what_do_you_think_about_this_upcycledreworked/',\n",
       " '/r/SustainableFashion/comments/l6it87/what_do_you_think_about_this_upcycledreworked/',\n",
       " '/r/SustainableFashion/comments/l6it87/what_do_you_think_about_this_upcycledreworked/',\n",
       " '/r/SustainableFashion/comments/l6it87/what_do_you_think_about_this_upcycledreworked/',\n",
       " '/r/SustainableFashion/comments/l6it87/what_do_you_think_about_this_upcycledreworked/',\n",
       " '/r/SustainableFashion/comments/l6it87/what_do_you_think_about_this_upcycledreworked/',\n",
       " '/r/SustainableFashion/comments/l6it87/what_do_you_think_about_this_upcycledreworked/',\n",
       " '/r/SustainableFashion/comments/l1k9je/bernies_memed_mittens_made_by_a_teacher_in_vermont/',\n",
       " '/r/SustainableFashion/comments/l1k9je/bernies_memed_mittens_made_by_a_teacher_in_vermont/',\n",
       " '/r/SustainableFashion/comments/l1k9je/bernies_memed_mittens_made_by_a_teacher_in_vermont/',\n",
       " '/r/SustainableFashion/comments/l1k9je/bernies_memed_mittens_made_by_a_teacher_in_vermont/',\n",
       " '/r/SustainableFashion/comments/l1k9je/bernies_memed_mittens_made_by_a_teacher_in_vermont/',\n",
       " '/r/SustainableFashion/comments/l1k9je/bernies_memed_mittens_made_by_a_teacher_in_vermont/',\n",
       " '/r/SustainableFashion/comments/l1k9je/bernies_memed_mittens_made_by_a_teacher_in_vermont/',\n",
       " '/r/SustainableFashion/comments/l1k9je/bernies_memed_mittens_made_by_a_teacher_in_vermont/']"
      ]
     },
     "execution_count": 145,
     "metadata": {},
     "output_type": "execute_result"
    }
   ],
   "source": [
    "joined_sql[joined_sql['Post score'] > 400]['Post link'].to_list()"
   ]
  },
  {
   "cell_type": "code",
   "execution_count": 154,
   "metadata": {
    "scrolled": false
   },
   "outputs": [
    {
     "data": {
      "text/plain": [
       "<AxesSubplot:>"
      ]
     },
     "execution_count": 154,
     "metadata": {},
     "output_type": "execute_result"
    },
    {
     "data": {
      "image/png": "[encoded data removed]",
      "text/plain": [
       "<Figure size 432x288 with 1 Axes>"
      ]
     },
     "metadata": {
      "needs_background": "light"
     },
     "output_type": "display_data"
    }
   ],
   "source": [
    "post_df.boxplot('score')\n",
    "joined_sql.boxplot('Post score')\n",
    "joined_sql.boxplot('Comment score')"
   ]
  },
  {
   "cell_type": "markdown",
   "metadata": {},
   "source": [
    "I love sql for enhancing the data visualization as well as predictive analyses by way of layering. I have one dataset for just the top post scores from the subreddit, another for the top comments, and one that is these tables joined through SQL based on the post id. These all show separate information. The joined sql can analyze the weight of the comment scores on top posts more clearly than the two separate dataframes could alone. You can also extract many differnt table configurations to answer different questions based on the data."
   ]
  },
  {
   "cell_type": "code",
   "execution_count": 162,
   "metadata": {
    "scrolled": true
   },
   "outputs": [
    {
     "data": {
      "text/plain": [
       "<AxesSubplot:xlabel='Comment score', ylabel='Post score'>"
      ]
     },
     "execution_count": 162,
     "metadata": {},
     "output_type": "execute_result"
    },
    {
     "data": {
      "image/png": "[encoded data removed]",
      "text/plain": [
       "<Figure size 432x288 with 1 Axes>"
      ]
     },
     "metadata": {
      "needs_background": "light"
     },
     "output_type": "display_data"
    }
   ],
   "source": [
    "import seaborn as sns\n",
    "\n",
    "sns.scatterplot(data=joined_sql, x='Comment score', y='Post score', hue='Media-link')"
   ]
  },
  {
   "cell_type": "code",
   "execution_count": 167,
   "metadata": {},
   "outputs": [
    {
     "data": {
      "text/plain": [
       "<AxesSubplot:xlabel='score', ylabel='n_comments'>"
      ]
     },
     "execution_count": 167,
     "metadata": {},
     "output_type": "execute_result"
    },
    {
     "data": {
      "image/png": "[encoded data removed]",
      "text/plain": [
       "<Figure size 432x288 with 1 Axes>"
      ]
     },
     "metadata": {
      "needs_background": "light"
     },
     "output_type": "display_data"
    }
   ],
   "source": [
    "sns.scatterplot(data=post_df, x='score', y='n_comments', hue='media-link')"
   ]
  },
  {
   "cell_type": "code",
   "execution_count": 171,
   "metadata": {},
   "outputs": [
    {
     "data": {
      "text/plain": [
       "<AxesSubplot:xlabel='Post score', ylabel='Count'>"
      ]
     },
     "execution_count": 171,
     "metadata": {},
     "output_type": "execute_result"
    },
    {
     "data": {
      "image/png": "[encoded data removed]",
      "text/plain": [
       "<Figure size 432x288 with 1 Axes>"
      ]
     },
     "metadata": {
      "needs_background": "light"
     },
     "output_type": "display_data"
    }
   ],
   "source": [
    "sns.histplot(joined_sql, x='Post score', hue='Media-link', bins=10)"
   ]
  },
  {
   "cell_type": "code",
   "execution_count": 173,
   "metadata": {
    "scrolled": false
   },
   "outputs": [
    {
     "data": {
      "text/plain": [
       "<seaborn.axisgrid.FacetGrid at 0x1e7646a7280>"
      ]
     },
     "execution_count": 173,
     "metadata": {},
     "output_type": "execute_result"
    },
    {
     "data": {
      "image/png": "[encoded data removed]",
      "text/plain": [
       "<Figure size 419.625x360 with 1 Axes>"
      ]
     },
     "metadata": {
      "needs_background": "light"
     },
     "output_type": "display_data"
    },
    {
     "data": {
      "image/png": "[encoded data removed]",
      "text/plain": [
       "<Figure size 419.625x360 with 1 Axes>"
      ]
     },
     "metadata": {
      "needs_background": "light"
     },
     "output_type": "display_data"
    }
   ],
   "source": [
    "sns.relplot(data=joined_sql, x=\"Post title len\", y=\"Post score\", hue='Media-link')\n",
    "sns.relplot(data=joined_sql, x=\"Post_n_comments\", y=\"Comment score\", hue='Media-link')"
   ]
  },
  {
   "cell_type": "markdown",
   "metadata": {},
   "source": [
    "## I wondered about the top words used in the titles of posts"
   ]
  },
  {
   "cell_type": "code",
   "execution_count": 177,
   "metadata": {
    "scrolled": true
   },
   "outputs": [],
   "source": [
    "import nltk\n",
    "from nltk.corpus import stopwords\n",
    "\n",
    "stops = stopwords.words('english')\n",
    "stops = set(stops) | set({\"-\", \"&\", \"sustainable\", \"fashion\", \"really\"})\n",
    "sf_posttitle_words = ' '.join(joined_sql['Post title']).lower().split()\n",
    "sf_commenttext_words = ' '.join(joined_sql['Comment Text']).lower().split()\n",
    "post_words = [w for w in sf_posttitle_words if w not in set(stops)]\n",
    "comment_words = [w for w in sf_commenttext_words if w not in set(stops)]\n",
    "\n",
    "fd_post = nltk.FreqDist(post_words)\n",
    "fd_comment = nltk.FreqDist(comment_words)"
   ]
  },
  {
   "cell_type": "code",
   "execution_count": 178,
   "metadata": {},
   "outputs": [
    {
     "data": {
      "text/plain": [
       "[('made', 468),\n",
       " ('brands', 275),\n",
       " ('clothing', 225),\n",
       " ('old', 182),\n",
       " ('new', 147),\n",
       " ('brand', 147),\n",
       " ('clothes', 135),\n",
       " ('ethical', 135),\n",
       " ('looking', 130),\n",
       " ('like', 120),\n",
       " ('know', 119),\n",
       " ('make', 108),\n",
       " ('think', 106),\n",
       " ('love', 99),\n",
       " ('would', 98),\n",
       " ('upcycled', 94),\n",
       " ('brands?', 90),\n",
       " (':)', 89),\n",
       " ('thrift', 86),\n",
       " ('dress', 83)]"
      ]
     },
     "execution_count": 178,
     "metadata": {},
     "output_type": "execute_result"
    }
   ],
   "source": [
    "fd_post.most_common(20)"
   ]
  },
  {
   "cell_type": "code",
   "execution_count": 179,
   "metadata": {},
   "outputs": [
    {
     "data": {
      "text/plain": [
       "[('like', 497),\n",
       " ('love', 382),\n",
       " ('would', 349),\n",
       " ('also', 335),\n",
       " ('brands', 315),\n",
       " ('good', 288),\n",
       " ('made', 258),\n",
       " ('think', 246),\n",
       " ('make', 246),\n",
       " ('great', 242),\n",
       " ('clothes', 230),\n",
       " ('people', 224),\n",
       " ('brand', 222),\n",
       " ('get', 216),\n",
       " ('one', 213),\n",
       " ('buy', 213),\n",
       " ('it’s', 202),\n",
       " ('know', 192),\n",
       " ('look', 189),\n",
       " ('find', 188)]"
      ]
     },
     "execution_count": 179,
     "metadata": {},
     "output_type": "execute_result"
    }
   ],
   "source": [
    "fd_comment.most_common(20)"
   ]
  },
  {
   "cell_type": "code",
   "execution_count": 181,
   "metadata": {},
   "outputs": [
    {
     "data": {
      "image/png": "[encoded data removed]",
      "text/plain": [
       "<Figure size 432x288 with 1 Axes>"
      ]
     },
     "metadata": {
      "needs_background": "light"
     },
     "output_type": "display_data"
    },
    {
     "data": {
      "text/plain": [
       "<AxesSubplot:xlabel='Samples', ylabel='Counts'>"
      ]
     },
     "execution_count": 181,
     "metadata": {},
     "output_type": "execute_result"
    }
   ],
   "source": [
    "fd_post.plot(20)"
   ]
  },
  {
   "cell_type": "code",
   "execution_count": 180,
   "metadata": {},
   "outputs": [
    {
     "data": {
      "image/png": "[encoded data removed]",
      "text/plain": [
       "<Figure size 432x288 with 1 Axes>"
      ]
     },
     "metadata": {
      "needs_background": "light"
     },
     "output_type": "display_data"
    },
    {
     "data": {
      "text/plain": [
       "<AxesSubplot:xlabel='Samples', ylabel='Counts'>"
      ]
     },
     "execution_count": 180,
     "metadata": {},
     "output_type": "execute_result"
    }
   ],
   "source": [
    "fd_comment.plot(20)"
   ]
  },
  {
   "cell_type": "markdown",
   "metadata": {},
   "source": [
    "# Analysis"
   ]
  },
  {
   "cell_type": "markdown",
   "metadata": {},
   "source": [
    "This process was very interesting and left me wanting more. I practiced joining sql tables, reorganizing, running text-analysis, adding and removing columns, creating edas. I really like how the inclusion of sql makes the data preperation side much easier and saving the data much more convenient. Though I am noticing I need to load my git conmmits more frequently based on the optimizations I try, so I have something to bo back to if it fails. \n",
    "\n",
    "As for results I did find that more negative comments that were demeaning and maybe hurtful had the greatest number of negative comment scores. Also, posts with images have greater post scores. I will continue to find insights now that I am better at prepping the data."
   ]
  },
  {
   "cell_type": "code",
   "execution_count": null,
   "metadata": {},
   "outputs": [],
   "source": []
  }
 ],
 "metadata": {
  "kernelspec": {
   "display_name": "Python 3",
   "language": "python",
   "name": "python3"
  },
  "language_info": {
   "codemirror_mode": {
    "name": "ipython",
    "version": 3
   },
   "file_extension": ".py",
   "mimetype": "text/x-python",
   "name": "python",
   "nbconvert_exporter": "python",
   "pygments_lexer": "ipython3",
   "version": "3.8.5"
  }
 },
 "nbformat": 4,
 "nbformat_minor": 5
}
